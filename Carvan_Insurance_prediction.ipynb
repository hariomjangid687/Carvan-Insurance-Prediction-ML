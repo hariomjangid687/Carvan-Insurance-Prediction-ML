{
 "cells": [
  {
   "cell_type": "code",
   "execution_count": 1,
   "metadata": {},
   "outputs": [],
   "source": [
    "import pandas as pd\n",
    "import numpy as np\n",
    "import seaborn as sns\n",
    "import matplotlib.pyplot as plt\n",
    "%matplotlib inline"
   ]
  },
  {
   "cell_type": "code",
   "execution_count": 2,
   "metadata": {},
   "outputs": [],
   "source": [
    "path1=r\"C:/Users/User/Documents/Project 2/carvan_train.csv\"\n",
    "path2=r\"C:/Users/User/Documents/Project 2/carvan_test.csv\"\n",
    "\n",
    "#reading training data\n",
    "bd_train=pd.read_csv(path1)\n",
    "#reading test data\n",
    "bd_test=pd.read_csv(path2)"
   ]
  },
  {
   "cell_type": "code",
   "execution_count": 3,
   "metadata": {},
   "outputs": [],
   "source": [
    "#Now we will concat these datasets for data preprocesssing \n",
    "bd_test['V86']=np.NaN\n",
    "bd_train['data']=\"train\"\n",
    "bd_test['data']=\"test\"\n",
    "bd_test=bd_test[bd_train.columns]\n",
    "bd_all=pd.concat([bd_train,bd_test],axis=0)"
   ]
  },
  {
   "cell_type": "code",
   "execution_count": 4,
   "metadata": {},
   "outputs": [
    {
     "data": {
      "text/html": [
       "<div>\n",
       "<style scoped>\n",
       "    .dataframe tbody tr th:only-of-type {\n",
       "        vertical-align: middle;\n",
       "    }\n",
       "\n",
       "    .dataframe tbody tr th {\n",
       "        vertical-align: top;\n",
       "    }\n",
       "\n",
       "    .dataframe thead th {\n",
       "        text-align: right;\n",
       "    }\n",
       "</style>\n",
       "<table border=\"1\" class=\"dataframe\">\n",
       "  <thead>\n",
       "    <tr style=\"text-align: right;\">\n",
       "      <th></th>\n",
       "      <th>V1</th>\n",
       "      <th>V2</th>\n",
       "      <th>V3</th>\n",
       "      <th>V4</th>\n",
       "      <th>V5</th>\n",
       "      <th>V6</th>\n",
       "      <th>V7</th>\n",
       "      <th>V8</th>\n",
       "      <th>V9</th>\n",
       "      <th>V10</th>\n",
       "      <th>...</th>\n",
       "      <th>V78</th>\n",
       "      <th>V79</th>\n",
       "      <th>V80</th>\n",
       "      <th>V81</th>\n",
       "      <th>V82</th>\n",
       "      <th>V83</th>\n",
       "      <th>V84</th>\n",
       "      <th>V85</th>\n",
       "      <th>V86</th>\n",
       "      <th>data</th>\n",
       "    </tr>\n",
       "  </thead>\n",
       "  <tbody>\n",
       "    <tr>\n",
       "      <th>0</th>\n",
       "      <td>33</td>\n",
       "      <td>1</td>\n",
       "      <td>3</td>\n",
       "      <td>2</td>\n",
       "      <td>8</td>\n",
       "      <td>0</td>\n",
       "      <td>5</td>\n",
       "      <td>1</td>\n",
       "      <td>3</td>\n",
       "      <td>7</td>\n",
       "      <td>...</td>\n",
       "      <td>0</td>\n",
       "      <td>0</td>\n",
       "      <td>1</td>\n",
       "      <td>0</td>\n",
       "      <td>0</td>\n",
       "      <td>0</td>\n",
       "      <td>0</td>\n",
       "      <td>0</td>\n",
       "      <td>0.0</td>\n",
       "      <td>train</td>\n",
       "    </tr>\n",
       "    <tr>\n",
       "      <th>1</th>\n",
       "      <td>37</td>\n",
       "      <td>1</td>\n",
       "      <td>2</td>\n",
       "      <td>2</td>\n",
       "      <td>8</td>\n",
       "      <td>1</td>\n",
       "      <td>4</td>\n",
       "      <td>1</td>\n",
       "      <td>4</td>\n",
       "      <td>6</td>\n",
       "      <td>...</td>\n",
       "      <td>0</td>\n",
       "      <td>0</td>\n",
       "      <td>1</td>\n",
       "      <td>0</td>\n",
       "      <td>0</td>\n",
       "      <td>0</td>\n",
       "      <td>0</td>\n",
       "      <td>0</td>\n",
       "      <td>0.0</td>\n",
       "      <td>train</td>\n",
       "    </tr>\n",
       "    <tr>\n",
       "      <th>2</th>\n",
       "      <td>37</td>\n",
       "      <td>1</td>\n",
       "      <td>2</td>\n",
       "      <td>2</td>\n",
       "      <td>8</td>\n",
       "      <td>0</td>\n",
       "      <td>4</td>\n",
       "      <td>2</td>\n",
       "      <td>4</td>\n",
       "      <td>3</td>\n",
       "      <td>...</td>\n",
       "      <td>0</td>\n",
       "      <td>0</td>\n",
       "      <td>1</td>\n",
       "      <td>0</td>\n",
       "      <td>0</td>\n",
       "      <td>0</td>\n",
       "      <td>0</td>\n",
       "      <td>0</td>\n",
       "      <td>0.0</td>\n",
       "      <td>train</td>\n",
       "    </tr>\n",
       "    <tr>\n",
       "      <th>3</th>\n",
       "      <td>9</td>\n",
       "      <td>1</td>\n",
       "      <td>3</td>\n",
       "      <td>3</td>\n",
       "      <td>3</td>\n",
       "      <td>2</td>\n",
       "      <td>3</td>\n",
       "      <td>2</td>\n",
       "      <td>4</td>\n",
       "      <td>5</td>\n",
       "      <td>...</td>\n",
       "      <td>0</td>\n",
       "      <td>0</td>\n",
       "      <td>1</td>\n",
       "      <td>0</td>\n",
       "      <td>0</td>\n",
       "      <td>0</td>\n",
       "      <td>0</td>\n",
       "      <td>0</td>\n",
       "      <td>0.0</td>\n",
       "      <td>train</td>\n",
       "    </tr>\n",
       "    <tr>\n",
       "      <th>4</th>\n",
       "      <td>40</td>\n",
       "      <td>1</td>\n",
       "      <td>4</td>\n",
       "      <td>2</td>\n",
       "      <td>10</td>\n",
       "      <td>1</td>\n",
       "      <td>4</td>\n",
       "      <td>1</td>\n",
       "      <td>4</td>\n",
       "      <td>7</td>\n",
       "      <td>...</td>\n",
       "      <td>0</td>\n",
       "      <td>0</td>\n",
       "      <td>1</td>\n",
       "      <td>0</td>\n",
       "      <td>0</td>\n",
       "      <td>0</td>\n",
       "      <td>0</td>\n",
       "      <td>0</td>\n",
       "      <td>0.0</td>\n",
       "      <td>train</td>\n",
       "    </tr>\n",
       "  </tbody>\n",
       "</table>\n",
       "<p>5 rows × 87 columns</p>\n",
       "</div>"
      ],
      "text/plain": [
       "   V1  V2  V3  V4  V5  V6  V7  V8  V9  V10  ...  V78  V79  V80  V81  V82  V83  \\\n",
       "0  33   1   3   2   8   0   5   1   3    7  ...    0    0    1    0    0    0   \n",
       "1  37   1   2   2   8   1   4   1   4    6  ...    0    0    1    0    0    0   \n",
       "2  37   1   2   2   8   0   4   2   4    3  ...    0    0    1    0    0    0   \n",
       "3   9   1   3   3   3   2   3   2   4    5  ...    0    0    1    0    0    0   \n",
       "4  40   1   4   2  10   1   4   1   4    7  ...    0    0    1    0    0    0   \n",
       "\n",
       "   V84  V85  V86   data  \n",
       "0    0    0  0.0  train  \n",
       "1    0    0  0.0  train  \n",
       "2    0    0  0.0  train  \n",
       "3    0    0  0.0  train  \n",
       "4    0    0  0.0  train  \n",
       "\n",
       "[5 rows x 87 columns]"
      ]
     },
     "execution_count": 4,
     "metadata": {},
     "output_type": "execute_result"
    }
   ],
   "source": [
    "bd_all.head()"
   ]
  },
  {
   "cell_type": "code",
   "execution_count": 5,
   "metadata": {},
   "outputs": [
    {
     "data": {
      "text/plain": [
       "0.0    5474\n",
       "1.0     348\n",
       "Name: V86, dtype: int64"
      ]
     },
     "execution_count": 5,
     "metadata": {},
     "output_type": "execute_result"
    }
   ],
   "source": [
    "#V86 is our dependent(target) variable\n",
    "bd_all['V86'].value_counts()"
   ]
  },
  {
   "cell_type": "code",
   "execution_count": 6,
   "metadata": {},
   "outputs": [
    {
     "data": {
      "text/plain": [
       "[('V1', dtype('int64'), 40),\n",
       " ('V2', dtype('int64'), 9),\n",
       " ('V3', dtype('int64'), 6),\n",
       " ('V4', dtype('int64'), 6),\n",
       " ('V5', dtype('int64'), 10),\n",
       " ('V6', dtype('int64'), 10),\n",
       " ('V7', dtype('int64'), 10),\n",
       " ('V8', dtype('int64'), 6),\n",
       " ('V9', dtype('int64'), 10),\n",
       " ('V10', dtype('int64'), 10),\n",
       " ('V11', dtype('int64'), 8),\n",
       " ('V12', dtype('int64'), 10),\n",
       " ('V13', dtype('int64'), 10),\n",
       " ('V14', dtype('int64'), 10),\n",
       " ('V15', dtype('int64'), 10),\n",
       " ('V16', dtype('int64'), 10),\n",
       " ('V17', dtype('int64'), 10),\n",
       " ('V18', dtype('int64'), 10),\n",
       " ('V19', dtype('int64'), 10),\n",
       " ('V20', dtype('int64'), 6),\n",
       " ('V21', dtype('int64'), 10),\n",
       " ('V22', dtype('int64'), 10),\n",
       " ('V23', dtype('int64'), 10),\n",
       " ('V24', dtype('int64'), 10),\n",
       " ('V25', dtype('int64'), 10),\n",
       " ('V26', dtype('int64'), 10),\n",
       " ('V27', dtype('int64'), 10),\n",
       " ('V28', dtype('int64'), 10),\n",
       " ('V29', dtype('int64'), 10),\n",
       " ('V30', dtype('int64'), 10),\n",
       " ('V31', dtype('int64'), 10),\n",
       " ('V32', dtype('int64'), 10),\n",
       " ('V33', dtype('int64'), 9),\n",
       " ('V34', dtype('int64'), 10),\n",
       " ('V35', dtype('int64'), 10),\n",
       " ('V36', dtype('int64'), 10),\n",
       " ('V37', dtype('int64'), 10),\n",
       " ('V38', dtype('int64'), 10),\n",
       " ('V39', dtype('int64'), 10),\n",
       " ('V40', dtype('int64'), 10),\n",
       " ('V41', dtype('int64'), 9),\n",
       " ('V42', dtype('int64'), 10),\n",
       " ('V43', dtype('int64'), 8),\n",
       " ('V44', dtype('int64'), 4),\n",
       " ('V45', dtype('int64'), 7),\n",
       " ('V46', dtype('int64'), 5),\n",
       " ('V47', dtype('int64'), 7),\n",
       " ('V48', dtype('int64'), 4),\n",
       " ('V49', dtype('int64'), 6),\n",
       " ('V50', dtype('int64'), 5),\n",
       " ('V51', dtype('int64'), 6),\n",
       " ('V52', dtype('int64'), 6),\n",
       " ('V53', dtype('int64'), 6),\n",
       " ('V54', dtype('int64'), 6),\n",
       " ('V55', dtype('int64'), 10),\n",
       " ('V56', dtype('int64'), 7),\n",
       " ('V57', dtype('int64'), 3),\n",
       " ('V58', dtype('int64'), 5),\n",
       " ('V59', dtype('int64'), 9),\n",
       " ('V60', dtype('int64'), 4),\n",
       " ('V61', dtype('int64'), 7),\n",
       " ('V62', dtype('int64'), 2),\n",
       " ('V63', dtype('int64'), 7),\n",
       " ('V64', dtype('int64'), 5),\n",
       " ('V65', dtype('int64'), 3),\n",
       " ('V66', dtype('int64'), 3),\n",
       " ('V67', dtype('int64'), 2),\n",
       " ('V68', dtype('int64'), 9),\n",
       " ('V69', dtype('int64'), 6),\n",
       " ('V70', dtype('int64'), 5),\n",
       " ('V71', dtype('int64'), 5),\n",
       " ('V72', dtype('int64'), 4),\n",
       " ('V73', dtype('int64'), 7),\n",
       " ('V74', dtype('int64'), 6),\n",
       " ('V75', dtype('int64'), 4),\n",
       " ('V76', dtype('int64'), 7),\n",
       " ('V77', dtype('int64'), 2),\n",
       " ('V78', dtype('int64'), 2),\n",
       " ('V79', dtype('int64'), 3),\n",
       " ('V80', dtype('int64'), 8),\n",
       " ('V81', dtype('int64'), 2),\n",
       " ('V82', dtype('int64'), 3),\n",
       " ('V83', dtype('int64'), 5),\n",
       " ('V84', dtype('int64'), 3),\n",
       " ('V85', dtype('int64'), 3),\n",
       " ('V86', dtype('float64'), 2),\n",
       " ('data', dtype('O'), 2)]"
      ]
     },
     "execution_count": 6,
     "metadata": {},
     "output_type": "execute_result"
    }
   ],
   "source": [
    "#we check for all the columns with their data type and unique values\n",
    "list(zip(bd_all.columns,bd_all.dtypes,bd_all.nunique()))"
   ]
  },
  {
   "cell_type": "code",
   "execution_count": 7,
   "metadata": {},
   "outputs": [
    {
     "data": {
      "text/plain": [
       "40"
      ]
     },
     "execution_count": 7,
     "metadata": {},
     "output_type": "execute_result"
    }
   ],
   "source": [
    "bd_all['V1'].nunique()"
   ]
  },
  {
   "cell_type": "code",
   "execution_count": 8,
   "metadata": {},
   "outputs": [
    {
     "data": {
      "text/plain": [
       "V2\n",
       "1     0.06\n",
       "2     0.07\n",
       "3     0.00\n",
       "4     0.00\n",
       "5     0.00\n",
       "6     0.00\n",
       "7     0.00\n",
       "8     0.00\n",
       "10    0.00\n",
       "Name: V86, dtype: float64"
      ]
     },
     "execution_count": 8,
     "metadata": {},
     "output_type": "execute_result"
    }
   ],
   "source": [
    "round(bd_all.groupby(\"V2\")['V86'].mean(),2)"
   ]
  },
  {
   "cell_type": "code",
   "execution_count": 9,
   "metadata": {},
   "outputs": [],
   "source": [
    "#In V2 column we only make dummy of 2 values\n",
    "bd_all['V2_1']=np.where(bd_all['V2']==1,1,0)\n",
    "bd_all['V2_2']=np.where(bd_all['V2']==2,1,0)\n",
    "bd_all.drop(['V2'],axis=1,inplace=True)"
   ]
  },
  {
   "cell_type": "code",
   "execution_count": 10,
   "metadata": {},
   "outputs": [
    {
     "data": {
      "text/plain": [
       "['V1', 'V4', 'V5', 'V6', 'V10', 'V42', 'V44']"
      ]
     },
     "execution_count": 10,
     "metadata": {},
     "output_type": "execute_result"
    }
   ],
   "source": [
    "#these are our categorical columns and we will make dummies of these variables\n",
    "[\"V1\",\"V4\",\"V5\",\"V6\",\"V10\",\"V42\",\"V44\"]"
   ]
  },
  {
   "cell_type": "code",
   "execution_count": 11,
   "metadata": {},
   "outputs": [
    {
     "data": {
      "text/plain": [
       "33    1401\n",
       "38     569\n",
       "8      546\n",
       "39     542\n",
       "9      460\n",
       "3      433\n",
       "23     376\n",
       "36     373\n",
       "35     362\n",
       "41     355\n",
       "34     325\n",
       "24     324\n",
       "31     318\n",
       "13     302\n",
       "11     286\n",
       "10     271\n",
       "32     234\n",
       "37     233\n",
       "1      218\n",
       "6      209\n",
       "12     194\n",
       "30     190\n",
       "22     169\n",
       "2      148\n",
       "29     139\n",
       "40     137\n",
       "25     129\n",
       "4       90\n",
       "26      79\n",
       "27      77\n",
       "7       72\n",
       "5       70\n",
       "20      42\n",
       "28      41\n",
       "21      29\n",
       "18      27\n",
       "16      25\n",
       "17      13\n",
       "15       7\n",
       "19       7\n",
       "Name: V1, dtype: int64"
      ]
     },
     "execution_count": 11,
     "metadata": {},
     "output_type": "execute_result"
    }
   ],
   "source": [
    "bd_all['V1'].value_counts()"
   ]
  },
  {
   "cell_type": "code",
   "execution_count": 12,
   "metadata": {},
   "outputs": [
    {
     "data": {
      "text/plain": [
       "<seaborn.axisgrid.FacetGrid at 0x18ce8895f98>"
      ]
     },
     "execution_count": 12,
     "metadata": {},
     "output_type": "execute_result"
    },
    {
     "data": {
      "image/png": "[encoded data removed]",
      "text/plain": [
       "<Figure size 771.875x720 with 1 Axes>"
      ]
     },
     "metadata": {
      "needs_background": "light"
     },
     "output_type": "display_data"
    }
   ],
   "source": [
    "#plt.figure(figsize=(30,9))\n",
    "sns.catplot(y=\"V1\", hue=\"V86\", kind=\"count\",height=10,\n",
    "            edgecolor=\".6\",\n",
    "            data=bd_all)"
   ]
  },
  {
   "cell_type": "code",
   "execution_count": null,
   "metadata": {},
   "outputs": [],
   "source": []
  },
  {
   "cell_type": "markdown",
   "metadata": {},
   "source": [
    "# Column V4=Average age:\n",
    "\n",
    "1 20-30 years\n",
    "2 30-40 years\n",
    "3 40-50 years\n",
    "4 50-60 years\n",
    "5 60-70 years\n",
    "6 70-80 years"
   ]
  },
  {
   "cell_type": "code",
   "execution_count": 13,
   "metadata": {},
   "outputs": [
    {
     "data": {
      "text/plain": [
       "3    5154\n",
       "2    2409\n",
       "4    1777\n",
       "5     329\n",
       "1     104\n",
       "6      49\n",
       "Name: V4, dtype: int64"
      ]
     },
     "execution_count": 13,
     "metadata": {},
     "output_type": "execute_result"
    }
   ],
   "source": [
    "bd_all['V4'].value_counts()"
   ]
  },
  {
   "cell_type": "code",
   "execution_count": 14,
   "metadata": {},
   "outputs": [
    {
     "data": {
      "text/plain": [
       "<seaborn.axisgrid.FacetGrid at 0x18cedc250f0>"
      ]
     },
     "execution_count": 14,
     "metadata": {},
     "output_type": "execute_result"
    },
    {
     "data": {
      "image/png": "[encoded data removed]",
      "text/plain": [
       "<Figure size 411.875x360 with 1 Axes>"
      ]
     },
     "metadata": {
      "needs_background": "light"
     },
     "output_type": "display_data"
    }
   ],
   "source": [
    "# Lets Visualize Average age V4\n",
    "sns.catplot(x = \"V4\",data = bd_all, kind = \"count\",hue = \"V86\",height = 5)"
   ]
  },
  {
   "cell_type": "markdown",
   "metadata": {},
   "source": [
    "# Column V5= Customer Main Type\n",
    "\n",
    "1 Successful hedonists\n",
    "2 Driven Growers\n",
    "3 Average Family\n",
    "4 Career Loners\n",
    "5 Living well\n",
    "6 Cruising Seniors\n",
    "7 Retired and Religeous\n",
    "8 Family with grown ups\n",
    "9 Conservative families\n",
    "10 Farmers"
   ]
  },
  {
   "cell_type": "code",
   "execution_count": 15,
   "metadata": {},
   "outputs": [
    {
     "data": {
      "text/plain": [
       "8     2694\n",
       "3     1513\n",
       "9     1111\n",
       "1      959\n",
       "5      940\n",
       "7      881\n",
       "2      827\n",
       "10     492\n",
       "6      326\n",
       "4       79\n",
       "Name: V5, dtype: int64"
      ]
     },
     "execution_count": 15,
     "metadata": {},
     "output_type": "execute_result"
    }
   ],
   "source": [
    "bd_all['V5'].value_counts()"
   ]
  },
  {
   "cell_type": "code",
   "execution_count": 16,
   "metadata": {},
   "outputs": [
    {
     "data": {
      "text/plain": [
       "V5\n",
       "1     0.087\n",
       "2     0.131\n",
       "3     0.067\n",
       "4     0.000\n",
       "5     0.026\n",
       "6     0.020\n",
       "7     0.036\n",
       "8     0.057\n",
       "9     0.063\n",
       "10    0.018\n",
       "Name: V86, dtype: float64"
      ]
     },
     "execution_count": 16,
     "metadata": {},
     "output_type": "execute_result"
    }
   ],
   "source": [
    "round(bd_all.groupby(\"V5\")['V86'].mean(),3)"
   ]
  },
  {
   "cell_type": "code",
   "execution_count": 17,
   "metadata": {},
   "outputs": [
    {
     "data": {
      "text/plain": [
       "<seaborn.axisgrid.FacetGrid at 0x18cedbe8630>"
      ]
     },
     "execution_count": 17,
     "metadata": {},
     "output_type": "execute_result"
    },
    {
     "data": {
      "image/png": "[encoded data removed]",
      "text/plain": [
       "<Figure size 771.875x720 with 1 Axes>"
      ]
     },
     "metadata": {
      "needs_background": "light"
     },
     "output_type": "display_data"
    }
   ],
   "source": [
    "#Lets Visualize V5\n",
    "sns.catplot(x=\"V5\",kind=\"count\",hue=\"V86\",height=10,data=bd_all)"
   ]
  },
  {
   "cell_type": "code",
   "execution_count": null,
   "metadata": {},
   "outputs": [],
   "source": [
    "\"V6\",\"V10\",\"V15\",\"V42\",\"V44\""
   ]
  },
  {
   "cell_type": "markdown",
   "metadata": {},
   "source": [
    "# Column V6: Roman Catholic\n",
    "\n",
    "0 0%\n",
    "1 1 - 10%\n",
    "2 11 - 23%\n",
    "3 24 - 36%\n",
    "4 37 - 49%\n",
    "5 50 - 62%\n",
    "6 63 - 75%\n",
    "7 76 - 88%\n",
    "8 89 - 99%\n",
    "9 100%"
   ]
  },
  {
   "cell_type": "code",
   "execution_count": 18,
   "metadata": {},
   "outputs": [
    {
     "data": {
      "text/plain": [
       "0    5420\n",
       "1    2744\n",
       "2    1213\n",
       "3     243\n",
       "4     123\n",
       "5      30\n",
       "6      25\n",
       "7      11\n",
       "9      10\n",
       "8       3\n",
       "Name: V6, dtype: int64"
      ]
     },
     "execution_count": 18,
     "metadata": {},
     "output_type": "execute_result"
    }
   ],
   "source": [
    "bd_all['V6'].value_counts()"
   ]
  },
  {
   "cell_type": "code",
   "execution_count": 19,
   "metadata": {},
   "outputs": [
    {
     "data": {
      "text/plain": [
       "<seaborn.axisgrid.FacetGrid at 0x18ceda49358>"
      ]
     },
     "execution_count": 19,
     "metadata": {},
     "output_type": "execute_result"
    },
    {
     "data": {
      "image/png": "[encoded data removed]",
      "text/plain": [
       "<Figure size 627.875x576 with 1 Axes>"
      ]
     },
     "metadata": {
      "needs_background": "light"
     },
     "output_type": "display_data"
    }
   ],
   "source": [
    "#Lets Visualize column V6\n",
    "sns.catplot(x=\"V6\",hue=\"V86\",height=8,kind=\"count\",data=bd_all)"
   ]
  },
  {
   "cell_type": "code",
   "execution_count": 20,
   "metadata": {},
   "outputs": [
    {
     "data": {
      "text/plain": [
       "7    2800\n",
       "6    2015\n",
       "5    1628\n",
       "9    1345\n",
       "8     603\n",
       "4     550\n",
       "3     402\n",
       "2     252\n",
       "1     119\n",
       "0     108\n",
       "Name: V10, dtype: int64"
      ]
     },
     "execution_count": 20,
     "metadata": {},
     "output_type": "execute_result"
    }
   ],
   "source": [
    "#Column V10=Married\n",
    "bd_all['V10'].value_counts()"
   ]
  },
  {
   "cell_type": "code",
   "execution_count": 21,
   "metadata": {},
   "outputs": [
    {
     "data": {
      "text/plain": [
       "<seaborn.axisgrid.FacetGrid at 0x18cedae9f28>"
      ]
     },
     "execution_count": 21,
     "metadata": {},
     "output_type": "execute_result"
    },
    {
     "data": {
      "image/png": "[encoded data removed]",
      "text/plain": [
       "<Figure size 627.875x576 with 1 Axes>"
      ]
     },
     "metadata": {
      "needs_background": "light"
     },
     "output_type": "display_data"
    }
   ],
   "source": [
    "#Let's Visualize column V10\n",
    "sns.catplot(x=\"V10\",hue=\"V86\",height=8,kind=\"count\",data=bd_all)"
   ]
  },
  {
   "cell_type": "code",
   "execution_count": 22,
   "metadata": {},
   "outputs": [
    {
     "data": {
      "text/plain": [
       "3    3232\n",
       "4    3063\n",
       "5    1268\n",
       "2    1110\n",
       "6     646\n",
       "7     228\n",
       "8     121\n",
       "1      78\n",
       "9      38\n",
       "0      38\n",
       "Name: V42, dtype: int64"
      ]
     },
     "execution_count": 22,
     "metadata": {},
     "output_type": "execute_result"
    }
   ],
   "source": [
    "#Column V42=Average Income\n",
    "bd_all['V42'].value_counts()"
   ]
  },
  {
   "cell_type": "code",
   "execution_count": 23,
   "metadata": {},
   "outputs": [
    {
     "data": {
      "text/plain": [
       "<seaborn.axisgrid.FacetGrid at 0x18cedf1f6a0>"
      ]
     },
     "execution_count": 23,
     "metadata": {},
     "output_type": "execute_result"
    },
    {
     "data": {
      "image/png": "[encoded data removed]",
      "text/plain": [
       "<Figure size 627.875x576 with 1 Axes>"
      ]
     },
     "metadata": {
      "needs_background": "light"
     },
     "output_type": "display_data"
    }
   ],
   "source": [
    "#Let's Visualize column V42\n",
    "sns.catplot(x=\"V42\",hue=\"V86\",height=8,kind=\"count\",data=bd_all)"
   ]
  },
  {
   "cell_type": "code",
   "execution_count": 24,
   "metadata": {},
   "outputs": [
    {
     "data": {
      "text/plain": [
       "0    5903\n",
       "2    3562\n",
       "1     341\n",
       "3      16\n",
       "Name: V44, dtype: int64"
      ]
     },
     "execution_count": 24,
     "metadata": {},
     "output_type": "execute_result"
    }
   ],
   "source": [
    "#Column V44=Contribution private third party insurance\n",
    "bd_all['V44'].value_counts()"
   ]
  },
  {
   "cell_type": "code",
   "execution_count": 25,
   "metadata": {},
   "outputs": [
    {
     "data": {
      "text/plain": [
       "<seaborn.axisgrid.FacetGrid at 0x18cedaad898>"
      ]
     },
     "execution_count": 25,
     "metadata": {},
     "output_type": "execute_result"
    },
    {
     "data": {
      "image/png": "[encoded data removed]",
      "text/plain": [
       "<Figure size 627.875x576 with 1 Axes>"
      ]
     },
     "metadata": {
      "needs_background": "light"
     },
     "output_type": "display_data"
    }
   ],
   "source": [
    "#Let's Visualize column V42\n",
    "sns.catplot(x=\"V44\",hue=\"V86\",height=8,kind=\"count\",data=bd_all)"
   ]
  },
  {
   "cell_type": "code",
   "execution_count": 26,
   "metadata": {},
   "outputs": [
    {
     "data": {
      "text/plain": [
       "['V1', 'V4', 'V5', 'V6', 'V10', 'V42', 'V44']"
      ]
     },
     "execution_count": 26,
     "metadata": {},
     "output_type": "execute_result"
    }
   ],
   "source": [
    "#these are our categorical columns and we will make dummies of these variables\n",
    "[\"V1\",\"V4\",\"V5\",\"V6\",\"V10\",\"V42\",\"V44\"]"
   ]
  },
  {
   "cell_type": "code",
   "execution_count": 27,
   "metadata": {},
   "outputs": [
    {
     "name": "stdout",
     "output_type": "stream",
     "text": [
      "V1\n",
      "V4\n",
      "V5\n",
      "V6\n",
      "V10\n",
      "V42\n",
      "V44\n"
     ]
    }
   ],
   "source": [
    "cat_cols=[\"V1\",\"V4\",\"V5\",\"V6\",\"V10\",\"V42\",\"V44\"]\n",
    "\n",
    "for col  in cat_cols:\n",
    "    freqs=bd_all[col].value_counts()\n",
    "    k=freqs.index[freqs>100][:-1]\n",
    "    for cat in k:\n",
    "        name=str(col)+\"_\"+str(cat)\n",
    "        bd_all[name]=(bd_all[col]==cat).astype(int)\n",
    "    del bd_all[col]\n",
    "    print(col)"
   ]
  },
  {
   "cell_type": "code",
   "execution_count": 28,
   "metadata": {},
   "outputs": [
    {
     "data": {
      "text/html": [
       "<div>\n",
       "<style scoped>\n",
       "    .dataframe tbody tr th:only-of-type {\n",
       "        vertical-align: middle;\n",
       "    }\n",
       "\n",
       "    .dataframe tbody tr th {\n",
       "        vertical-align: top;\n",
       "    }\n",
       "\n",
       "    .dataframe thead th {\n",
       "        text-align: right;\n",
       "    }\n",
       "</style>\n",
       "<table border=\"1\" class=\"dataframe\">\n",
       "  <thead>\n",
       "    <tr style=\"text-align: right;\">\n",
       "      <th></th>\n",
       "      <th>V3</th>\n",
       "      <th>V7</th>\n",
       "      <th>V8</th>\n",
       "      <th>V9</th>\n",
       "      <th>V11</th>\n",
       "      <th>V12</th>\n",
       "      <th>V13</th>\n",
       "      <th>V14</th>\n",
       "      <th>V15</th>\n",
       "      <th>V16</th>\n",
       "      <th>...</th>\n",
       "      <th>V10_2</th>\n",
       "      <th>V10_1</th>\n",
       "      <th>V42_3</th>\n",
       "      <th>V42_4</th>\n",
       "      <th>V42_5</th>\n",
       "      <th>V42_2</th>\n",
       "      <th>V42_6</th>\n",
       "      <th>V42_7</th>\n",
       "      <th>V44_0</th>\n",
       "      <th>V44_2</th>\n",
       "    </tr>\n",
       "  </thead>\n",
       "  <tbody>\n",
       "    <tr>\n",
       "      <th>0</th>\n",
       "      <td>3</td>\n",
       "      <td>5</td>\n",
       "      <td>1</td>\n",
       "      <td>3</td>\n",
       "      <td>0</td>\n",
       "      <td>2</td>\n",
       "      <td>1</td>\n",
       "      <td>2</td>\n",
       "      <td>6</td>\n",
       "      <td>1</td>\n",
       "      <td>...</td>\n",
       "      <td>0</td>\n",
       "      <td>0</td>\n",
       "      <td>0</td>\n",
       "      <td>1</td>\n",
       "      <td>0</td>\n",
       "      <td>0</td>\n",
       "      <td>0</td>\n",
       "      <td>0</td>\n",
       "      <td>1</td>\n",
       "      <td>0</td>\n",
       "    </tr>\n",
       "    <tr>\n",
       "      <th>1</th>\n",
       "      <td>2</td>\n",
       "      <td>4</td>\n",
       "      <td>1</td>\n",
       "      <td>4</td>\n",
       "      <td>2</td>\n",
       "      <td>2</td>\n",
       "      <td>0</td>\n",
       "      <td>4</td>\n",
       "      <td>5</td>\n",
       "      <td>0</td>\n",
       "      <td>...</td>\n",
       "      <td>0</td>\n",
       "      <td>0</td>\n",
       "      <td>0</td>\n",
       "      <td>0</td>\n",
       "      <td>1</td>\n",
       "      <td>0</td>\n",
       "      <td>0</td>\n",
       "      <td>0</td>\n",
       "      <td>0</td>\n",
       "      <td>1</td>\n",
       "    </tr>\n",
       "    <tr>\n",
       "      <th>2</th>\n",
       "      <td>2</td>\n",
       "      <td>4</td>\n",
       "      <td>2</td>\n",
       "      <td>4</td>\n",
       "      <td>2</td>\n",
       "      <td>4</td>\n",
       "      <td>4</td>\n",
       "      <td>4</td>\n",
       "      <td>2</td>\n",
       "      <td>0</td>\n",
       "      <td>...</td>\n",
       "      <td>0</td>\n",
       "      <td>0</td>\n",
       "      <td>1</td>\n",
       "      <td>0</td>\n",
       "      <td>0</td>\n",
       "      <td>0</td>\n",
       "      <td>0</td>\n",
       "      <td>0</td>\n",
       "      <td>0</td>\n",
       "      <td>1</td>\n",
       "    </tr>\n",
       "    <tr>\n",
       "      <th>3</th>\n",
       "      <td>3</td>\n",
       "      <td>3</td>\n",
       "      <td>2</td>\n",
       "      <td>4</td>\n",
       "      <td>2</td>\n",
       "      <td>2</td>\n",
       "      <td>2</td>\n",
       "      <td>3</td>\n",
       "      <td>4</td>\n",
       "      <td>3</td>\n",
       "      <td>...</td>\n",
       "      <td>0</td>\n",
       "      <td>0</td>\n",
       "      <td>0</td>\n",
       "      <td>1</td>\n",
       "      <td>0</td>\n",
       "      <td>0</td>\n",
       "      <td>0</td>\n",
       "      <td>0</td>\n",
       "      <td>1</td>\n",
       "      <td>0</td>\n",
       "    </tr>\n",
       "    <tr>\n",
       "      <th>4</th>\n",
       "      <td>4</td>\n",
       "      <td>4</td>\n",
       "      <td>1</td>\n",
       "      <td>4</td>\n",
       "      <td>1</td>\n",
       "      <td>2</td>\n",
       "      <td>2</td>\n",
       "      <td>4</td>\n",
       "      <td>4</td>\n",
       "      <td>5</td>\n",
       "      <td>...</td>\n",
       "      <td>0</td>\n",
       "      <td>0</td>\n",
       "      <td>0</td>\n",
       "      <td>0</td>\n",
       "      <td>0</td>\n",
       "      <td>0</td>\n",
       "      <td>1</td>\n",
       "      <td>0</td>\n",
       "      <td>1</td>\n",
       "      <td>0</td>\n",
       "    </tr>\n",
       "  </tbody>\n",
       "</table>\n",
       "<p>5 rows × 140 columns</p>\n",
       "</div>"
      ],
      "text/plain": [
       "   V3  V7  V8  V9  V11  V12  V13  V14  V15  V16  ...  V10_2  V10_1  V42_3  \\\n",
       "0   3   5   1   3    0    2    1    2    6    1  ...      0      0      0   \n",
       "1   2   4   1   4    2    2    0    4    5    0  ...      0      0      0   \n",
       "2   2   4   2   4    2    4    4    4    2    0  ...      0      0      1   \n",
       "3   3   3   2   4    2    2    2    3    4    3  ...      0      0      0   \n",
       "4   4   4   1   4    1    2    2    4    4    5  ...      0      0      0   \n",
       "\n",
       "   V42_4  V42_5  V42_2  V42_6  V42_7  V44_0  V44_2  \n",
       "0      1      0      0      0      0      1      0  \n",
       "1      0      1      0      0      0      0      1  \n",
       "2      0      0      0      0      0      0      1  \n",
       "3      1      0      0      0      0      1      0  \n",
       "4      0      0      0      1      0      1      0  \n",
       "\n",
       "[5 rows x 140 columns]"
      ]
     },
     "execution_count": 28,
     "metadata": {},
     "output_type": "execute_result"
    }
   ],
   "source": [
    "bd_all.head()"
   ]
  },
  {
   "cell_type": "code",
   "execution_count": 29,
   "metadata": {},
   "outputs": [
    {
     "data": {
      "text/plain": [
       "V3       0\n",
       "V7       0\n",
       "V8       0\n",
       "V9       0\n",
       "V11      0\n",
       "V12      0\n",
       "V13      0\n",
       "V14      0\n",
       "V15      0\n",
       "V16      0\n",
       "V17      0\n",
       "V18      0\n",
       "V19      0\n",
       "V20      0\n",
       "V21      0\n",
       "V22      0\n",
       "V23      0\n",
       "V24      0\n",
       "V25      0\n",
       "V26      0\n",
       "V27      0\n",
       "V28      0\n",
       "V29      0\n",
       "V30      0\n",
       "V31      0\n",
       "V32      0\n",
       "V33      0\n",
       "V34      0\n",
       "V35      0\n",
       "V36      0\n",
       "        ..\n",
       "V4_5     0\n",
       "V5_8     0\n",
       "V5_3     0\n",
       "V5_9     0\n",
       "V5_1     0\n",
       "V5_5     0\n",
       "V5_7     0\n",
       "V5_2     0\n",
       "V5_10    0\n",
       "V6_0     0\n",
       "V6_1     0\n",
       "V6_2     0\n",
       "V6_3     0\n",
       "V10_7    0\n",
       "V10_6    0\n",
       "V10_5    0\n",
       "V10_9    0\n",
       "V10_8    0\n",
       "V10_4    0\n",
       "V10_3    0\n",
       "V10_2    0\n",
       "V10_1    0\n",
       "V42_3    0\n",
       "V42_4    0\n",
       "V42_5    0\n",
       "V42_2    0\n",
       "V42_6    0\n",
       "V42_7    0\n",
       "V44_0    0\n",
       "V44_2    0\n",
       "Length: 140, dtype: int64"
      ]
     },
     "execution_count": 29,
     "metadata": {},
     "output_type": "execute_result"
    }
   ],
   "source": [
    "#Check for Null values in our data\n",
    "bd_all.isnull().sum()"
   ]
  },
  {
   "cell_type": "code",
   "execution_count": 30,
   "metadata": {},
   "outputs": [],
   "source": [
    "#Impute null values by mean,only in train data \n",
    "for col in bd_all.columns:\n",
    "    if (col not in ['V86','data'])& (bd_all[col].isnull().sum()>0):\n",
    "        bd_all.loc[bd_all[col].isnull(),col]=bd_all.loc[bd_all['data']=='train',col].mean()"
   ]
  },
  {
   "cell_type": "code",
   "execution_count": null,
   "metadata": {},
   "outputs": [],
   "source": []
  },
  {
   "cell_type": "code",
   "execution_count": 31,
   "metadata": {},
   "outputs": [
    {
     "name": "stderr",
     "output_type": "stream",
     "text": [
      "C:\\Users\\User\\Anaconda3\\lib\\site-packages\\pandas\\core\\frame.py:3940: SettingWithCopyWarning: \n",
      "A value is trying to be set on a copy of a slice from a DataFrame\n",
      "\n",
      "See the caveats in the documentation: http://pandas.pydata.org/pandas-docs/stable/indexing.html#indexing-view-versus-copy\n",
      "  errors=errors)\n"
     ]
    }
   ],
   "source": [
    "#Data preprocessing is done and now split our data into training and testing \n",
    "bd_train=bd_all[bd_all['data']==\"train\"]\n",
    "del bd_train['data']\n",
    "bd_test=bd_all[bd_all['data']==\"test\"]\n",
    "bd_test.drop(['V86','data'],axis=1,inplace=True)"
   ]
  },
  {
   "cell_type": "markdown",
   "metadata": {},
   "source": []
  },
  {
   "cell_type": "code",
   "execution_count": 32,
   "metadata": {},
   "outputs": [],
   "source": [
    "from sklearn.model_selection import train_test_split"
   ]
  },
  {
   "cell_type": "code",
   "execution_count": 33,
   "metadata": {},
   "outputs": [],
   "source": [
    "from sklearn.linear_model import LogisticRegression"
   ]
  },
  {
   "cell_type": "code",
   "execution_count": 34,
   "metadata": {},
   "outputs": [],
   "source": [
    "from sklearn.model_selection import GridSearchCV"
   ]
  },
  {
   "cell_type": "code",
   "execution_count": 35,
   "metadata": {},
   "outputs": [],
   "source": [
    "bd_train1,bd_train2=train_test_split(bd_train,test_size=0.2,\n",
    "                                     random_state=2,\n",
    "                                     stratify = bd_train[\"V86\"])"
   ]
  },
  {
   "cell_type": "code",
   "execution_count": null,
   "metadata": {},
   "outputs": [],
   "source": [
    "#bd_train1=80% data is used for training\n",
    "#bd_train2=20% data is used for testing and check our model performance on train data"
   ]
  },
  {
   "cell_type": "code",
   "execution_count": 36,
   "metadata": {},
   "outputs": [],
   "source": [
    "#80% training data\n",
    "x_train=bd_train1.drop(['V86'],1)\n",
    "y_train=bd_train1['V86']\n",
    "#20% testing data\n",
    "x_test=bd_train2.drop(['V86'],1)\n",
    "y_test=bd_train2['V86']"
   ]
  },
  {
   "cell_type": "markdown",
   "metadata": {},
   "source": [
    "# Logistics Regression"
   ]
  },
  {
   "cell_type": "code",
   "execution_count": 37,
   "metadata": {},
   "outputs": [],
   "source": [
    "#parameters for logistics regression \n",
    "params={'class_weight':['balanced',None],\n",
    "        'penalty':['l1','l2']}"
   ]
  },
  {
   "cell_type": "code",
   "execution_count": 38,
   "metadata": {},
   "outputs": [],
   "source": [
    "model=LogisticRegression(fit_intercept=True)"
   ]
  },
  {
   "cell_type": "code",
   "execution_count": 39,
   "metadata": {},
   "outputs": [],
   "source": [
    "grid_search=GridSearchCV(model,param_grid=params,cv=10,scoring=\"roc_auc\")"
   ]
  },
  {
   "cell_type": "code",
   "execution_count": 40,
   "metadata": {},
   "outputs": [
    {
     "name": "stderr",
     "output_type": "stream",
     "text": [
      "C:\\Users\\User\\Anaconda3\\lib\\site-packages\\sklearn\\linear_model\\logistic.py:432: FutureWarning: Default solver will be changed to 'lbfgs' in 0.22. Specify a solver to silence this warning.\n",
      "  FutureWarning)\n",
      "C:\\Users\\User\\Anaconda3\\lib\\site-packages\\sklearn\\svm\\base.py:929: ConvergenceWarning: Liblinear failed to converge, increase the number of iterations.\n",
      "  \"the number of iterations.\", ConvergenceWarning)\n",
      "C:\\Users\\User\\Anaconda3\\lib\\site-packages\\sklearn\\linear_model\\logistic.py:432: FutureWarning: Default solver will be changed to 'lbfgs' in 0.22. Specify a solver to silence this warning.\n",
      "  FutureWarning)\n",
      "C:\\Users\\User\\Anaconda3\\lib\\site-packages\\sklearn\\linear_model\\logistic.py:432: FutureWarning: Default solver will be changed to 'lbfgs' in 0.22. Specify a solver to silence this warning.\n",
      "  FutureWarning)\n",
      "C:\\Users\\User\\Anaconda3\\lib\\site-packages\\sklearn\\linear_model\\logistic.py:432: FutureWarning: Default solver will be changed to 'lbfgs' in 0.22. Specify a solver to silence this warning.\n",
      "  FutureWarning)\n",
      "C:\\Users\\User\\Anaconda3\\lib\\site-packages\\sklearn\\linear_model\\logistic.py:432: FutureWarning: Default solver will be changed to 'lbfgs' in 0.22. Specify a solver to silence this warning.\n",
      "  FutureWarning)\n",
      "C:\\Users\\User\\Anaconda3\\lib\\site-packages\\sklearn\\linear_model\\logistic.py:432: FutureWarning: Default solver will be changed to 'lbfgs' in 0.22. Specify a solver to silence this warning.\n",
      "  FutureWarning)\n",
      "C:\\Users\\User\\Anaconda3\\lib\\site-packages\\sklearn\\linear_model\\logistic.py:432: FutureWarning: Default solver will be changed to 'lbfgs' in 0.22. Specify a solver to silence this warning.\n",
      "  FutureWarning)\n",
      "C:\\Users\\User\\Anaconda3\\lib\\site-packages\\sklearn\\linear_model\\logistic.py:432: FutureWarning: Default solver will be changed to 'lbfgs' in 0.22. Specify a solver to silence this warning.\n",
      "  FutureWarning)\n",
      "C:\\Users\\User\\Anaconda3\\lib\\site-packages\\sklearn\\linear_model\\logistic.py:432: FutureWarning: Default solver will be changed to 'lbfgs' in 0.22. Specify a solver to silence this warning.\n",
      "  FutureWarning)\n",
      "C:\\Users\\User\\Anaconda3\\lib\\site-packages\\sklearn\\svm\\base.py:929: ConvergenceWarning: Liblinear failed to converge, increase the number of iterations.\n",
      "  \"the number of iterations.\", ConvergenceWarning)\n",
      "C:\\Users\\User\\Anaconda3\\lib\\site-packages\\sklearn\\linear_model\\logistic.py:432: FutureWarning: Default solver will be changed to 'lbfgs' in 0.22. Specify a solver to silence this warning.\n",
      "  FutureWarning)\n",
      "C:\\Users\\User\\Anaconda3\\lib\\site-packages\\sklearn\\svm\\base.py:929: ConvergenceWarning: Liblinear failed to converge, increase the number of iterations.\n",
      "  \"the number of iterations.\", ConvergenceWarning)\n",
      "C:\\Users\\User\\Anaconda3\\lib\\site-packages\\sklearn\\linear_model\\logistic.py:432: FutureWarning: Default solver will be changed to 'lbfgs' in 0.22. Specify a solver to silence this warning.\n",
      "  FutureWarning)\n",
      "C:\\Users\\User\\Anaconda3\\lib\\site-packages\\sklearn\\linear_model\\logistic.py:432: FutureWarning: Default solver will be changed to 'lbfgs' in 0.22. Specify a solver to silence this warning.\n",
      "  FutureWarning)\n",
      "C:\\Users\\User\\Anaconda3\\lib\\site-packages\\sklearn\\linear_model\\logistic.py:432: FutureWarning: Default solver will be changed to 'lbfgs' in 0.22. Specify a solver to silence this warning.\n",
      "  FutureWarning)\n",
      "C:\\Users\\User\\Anaconda3\\lib\\site-packages\\sklearn\\linear_model\\logistic.py:432: FutureWarning: Default solver will be changed to 'lbfgs' in 0.22. Specify a solver to silence this warning.\n",
      "  FutureWarning)\n",
      "C:\\Users\\User\\Anaconda3\\lib\\site-packages\\sklearn\\linear_model\\logistic.py:432: FutureWarning: Default solver will be changed to 'lbfgs' in 0.22. Specify a solver to silence this warning.\n",
      "  FutureWarning)\n",
      "C:\\Users\\User\\Anaconda3\\lib\\site-packages\\sklearn\\linear_model\\logistic.py:432: FutureWarning: Default solver will be changed to 'lbfgs' in 0.22. Specify a solver to silence this warning.\n",
      "  FutureWarning)\n",
      "C:\\Users\\User\\Anaconda3\\lib\\site-packages\\sklearn\\linear_model\\logistic.py:432: FutureWarning: Default solver will be changed to 'lbfgs' in 0.22. Specify a solver to silence this warning.\n",
      "  FutureWarning)\n",
      "C:\\Users\\User\\Anaconda3\\lib\\site-packages\\sklearn\\linear_model\\logistic.py:432: FutureWarning: Default solver will be changed to 'lbfgs' in 0.22. Specify a solver to silence this warning.\n",
      "  FutureWarning)\n",
      "C:\\Users\\User\\Anaconda3\\lib\\site-packages\\sklearn\\linear_model\\logistic.py:432: FutureWarning: Default solver will be changed to 'lbfgs' in 0.22. Specify a solver to silence this warning.\n",
      "  FutureWarning)\n",
      "C:\\Users\\User\\Anaconda3\\lib\\site-packages\\sklearn\\linear_model\\logistic.py:432: FutureWarning: Default solver will be changed to 'lbfgs' in 0.22. Specify a solver to silence this warning.\n",
      "  FutureWarning)\n",
      "C:\\Users\\User\\Anaconda3\\lib\\site-packages\\sklearn\\linear_model\\logistic.py:432: FutureWarning: Default solver will be changed to 'lbfgs' in 0.22. Specify a solver to silence this warning.\n",
      "  FutureWarning)\n",
      "C:\\Users\\User\\Anaconda3\\lib\\site-packages\\sklearn\\linear_model\\logistic.py:432: FutureWarning: Default solver will be changed to 'lbfgs' in 0.22. Specify a solver to silence this warning.\n",
      "  FutureWarning)\n",
      "C:\\Users\\User\\Anaconda3\\lib\\site-packages\\sklearn\\linear_model\\logistic.py:432: FutureWarning: Default solver will be changed to 'lbfgs' in 0.22. Specify a solver to silence this warning.\n",
      "  FutureWarning)\n",
      "C:\\Users\\User\\Anaconda3\\lib\\site-packages\\sklearn\\linear_model\\logistic.py:432: FutureWarning: Default solver will be changed to 'lbfgs' in 0.22. Specify a solver to silence this warning.\n",
      "  FutureWarning)\n",
      "C:\\Users\\User\\Anaconda3\\lib\\site-packages\\sklearn\\linear_model\\logistic.py:432: FutureWarning: Default solver will be changed to 'lbfgs' in 0.22. Specify a solver to silence this warning.\n",
      "  FutureWarning)\n",
      "C:\\Users\\User\\Anaconda3\\lib\\site-packages\\sklearn\\linear_model\\logistic.py:432: FutureWarning: Default solver will be changed to 'lbfgs' in 0.22. Specify a solver to silence this warning.\n",
      "  FutureWarning)\n",
      "C:\\Users\\User\\Anaconda3\\lib\\site-packages\\sklearn\\linear_model\\logistic.py:432: FutureWarning: Default solver will be changed to 'lbfgs' in 0.22. Specify a solver to silence this warning.\n",
      "  FutureWarning)\n",
      "C:\\Users\\User\\Anaconda3\\lib\\site-packages\\sklearn\\linear_model\\logistic.py:432: FutureWarning: Default solver will be changed to 'lbfgs' in 0.22. Specify a solver to silence this warning.\n",
      "  FutureWarning)\n",
      "C:\\Users\\User\\Anaconda3\\lib\\site-packages\\sklearn\\linear_model\\logistic.py:432: FutureWarning: Default solver will be changed to 'lbfgs' in 0.22. Specify a solver to silence this warning.\n",
      "  FutureWarning)\n",
      "C:\\Users\\User\\Anaconda3\\lib\\site-packages\\sklearn\\linear_model\\logistic.py:432: FutureWarning: Default solver will be changed to 'lbfgs' in 0.22. Specify a solver to silence this warning.\n",
      "  FutureWarning)\n",
      "C:\\Users\\User\\Anaconda3\\lib\\site-packages\\sklearn\\linear_model\\logistic.py:432: FutureWarning: Default solver will be changed to 'lbfgs' in 0.22. Specify a solver to silence this warning.\n",
      "  FutureWarning)\n",
      "C:\\Users\\User\\Anaconda3\\lib\\site-packages\\sklearn\\linear_model\\logistic.py:432: FutureWarning: Default solver will be changed to 'lbfgs' in 0.22. Specify a solver to silence this warning.\n",
      "  FutureWarning)\n",
      "C:\\Users\\User\\Anaconda3\\lib\\site-packages\\sklearn\\linear_model\\logistic.py:432: FutureWarning: Default solver will be changed to 'lbfgs' in 0.22. Specify a solver to silence this warning.\n",
      "  FutureWarning)\n",
      "C:\\Users\\User\\Anaconda3\\lib\\site-packages\\sklearn\\linear_model\\logistic.py:432: FutureWarning: Default solver will be changed to 'lbfgs' in 0.22. Specify a solver to silence this warning.\n",
      "  FutureWarning)\n",
      "C:\\Users\\User\\Anaconda3\\lib\\site-packages\\sklearn\\linear_model\\logistic.py:432: FutureWarning: Default solver will be changed to 'lbfgs' in 0.22. Specify a solver to silence this warning.\n",
      "  FutureWarning)\n",
      "C:\\Users\\User\\Anaconda3\\lib\\site-packages\\sklearn\\linear_model\\logistic.py:432: FutureWarning: Default solver will be changed to 'lbfgs' in 0.22. Specify a solver to silence this warning.\n",
      "  FutureWarning)\n",
      "C:\\Users\\User\\Anaconda3\\lib\\site-packages\\sklearn\\linear_model\\logistic.py:432: FutureWarning: Default solver will be changed to 'lbfgs' in 0.22. Specify a solver to silence this warning.\n",
      "  FutureWarning)\n"
     ]
    },
    {
     "name": "stderr",
     "output_type": "stream",
     "text": [
      "C:\\Users\\User\\Anaconda3\\lib\\site-packages\\sklearn\\linear_model\\logistic.py:432: FutureWarning: Default solver will be changed to 'lbfgs' in 0.22. Specify a solver to silence this warning.\n",
      "  FutureWarning)\n",
      "C:\\Users\\User\\Anaconda3\\lib\\site-packages\\sklearn\\linear_model\\logistic.py:432: FutureWarning: Default solver will be changed to 'lbfgs' in 0.22. Specify a solver to silence this warning.\n",
      "  FutureWarning)\n",
      "C:\\Users\\User\\Anaconda3\\lib\\site-packages\\sklearn\\linear_model\\logistic.py:432: FutureWarning: Default solver will be changed to 'lbfgs' in 0.22. Specify a solver to silence this warning.\n",
      "  FutureWarning)\n",
      "C:\\Users\\User\\Anaconda3\\lib\\site-packages\\sklearn\\linear_model\\logistic.py:432: FutureWarning: Default solver will be changed to 'lbfgs' in 0.22. Specify a solver to silence this warning.\n",
      "  FutureWarning)\n"
     ]
    },
    {
     "data": {
      "text/plain": [
       "GridSearchCV(cv=10, error_score='raise-deprecating',\n",
       "             estimator=LogisticRegression(C=1.0, class_weight=None, dual=False,\n",
       "                                          fit_intercept=True,\n",
       "                                          intercept_scaling=1, l1_ratio=None,\n",
       "                                          max_iter=100, multi_class='warn',\n",
       "                                          n_jobs=None, penalty='l2',\n",
       "                                          random_state=None, solver='warn',\n",
       "                                          tol=0.0001, verbose=0,\n",
       "                                          warm_start=False),\n",
       "             iid='warn', n_jobs=None,\n",
       "             param_grid={'class_weight': ['balanced', None],\n",
       "                         'penalty': ['l1', 'l2']},\n",
       "             pre_dispatch='2*n_jobs', refit=True, return_train_score=False,\n",
       "             scoring='roc_auc', verbose=0)"
      ]
     },
     "execution_count": 40,
     "metadata": {},
     "output_type": "execute_result"
    }
   ],
   "source": [
    "grid_search.fit(x_train,y_train)"
   ]
  },
  {
   "cell_type": "code",
   "execution_count": 41,
   "metadata": {},
   "outputs": [
    {
     "data": {
      "text/plain": [
       "LogisticRegression(C=1.0, class_weight=None, dual=False, fit_intercept=True,\n",
       "                   intercept_scaling=1, l1_ratio=None, max_iter=100,\n",
       "                   multi_class='warn', n_jobs=None, penalty='l1',\n",
       "                   random_state=None, solver='warn', tol=0.0001, verbose=0,\n",
       "                   warm_start=False)"
      ]
     },
     "execution_count": 41,
     "metadata": {},
     "output_type": "execute_result"
    }
   ],
   "source": [
    "grid_search.best_estimator_"
   ]
  },
  {
   "cell_type": "code",
   "execution_count": 42,
   "metadata": {},
   "outputs": [],
   "source": [
    "logr=grid_search.best_estimator_"
   ]
  },
  {
   "cell_type": "code",
   "execution_count": 43,
   "metadata": {},
   "outputs": [
    {
     "name": "stderr",
     "output_type": "stream",
     "text": [
      "C:\\Users\\User\\Anaconda3\\lib\\site-packages\\sklearn\\linear_model\\logistic.py:432: FutureWarning: Default solver will be changed to 'lbfgs' in 0.22. Specify a solver to silence this warning.\n",
      "  FutureWarning)\n"
     ]
    },
    {
     "data": {
      "text/plain": [
       "LogisticRegression(C=1.0, class_weight=None, dual=False, fit_intercept=True,\n",
       "                   intercept_scaling=1, l1_ratio=None, max_iter=100,\n",
       "                   multi_class='warn', n_jobs=None, penalty='l1',\n",
       "                   random_state=None, solver='warn', tol=0.0001, verbose=0,\n",
       "                   warm_start=False)"
      ]
     },
     "execution_count": 43,
     "metadata": {},
     "output_type": "execute_result"
    }
   ],
   "source": [
    "#fit on training data \n",
    "logr.fit(x_train,y_train)"
   ]
  },
  {
   "cell_type": "code",
   "execution_count": 44,
   "metadata": {},
   "outputs": [
    {
     "data": {
      "text/plain": [
       "[('V3',\n",
       "  array([-1.41609990e-02, -5.78073475e-06,  1.33789023e-02, -3.63415859e-02,\n",
       "         -6.99519472e-02, -1.81472417e-02, -1.16738363e-01, -1.21671773e-01,\n",
       "         -8.23541186e-02,  0.00000000e+00, -1.16128840e-01, -2.26766333e-01,\n",
       "          0.00000000e+00,  3.96553310e-02, -1.00524719e-01,  1.01728621e-01,\n",
       "          1.75162418e-02,  1.94778716e-02,  7.76036004e-02,  0.00000000e+00,\n",
       "          0.00000000e+00,  1.22694335e-01,  0.00000000e+00, -2.21594836e-01,\n",
       "         -2.21239403e-01,  5.08240270e-02,  7.07969424e-02, -3.85942880e-03,\n",
       "         -2.03516864e-01, -2.46168273e-01,  1.67614274e-02,  3.98832632e-02,\n",
       "          0.00000000e+00,  1.19187955e-01, -2.53619474e-01,  7.41871757e-02,\n",
       "          0.00000000e+00, -2.43899922e-01,  2.47114250e-01, -2.00337557e-02,\n",
       "         -7.46214844e-02, -4.52382324e-02,  3.33436061e-01,  8.19062439e-02,\n",
       "         -4.49676740e-01, -1.11819819e-01, -2.05936829e-01,  0.00000000e+00,\n",
       "          1.77901374e-01,  2.23969940e-01,  1.67083482e-01,  0.00000000e+00,\n",
       "          0.00000000e+00,  0.00000000e+00,  0.00000000e+00,  4.85637669e-02,\n",
       "          0.00000000e+00,  0.00000000e+00,  0.00000000e+00,  0.00000000e+00,\n",
       "          0.00000000e+00,  1.79484008e-01,  0.00000000e+00,  0.00000000e+00,\n",
       "         -2.12999983e-01,  0.00000000e+00,  0.00000000e+00,  3.83661788e-01,\n",
       "          0.00000000e+00,  0.00000000e+00,  0.00000000e+00, -2.55219396e-01,\n",
       "          0.00000000e+00,  2.35290210e+00,  1.02642364e-01,  3.10850345e-03,\n",
       "          0.00000000e+00,  2.85155765e-02,  0.00000000e+00,  0.00000000e+00,\n",
       "          6.11031747e-01,  3.30565075e-01,  0.00000000e+00,  4.76146635e-02,\n",
       "          4.17641309e-01, -7.62949297e-01,  4.45042413e-01, -4.27568926e-01,\n",
       "          0.00000000e+00,  0.00000000e+00,  0.00000000e+00, -6.09025935e-02,\n",
       "          0.00000000e+00, -8.35819521e-02, -6.99632825e-01,  4.51610665e-01,\n",
       "          6.91027199e-01,  0.00000000e+00,  0.00000000e+00,  4.73346956e-01,\n",
       "          2.51392056e-01,  0.00000000e+00,  1.57904229e-01,  0.00000000e+00,\n",
       "         -8.02608943e-02,  0.00000000e+00, -2.36104973e-01,  1.91553326e-01,\n",
       "          3.34885470e-01,  2.29220830e-01,  0.00000000e+00,  1.13348666e-01,\n",
       "         -9.74744565e-02, -4.05110677e-02,  0.00000000e+00,  1.09373155e-01,\n",
       "         -7.97227522e-02,  3.14905099e-01,  5.03010968e-01,  2.14489846e-01,\n",
       "          0.00000000e+00,  0.00000000e+00,  1.64104424e-02,  9.40313497e-02,\n",
       "          0.00000000e+00,  0.00000000e+00,  0.00000000e+00,  0.00000000e+00,\n",
       "          0.00000000e+00,  0.00000000e+00, -2.32880806e-01,  2.29451985e-01,\n",
       "          1.50138098e-01,  4.46456910e-04, -2.86763713e-01,  0.00000000e+00,\n",
       "         -1.22863453e-01,  2.52731837e-01]))]"
      ]
     },
     "execution_count": 44,
     "metadata": {},
     "output_type": "execute_result"
    }
   ],
   "source": [
    "list(zip(x_train.columns,logr.coef_))"
   ]
  },
  {
   "cell_type": "code",
   "execution_count": 45,
   "metadata": {},
   "outputs": [],
   "source": [
    "#prediction on 20% splitted test data....y_predicted\n",
    "train_prediction=logr.predict_proba(x_test)[:,1]\n",
    "#Real \n",
    "real_value=y_test"
   ]
  },
  {
   "cell_type": "code",
   "execution_count": 46,
   "metadata": {},
   "outputs": [
    {
     "data": {
      "text/plain": [
       "array([0.05485975, 0.14875051, 0.03189437, ..., 0.01562311, 0.10562536,\n",
       "       0.04061121])"
      ]
     },
     "execution_count": 46,
     "metadata": {},
     "output_type": "execute_result"
    }
   ],
   "source": [
    "train_prediction"
   ]
  },
  {
   "cell_type": "code",
   "execution_count": 47,
   "metadata": {},
   "outputs": [],
   "source": [
    "cutoffs=np.linspace(0.01,0.99,99)"
   ]
  },
  {
   "cell_type": "code",
   "execution_count": 48,
   "metadata": {},
   "outputs": [
    {
     "name": "stdout",
     "output_type": "stream",
     "text": [
      "FB  0.2712264150943396\n",
      "FB  0.29829545454545453\n",
      "FB  0.3142227122381478\n",
      "FB  0.3205918618988902\n",
      "FB  0.33012379642365886\n",
      "FB  0.33382789317507416\n",
      "FB  0.326797385620915\n",
      "FB  0.31523642732049034\n",
      "FB  0.29906542056074764\n",
      "FB  0.30511811023622043\n",
      "FB  0.2510460251046025\n",
      "FB  0.25219298245614036\n",
      "FB  0.24137931034482757\n",
      "FB  0.25240384615384615\n",
      "FB  0.24875621890547261\n",
      "FB  0.23195876288659792\n",
      "FB  0.22546419098143236\n",
      "FB  0.20718232044198892\n",
      "FB  0.18361581920903955\n",
      "FB  0.1729106628242075\n",
      "FB  0.1461988304093567\n",
      "FB  0.1492537313432836\n",
      "FB  0.1371951219512195\n",
      "FB  0.1393188854489164\n",
      "FB  0.12539184952978055\n",
      "FB  0.11075949367088608\n",
      "FB  0.09554140127388536\n",
      "FB  0.06535947712418301\n",
      "FB  0.06557377049180328\n",
      "FB  0.05016722408026756\n",
      "FB  0.01694915254237288\n",
      "FB  0.01694915254237288\n",
      "FB  0.01694915254237288\n",
      "FB  nan\n",
      "FB  nan\n",
      "FB  nan\n",
      "FB  nan\n",
      "FB  nan\n",
      "FB  nan\n",
      "FB  nan\n",
      "FB  nan\n",
      "FB  nan\n",
      "FB  nan\n",
      "FB  nan\n",
      "FB  nan\n",
      "FB  nan\n",
      "FB  nan\n",
      "FB  nan\n",
      "FB  nan\n",
      "FB  nan\n",
      "FB  nan\n",
      "FB  nan\n",
      "FB  nan\n",
      "FB  nan\n",
      "FB  nan\n",
      "FB  nan\n"
     ]
    },
    {
     "name": "stderr",
     "output_type": "stream",
     "text": [
      "C:\\Users\\User\\Anaconda3\\lib\\site-packages\\ipykernel_launcher.py:19: RuntimeWarning: invalid value encountered in double_scalars\n"
     ]
    },
    {
     "name": "stdout",
     "output_type": "stream",
     "text": [
      "FB  nan\n",
      "FB  nan\n",
      "FB  nan\n",
      "FB  nan\n",
      "FB  nan\n",
      "FB  nan\n",
      "FB  nan\n",
      "FB  nan\n",
      "FB  nan\n",
      "FB  nan\n",
      "FB  nan\n",
      "FB  nan\n",
      "FB  nan\n",
      "FB  nan\n",
      "FB  nan\n",
      "FB  nan\n",
      "FB  nan\n",
      "FB  nan\n",
      "FB  nan\n",
      "FB  nan\n",
      "FB  nan\n",
      "FB  nan\n",
      "FB  nan\n",
      "FB  nan\n",
      "FB  nan\n",
      "FB  nan\n",
      "FB  nan\n",
      "FB  nan\n",
      "FB  nan\n",
      "FB  nan\n",
      "FB  nan\n",
      "FB  nan\n",
      "FB  nan\n",
      "FB  nan\n",
      "FB  nan\n",
      "FB  nan\n",
      "FB  nan\n",
      "FB  nan\n",
      "FB  nan\n",
      "FB  nan\n",
      "FB  nan\n",
      "FB  nan\n",
      "FB  nan\n"
     ]
    },
    {
     "name": "stderr",
     "output_type": "stream",
     "text": [
      "C:\\Users\\User\\Anaconda3\\lib\\site-packages\\ipykernel_launcher.py:17: RuntimeWarning: invalid value encountered in longlong_scalars\n"
     ]
    }
   ],
   "source": [
    "KS_all=[]\n",
    "for cutof in cutoffs:\n",
    "        predicted=(train_prediction>cutof).astype(int)\n",
    "        \n",
    "        TP=((predicted==1) & (real_value==1)).sum()\n",
    "        TN=((predicted==0) & (real_value==0)).sum()\n",
    "        FP=((predicted==1) & (real_value==0)).sum()\n",
    "        FN=((predicted==0) & (real_value==1)).sum()\n",
    "    \n",
    "        P=TP+FN\n",
    "        N=TN+FP\n",
    "        #KS cutoff\n",
    "        KS=(TP/P)-(FP/N)\n",
    "        #Recall\n",
    "        RK=(TP/(TP+FN))\n",
    "        #precision\n",
    "        PR=(TP/(TP+FP))\n",
    "        #F-beta score (beta=2)\n",
    "        FB=(1+2**2)*PR*RK/((2**2)*PR+RK)\n",
    "        print(\"FB \",FB)\n",
    "    \n",
    "        KS_all.append(KS)\n"
   ]
  },
  {
   "cell_type": "code",
   "execution_count": 49,
   "metadata": {},
   "outputs": [
    {
     "data": {
      "text/plain": [
       "0.060000000000000005"
      ]
     },
     "execution_count": 49,
     "metadata": {},
     "output_type": "execute_result"
    }
   ],
   "source": [
    "mycutoff=cutoffs[KS_all==max(KS_all)][0]\n",
    "mycutoff"
   ]
  },
  {
   "cell_type": "code",
   "execution_count": 50,
   "metadata": {},
   "outputs": [
    {
     "data": {
      "text/plain": [
       "array([0, 1, 0, ..., 0, 1, 0])"
      ]
     },
     "execution_count": 50,
     "metadata": {},
     "output_type": "execute_result"
    }
   ],
   "source": [
    "lm_hardclasses = (train_prediction>mycutoff).astype(int)\n",
    "lm_hardclasses"
   ]
  },
  {
   "cell_type": "code",
   "execution_count": null,
   "metadata": {},
   "outputs": [],
   "source": []
  },
  {
   "cell_type": "code",
   "execution_count": null,
   "metadata": {},
   "outputs": [],
   "source": []
  },
  {
   "cell_type": "markdown",
   "metadata": {},
   "source": [
    "# Let's build confusion matrix"
   ]
  },
  {
   "cell_type": "code",
   "execution_count": 51,
   "metadata": {},
   "outputs": [],
   "source": [
    "from sklearn.metrics import confusion_matrix"
   ]
  },
  {
   "cell_type": "code",
   "execution_count": 52,
   "metadata": {},
   "outputs": [
    {
     "data": {
      "text/plain": [
       "array([[746, 349],\n",
       "       [ 25,  45]], dtype=int64)"
      ]
     },
     "execution_count": 52,
     "metadata": {},
     "output_type": "execute_result"
    }
   ],
   "source": [
    "confusion_matrix(real_value,lm_hardclasses)"
   ]
  },
  {
   "cell_type": "code",
   "execution_count": 53,
   "metadata": {},
   "outputs": [
    {
     "data": {
      "text/html": [
       "<div>\n",
       "<style scoped>\n",
       "    .dataframe tbody tr th:only-of-type {\n",
       "        vertical-align: middle;\n",
       "    }\n",
       "\n",
       "    .dataframe tbody tr th {\n",
       "        vertical-align: top;\n",
       "    }\n",
       "\n",
       "    .dataframe thead th {\n",
       "        text-align: right;\n",
       "    }\n",
       "</style>\n",
       "<table border=\"1\" class=\"dataframe\">\n",
       "  <thead>\n",
       "    <tr style=\"text-align: right;\">\n",
       "      <th>col_0</th>\n",
       "      <th>0</th>\n",
       "      <th>1</th>\n",
       "    </tr>\n",
       "    <tr>\n",
       "      <th>V86</th>\n",
       "      <th></th>\n",
       "      <th></th>\n",
       "    </tr>\n",
       "  </thead>\n",
       "  <tbody>\n",
       "    <tr>\n",
       "      <th>0.0</th>\n",
       "      <td>746</td>\n",
       "      <td>349</td>\n",
       "    </tr>\n",
       "    <tr>\n",
       "      <th>1.0</th>\n",
       "      <td>25</td>\n",
       "      <td>45</td>\n",
       "    </tr>\n",
       "  </tbody>\n",
       "</table>\n",
       "</div>"
      ],
      "text/plain": [
       "col_0    0    1\n",
       "V86            \n",
       "0.0    746  349\n",
       "1.0     25   45"
      ]
     },
     "execution_count": 53,
     "metadata": {},
     "output_type": "execute_result"
    }
   ],
   "source": [
    "#Another way of building confusion matrix\n",
    "pd.crosstab(real_value,lm_hardclasses)"
   ]
  },
  {
   "cell_type": "code",
   "execution_count": 54,
   "metadata": {},
   "outputs": [
    {
     "data": {
      "text/plain": [
       "0.7206196999347684"
      ]
     },
     "execution_count": 54,
     "metadata": {},
     "output_type": "execute_result"
    }
   ],
   "source": [
    "#Accuracy on train data\n",
    "from sklearn.metrics import roc_auc_score\n",
    "roc_auc_score(y_test,train_prediction)"
   ]
  },
  {
   "cell_type": "code",
   "execution_count": null,
   "metadata": {},
   "outputs": [],
   "source": [
    "#We got 72% accuracy on train data,This is too low so now we will move to another algorithms"
   ]
  },
  {
   "cell_type": "code",
   "execution_count": 55,
   "metadata": {},
   "outputs": [],
   "source": [
    "#Now we build our model on whole data\n",
    "#we split our whole training data into predictors and target\n",
    "X_TRAIN=bd_train.drop(['V86'],axis=1)\n",
    "Y_TRAIN=bd_train['V86']"
   ]
  },
  {
   "cell_type": "code",
   "execution_count": 56,
   "metadata": {},
   "outputs": [
    {
     "name": "stderr",
     "output_type": "stream",
     "text": [
      "C:\\Users\\User\\Anaconda3\\lib\\site-packages\\sklearn\\linear_model\\logistic.py:432: FutureWarning: Default solver will be changed to 'lbfgs' in 0.22. Specify a solver to silence this warning.\n",
      "  FutureWarning)\n"
     ]
    },
    {
     "data": {
      "text/plain": [
       "LogisticRegression(C=1.0, class_weight=None, dual=False, fit_intercept=True,\n",
       "                   intercept_scaling=1, l1_ratio=None, max_iter=100,\n",
       "                   multi_class='warn', n_jobs=None, penalty='l1',\n",
       "                   random_state=None, solver='warn', tol=0.0001, verbose=0,\n",
       "                   warm_start=False)"
      ]
     },
     "execution_count": 56,
     "metadata": {},
     "output_type": "execute_result"
    }
   ],
   "source": [
    "#fit on whole train data\n",
    "logr.fit(X_TRAIN,Y_TRAIN)"
   ]
  },
  {
   "cell_type": "code",
   "execution_count": 57,
   "metadata": {},
   "outputs": [],
   "source": [
    "#Prediction on whole test data\n",
    "test_prediction=logr.predict_proba(bd_test)[:,1]"
   ]
  },
  {
   "cell_type": "code",
   "execution_count": 58,
   "metadata": {},
   "outputs": [
    {
     "data": {
      "text/plain": [
       "array([0.01394454, 0.26271044, 0.07678531, ..., 0.16509613, 0.08785252,\n",
       "       0.08837829])"
      ]
     },
     "execution_count": 58,
     "metadata": {},
     "output_type": "execute_result"
    }
   ],
   "source": [
    "test_prediction"
   ]
  },
  {
   "cell_type": "code",
   "execution_count": 59,
   "metadata": {},
   "outputs": [],
   "source": [
    "test_classes=(test_prediction>mycutoff).astype(int)"
   ]
  },
  {
   "cell_type": "code",
   "execution_count": 60,
   "metadata": {},
   "outputs": [],
   "source": [
    "pd.DataFrame(test_prediction).to_csv(\"MYLOGISTICSREG.csv\",index=False)"
   ]
  },
  {
   "cell_type": "code",
   "execution_count": 61,
   "metadata": {},
   "outputs": [],
   "source": [
    "from sklearn.metrics import fbeta_score"
   ]
  },
  {
   "cell_type": "code",
   "execution_count": 62,
   "metadata": {},
   "outputs": [
    {
     "data": {
      "text/plain": [
       "0.33382789317507416"
      ]
     },
     "execution_count": 62,
     "metadata": {},
     "output_type": "execute_result"
    }
   ],
   "source": [
    "#Fbeta Score\n",
    "fbeta_score(y_test,lm_hardclasses,beta=2)"
   ]
  },
  {
   "cell_type": "code",
   "execution_count": null,
   "metadata": {},
   "outputs": [],
   "source": []
  },
  {
   "cell_type": "markdown",
   "metadata": {},
   "source": [
    "# Random Forest"
   ]
  },
  {
   "cell_type": "code",
   "execution_count": 63,
   "metadata": {},
   "outputs": [],
   "source": [
    "from sklearn.ensemble import RandomForestClassifier\n",
    "from sklearn.model_selection import RandomizedSearchCV"
   ]
  },
  {
   "cell_type": "code",
   "execution_count": 64,
   "metadata": {},
   "outputs": [],
   "source": [
    "#Random Forest classifier\n",
    "RFModel=RandomForestClassifier()\n"
   ]
  },
  {
   "cell_type": "code",
   "execution_count": 65,
   "metadata": {},
   "outputs": [],
   "source": [
    "#parameters for random forest \n",
    "param_dist = {\"n_estimators\":[100,200,300,500,700,1000],\n",
    "              \"max_features\": [5,10,20,25,30,35],\n",
    "              \"bootstrap\": [True, False],\n",
    "              'class_weight':[None,'balanced'], \n",
    "               'criterion':['entropy','gini'],\n",
    "               'max_depth':[None,5,10,15,20,30,50,70],\n",
    "                'min_samples_leaf':[1,2,5,10,15,20], \n",
    "                'min_samples_split':[2,5,10,15,20]\n",
    "                }\n",
    "\n"
   ]
  },
  {
   "cell_type": "code",
   "execution_count": 66,
   "metadata": {},
   "outputs": [
    {
     "data": {
      "text/plain": [
       "RandomizedSearchCV(cv=10, error_score='raise-deprecating',\n",
       "                   estimator=RandomForestClassifier(bootstrap=True,\n",
       "                                                    class_weight=None,\n",
       "                                                    criterion='gini',\n",
       "                                                    max_depth=None,\n",
       "                                                    max_features='auto',\n",
       "                                                    max_leaf_nodes=None,\n",
       "                                                    min_impurity_decrease=0.0,\n",
       "                                                    min_impurity_split=None,\n",
       "                                                    min_samples_leaf=1,\n",
       "                                                    min_samples_split=2,\n",
       "                                                    min_weight_fraction_leaf=0.0,\n",
       "                                                    n_estimators='warn',\n",
       "                                                    n_jobs=None,\n",
       "                                                    oob_s...\n",
       "                                        'class_weight': [None, 'balanced'],\n",
       "                                        'criterion': ['entropy', 'gini'],\n",
       "                                        'max_depth': [None, 5, 10, 15, 20, 30,\n",
       "                                                      50, 70],\n",
       "                                        'max_features': [5, 10, 20, 25, 30, 35],\n",
       "                                        'min_samples_leaf': [1, 2, 5, 10, 15,\n",
       "                                                             20],\n",
       "                                        'min_samples_split': [2, 5, 10, 15, 20],\n",
       "                                        'n_estimators': [100, 200, 300, 500,\n",
       "                                                         700, 1000]},\n",
       "                   pre_dispatch='2*n_jobs', random_state=None, refit=True,\n",
       "                   return_train_score=False, scoring='roc_auc', verbose=0)"
      ]
     },
     "execution_count": 66,
     "metadata": {},
     "output_type": "execute_result"
    }
   ],
   "source": [
    "n_iter_search=10\n",
    "random_search=RandomizedSearchCV(RFModel,param_dist,n_iter=n_iter_search,scoring='roc_auc',cv=10)\n",
    "random_search.fit(x_train,y_train)"
   ]
  },
  {
   "cell_type": "code",
   "execution_count": 67,
   "metadata": {},
   "outputs": [],
   "source": [
    "rf_model=random_search.best_estimator_"
   ]
  },
  {
   "cell_type": "code",
   "execution_count": 68,
   "metadata": {},
   "outputs": [
    {
     "data": {
      "text/plain": [
       "RandomForestClassifier(bootstrap=False, class_weight=None, criterion='entropy',\n",
       "                       max_depth=5, max_features=5, max_leaf_nodes=None,\n",
       "                       min_impurity_decrease=0.0, min_impurity_split=None,\n",
       "                       min_samples_leaf=1, min_samples_split=20,\n",
       "                       min_weight_fraction_leaf=0.0, n_estimators=100,\n",
       "                       n_jobs=None, oob_score=False, random_state=None,\n",
       "                       verbose=0, warm_start=False)"
      ]
     },
     "execution_count": 68,
     "metadata": {},
     "output_type": "execute_result"
    }
   ],
   "source": [
    "#Fit 80% splitted train data using random search best estimator\n",
    "rf_model.fit(x_train,y_train)"
   ]
  },
  {
   "cell_type": "code",
   "execution_count": 69,
   "metadata": {},
   "outputs": [],
   "source": [
    "rf_train_predicted = rf_model.predict_proba(x_test)[:,1]\n",
    "real=y_test"
   ]
  },
  {
   "cell_type": "code",
   "execution_count": 70,
   "metadata": {},
   "outputs": [],
   "source": [
    "cutoffs=np.linspace(0.01,0.99,99)"
   ]
  },
  {
   "cell_type": "code",
   "execution_count": 71,
   "metadata": {},
   "outputs": [],
   "source": [
    "KS_all = []\n",
    "for cutoff in cutoffs:\n",
    "    predicted = (rf_train_predicted>cutoff).astype(int)\n",
    "    \n",
    "    TP = ((predicted==1) & (real==1)).sum()\n",
    "    TN = ((predicted==0) & (real==0)).sum()\n",
    "    FP = ((predicted==1) & (real==0)).sum()\n",
    "    FN = ((predicted==0) & (real==1)).sum()\n",
    "    \n",
    "    P = TP + FN\n",
    "    N = TN + FP\n",
    "    \n",
    "    KS = (TP/P)-(FP/N)\n",
    "    KS_all.append(KS)"
   ]
  },
  {
   "cell_type": "code",
   "execution_count": 72,
   "metadata": {},
   "outputs": [
    {
     "data": {
      "text/plain": [
       "0.06999999999999999"
      ]
     },
     "execution_count": 72,
     "metadata": {},
     "output_type": "execute_result"
    }
   ],
   "source": [
    "mycutoff = cutoffs[KS_all == max(KS_all)][0]\n",
    "mycutoff"
   ]
  },
  {
   "cell_type": "code",
   "execution_count": 73,
   "metadata": {},
   "outputs": [],
   "source": [
    "rf_hardclasses = (rf_train_predicted > mycutoff).astype(int)"
   ]
  },
  {
   "cell_type": "code",
   "execution_count": 74,
   "metadata": {},
   "outputs": [],
   "source": [
    "df = pd.DataFrame(list(zip(real,rf_hardclasses)),columns=[\"Real\",\"Predicted\"])\n"
   ]
  },
  {
   "cell_type": "code",
   "execution_count": 75,
   "metadata": {},
   "outputs": [
    {
     "data": {
      "text/html": [
       "<div>\n",
       "<style scoped>\n",
       "    .dataframe tbody tr th:only-of-type {\n",
       "        vertical-align: middle;\n",
       "    }\n",
       "\n",
       "    .dataframe tbody tr th {\n",
       "        vertical-align: top;\n",
       "    }\n",
       "\n",
       "    .dataframe thead th {\n",
       "        text-align: right;\n",
       "    }\n",
       "</style>\n",
       "<table border=\"1\" class=\"dataframe\">\n",
       "  <thead>\n",
       "    <tr style=\"text-align: right;\">\n",
       "      <th>Predicted</th>\n",
       "      <th>0</th>\n",
       "      <th>1</th>\n",
       "    </tr>\n",
       "    <tr>\n",
       "      <th>Real</th>\n",
       "      <th></th>\n",
       "      <th></th>\n",
       "    </tr>\n",
       "  </thead>\n",
       "  <tbody>\n",
       "    <tr>\n",
       "      <th>0.0</th>\n",
       "      <td>798</td>\n",
       "      <td>297</td>\n",
       "    </tr>\n",
       "    <tr>\n",
       "      <th>1.0</th>\n",
       "      <td>25</td>\n",
       "      <td>45</td>\n",
       "    </tr>\n",
       "  </tbody>\n",
       "</table>\n",
       "</div>"
      ],
      "text/plain": [
       "Predicted    0    1\n",
       "Real               \n",
       "0.0        798  297\n",
       "1.0         25   45"
      ]
     },
     "execution_count": 75,
     "metadata": {},
     "output_type": "execute_result"
    }
   ],
   "source": [
    "#Lets build confusion matrix\n",
    "pd.crosstab(df[\"Real\"], df[\"Predicted\"])"
   ]
  },
  {
   "cell_type": "code",
   "execution_count": 76,
   "metadata": {},
   "outputs": [
    {
     "data": {
      "text/plain": [
       "0.685812133072407"
      ]
     },
     "execution_count": 76,
     "metadata": {},
     "output_type": "execute_result"
    }
   ],
   "source": [
    "#Accuracy\n",
    "roc_auc_score(real,rf_hardclasses)"
   ]
  },
  {
   "cell_type": "code",
   "execution_count": 77,
   "metadata": {},
   "outputs": [
    {
     "data": {
      "text/plain": [
       "0.33382789317507416"
      ]
     },
     "execution_count": 77,
     "metadata": {},
     "output_type": "execute_result"
    }
   ],
   "source": [
    "#F-beta score\n",
    "fbeta_score(y_test,lm_hardclasses,beta=2)"
   ]
  },
  {
   "cell_type": "code",
   "execution_count": 78,
   "metadata": {},
   "outputs": [
    {
     "data": {
      "text/plain": [
       "RandomForestClassifier(bootstrap=False, class_weight=None, criterion='entropy',\n",
       "                       max_depth=5, max_features=5, max_leaf_nodes=None,\n",
       "                       min_impurity_decrease=0.0, min_impurity_split=None,\n",
       "                       min_samples_leaf=1, min_samples_split=20,\n",
       "                       min_weight_fraction_leaf=0.0, n_estimators=100,\n",
       "                       n_jobs=None, oob_score=False, random_state=None,\n",
       "                       verbose=0, warm_start=False)"
      ]
     },
     "execution_count": 78,
     "metadata": {},
     "output_type": "execute_result"
    }
   ],
   "source": [
    "#Fit on whole training data\n",
    "rf_model.fit(X_TRAIN,Y_TRAIN)"
   ]
  },
  {
   "cell_type": "code",
   "execution_count": 79,
   "metadata": {},
   "outputs": [],
   "source": [
    "test_score=rf_model.predict_proba(bd_test)[:,1]\n",
    "test_classes=(test_score>mycutoff).astype(int)\n",
    "pd.DataFrame(test_classes).to_csv(\"RANDOMFORESTSolution.csv\",index=False)"
   ]
  },
  {
   "cell_type": "code",
   "execution_count": null,
   "metadata": {},
   "outputs": [],
   "source": []
  }
 ],
 "metadata": {
  "kernelspec": {
   "display_name": "Python 3",
   "language": "python",
   "name": "python3"
  },
  "language_info": {
   "codemirror_mode": {
    "name": "ipython",
    "version": 3
   },
   "file_extension": ".py",
   "mimetype": "text/x-python",
   "name": "python",
   "nbconvert_exporter": "python",
   "pygments_lexer": "ipython3",
   "version": "3.7.3"
  }
 },
 "nbformat": 4,
 "nbformat_minor": 2
}
