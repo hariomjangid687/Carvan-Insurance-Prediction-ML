{
 "cells": [
  {
   "cell_type": "code",
   "execution_count": 0,
   "metadata": {
    "colab": {},
    "colab_type": "code",
    "id": "Jj-dUgPL86BV"
   },
   "outputs": [],
   "source": [
    "from pydrive.auth import GoogleAuth\n",
    "from pydrive.drive import GoogleDrive\n",
    "from google.colab import auth\n",
    "from oauth2client.client import GoogleCredentials"
   ]
  },
  {
   "cell_type": "code",
   "execution_count": 0,
   "metadata": {
    "colab": {},
    "colab_type": "code",
    "id": "CX_e_vmt86MJ"
   },
   "outputs": [],
   "source": [
    "auth.authenticate_user()\n",
    "gauth = GoogleAuth()\n",
    "gauth.credentials = GoogleCredentials.get_application_default()\n",
    "drive = GoogleDrive(gauth)"
   ]
  },
  {
   "cell_type": "code",
   "execution_count": 0,
   "metadata": {
    "colab": {},
    "colab_type": "code",
    "id": "94M7CaQc9F5F"
   },
   "outputs": [],
   "source": [
    "downloaded1 = drive.CreateFile({'id': '1Ggk2ZQd3LDf9JtZch0k5ux4BoCRjaI00'})\n",
    "downloaded1.GetContentFile('carvan_train.csv')\n",
    "\n",
    "downloaded2 = drive.CreateFile({'id': '1dDHjQfjMQn0dZE5eOIKggV24JZmipFbK'})\n",
    "downloaded2.GetContentFile('carvan_test.csv')\n"
   ]
  },
  {
   "cell_type": "code",
   "execution_count": 6,
   "metadata": {
    "colab": {
     "base_uri": "https://localhost:8080/",
     "height": 36
    },
    "colab_type": "code",
    "executionInfo": {
     "elapsed": 1031,
     "status": "ok",
     "timestamp": 1578886425257,
     "user": {
      "displayName": "Hariom Jangid",
      "photoUrl": "",
      "userId": "17999286889382918401"
     },
     "user_tz": -330
    },
    "id": "OUA8kqrr9GHc",
    "outputId": "c50d4550-efe1-45e4-8b6d-ba198844defd"
   },
   "outputs": [
    {
     "data": {
      "text/plain": [
       "['.config', 'carvan_test.csv', 'adc.json', 'carvan_train.csv', 'sample_data']"
      ]
     },
     "execution_count": 6,
     "metadata": {
      "tags": []
     },
     "output_type": "execute_result"
    }
   ],
   "source": [
    "import os\n",
    "os.listdir()"
   ]
  },
  {
   "cell_type": "code",
   "execution_count": 0,
   "metadata": {
    "colab": {},
    "colab_type": "code",
    "id": "jEJO1Zx-86eO"
   },
   "outputs": [],
   "source": []
  },
  {
   "cell_type": "code",
   "execution_count": 0,
   "metadata": {
    "colab": {},
    "colab_type": "code",
    "id": "CGSX9ofY8p76"
   },
   "outputs": [],
   "source": [
    "import pandas as pd\n",
    "import numpy as np\n",
    "import seaborn as sns\n",
    "import matplotlib.pyplot as plt\n",
    "%matplotlib inline"
   ]
  },
  {
   "cell_type": "code",
   "execution_count": 0,
   "metadata": {
    "colab": {},
    "colab_type": "code",
    "id": "vAVU9AoV820Y"
   },
   "outputs": [],
   "source": []
  },
  {
   "cell_type": "code",
   "execution_count": 0,
   "metadata": {
    "colab": {},
    "colab_type": "code",
    "id": "ElBPf7oT8p8N"
   },
   "outputs": [],
   "source": [
    "path1=r\"carvan_train.csv\"\n",
    "path2=r\"carvan_test.csv\"\n",
    "\n",
    "#reading training data\n",
    "bd_train=pd.read_csv(path1)\n",
    "#reading test data\n",
    "bd_test=pd.read_csv(path2)"
   ]
  },
  {
   "cell_type": "code",
   "execution_count": 0,
   "metadata": {
    "colab": {},
    "colab_type": "code",
    "id": "1hoL_XZe8p8a"
   },
   "outputs": [],
   "source": [
    "#Now we will concat these datasets for data preprocesssing \n",
    "bd_test['V86']=np.NaN\n",
    "bd_train['data']=\"train\"\n",
    "bd_test['data']=\"test\"\n",
    "bd_test=bd_test[bd_train.columns]\n",
    "bd_all=pd.concat([bd_train,bd_test],axis=0)"
   ]
  },
  {
   "cell_type": "code",
   "execution_count": 11,
   "metadata": {
    "colab": {
     "base_uri": "https://localhost:8080/",
     "height": 255
    },
    "colab_type": "code",
    "executionInfo": {
     "elapsed": 742,
     "status": "ok",
     "timestamp": 1578886481890,
     "user": {
      "displayName": "Hariom Jangid",
      "photoUrl": "",
      "userId": "17999286889382918401"
     },
     "user_tz": -330
    },
    "id": "OCdSMesy8p8l",
    "outputId": "666cccdb-063c-4987-b332-4caf04fbebf1"
   },
   "outputs": [
    {
     "data": {
      "text/html": [
       "<div>\n",
       "<style scoped>\n",
       "    .dataframe tbody tr th:only-of-type {\n",
       "        vertical-align: middle;\n",
       "    }\n",
       "\n",
       "    .dataframe tbody tr th {\n",
       "        vertical-align: top;\n",
       "    }\n",
       "\n",
       "    .dataframe thead th {\n",
       "        text-align: right;\n",
       "    }\n",
       "</style>\n",
       "<table border=\"1\" class=\"dataframe\">\n",
       "  <thead>\n",
       "    <tr style=\"text-align: right;\">\n",
       "      <th></th>\n",
       "      <th>V1</th>\n",
       "      <th>V2</th>\n",
       "      <th>V3</th>\n",
       "      <th>V4</th>\n",
       "      <th>V5</th>\n",
       "      <th>V6</th>\n",
       "      <th>V7</th>\n",
       "      <th>V8</th>\n",
       "      <th>V9</th>\n",
       "      <th>V10</th>\n",
       "      <th>V11</th>\n",
       "      <th>V12</th>\n",
       "      <th>V13</th>\n",
       "      <th>V14</th>\n",
       "      <th>V15</th>\n",
       "      <th>V16</th>\n",
       "      <th>V17</th>\n",
       "      <th>V18</th>\n",
       "      <th>V19</th>\n",
       "      <th>V20</th>\n",
       "      <th>V21</th>\n",
       "      <th>V22</th>\n",
       "      <th>V23</th>\n",
       "      <th>V24</th>\n",
       "      <th>V25</th>\n",
       "      <th>V26</th>\n",
       "      <th>V27</th>\n",
       "      <th>V28</th>\n",
       "      <th>V29</th>\n",
       "      <th>V30</th>\n",
       "      <th>V31</th>\n",
       "      <th>V32</th>\n",
       "      <th>V33</th>\n",
       "      <th>V34</th>\n",
       "      <th>V35</th>\n",
       "      <th>V36</th>\n",
       "      <th>V37</th>\n",
       "      <th>V38</th>\n",
       "      <th>V39</th>\n",
       "      <th>V40</th>\n",
       "      <th>...</th>\n",
       "      <th>V48</th>\n",
       "      <th>V49</th>\n",
       "      <th>V50</th>\n",
       "      <th>V51</th>\n",
       "      <th>V52</th>\n",
       "      <th>V53</th>\n",
       "      <th>V54</th>\n",
       "      <th>V55</th>\n",
       "      <th>V56</th>\n",
       "      <th>V57</th>\n",
       "      <th>V58</th>\n",
       "      <th>V59</th>\n",
       "      <th>V60</th>\n",
       "      <th>V61</th>\n",
       "      <th>V62</th>\n",
       "      <th>V63</th>\n",
       "      <th>V64</th>\n",
       "      <th>V65</th>\n",
       "      <th>V66</th>\n",
       "      <th>V67</th>\n",
       "      <th>V68</th>\n",
       "      <th>V69</th>\n",
       "      <th>V70</th>\n",
       "      <th>V71</th>\n",
       "      <th>V72</th>\n",
       "      <th>V73</th>\n",
       "      <th>V74</th>\n",
       "      <th>V75</th>\n",
       "      <th>V76</th>\n",
       "      <th>V77</th>\n",
       "      <th>V78</th>\n",
       "      <th>V79</th>\n",
       "      <th>V80</th>\n",
       "      <th>V81</th>\n",
       "      <th>V82</th>\n",
       "      <th>V83</th>\n",
       "      <th>V84</th>\n",
       "      <th>V85</th>\n",
       "      <th>V86</th>\n",
       "      <th>data</th>\n",
       "    </tr>\n",
       "  </thead>\n",
       "  <tbody>\n",
       "    <tr>\n",
       "      <th>0</th>\n",
       "      <td>33</td>\n",
       "      <td>1</td>\n",
       "      <td>3</td>\n",
       "      <td>2</td>\n",
       "      <td>8</td>\n",
       "      <td>0</td>\n",
       "      <td>5</td>\n",
       "      <td>1</td>\n",
       "      <td>3</td>\n",
       "      <td>7</td>\n",
       "      <td>0</td>\n",
       "      <td>2</td>\n",
       "      <td>1</td>\n",
       "      <td>2</td>\n",
       "      <td>6</td>\n",
       "      <td>1</td>\n",
       "      <td>2</td>\n",
       "      <td>7</td>\n",
       "      <td>1</td>\n",
       "      <td>0</td>\n",
       "      <td>1</td>\n",
       "      <td>2</td>\n",
       "      <td>5</td>\n",
       "      <td>2</td>\n",
       "      <td>1</td>\n",
       "      <td>1</td>\n",
       "      <td>2</td>\n",
       "      <td>6</td>\n",
       "      <td>1</td>\n",
       "      <td>1</td>\n",
       "      <td>8</td>\n",
       "      <td>8</td>\n",
       "      <td>0</td>\n",
       "      <td>1</td>\n",
       "      <td>8</td>\n",
       "      <td>1</td>\n",
       "      <td>0</td>\n",
       "      <td>4</td>\n",
       "      <td>5</td>\n",
       "      <td>0</td>\n",
       "      <td>...</td>\n",
       "      <td>0</td>\n",
       "      <td>0</td>\n",
       "      <td>0</td>\n",
       "      <td>0</td>\n",
       "      <td>0</td>\n",
       "      <td>0</td>\n",
       "      <td>0</td>\n",
       "      <td>0</td>\n",
       "      <td>0</td>\n",
       "      <td>0</td>\n",
       "      <td>0</td>\n",
       "      <td>5</td>\n",
       "      <td>0</td>\n",
       "      <td>0</td>\n",
       "      <td>0</td>\n",
       "      <td>0</td>\n",
       "      <td>0</td>\n",
       "      <td>0</td>\n",
       "      <td>0</td>\n",
       "      <td>0</td>\n",
       "      <td>1</td>\n",
       "      <td>0</td>\n",
       "      <td>0</td>\n",
       "      <td>0</td>\n",
       "      <td>0</td>\n",
       "      <td>0</td>\n",
       "      <td>0</td>\n",
       "      <td>0</td>\n",
       "      <td>0</td>\n",
       "      <td>0</td>\n",
       "      <td>0</td>\n",
       "      <td>0</td>\n",
       "      <td>1</td>\n",
       "      <td>0</td>\n",
       "      <td>0</td>\n",
       "      <td>0</td>\n",
       "      <td>0</td>\n",
       "      <td>0</td>\n",
       "      <td>0.0</td>\n",
       "      <td>train</td>\n",
       "    </tr>\n",
       "    <tr>\n",
       "      <th>1</th>\n",
       "      <td>37</td>\n",
       "      <td>1</td>\n",
       "      <td>2</td>\n",
       "      <td>2</td>\n",
       "      <td>8</td>\n",
       "      <td>1</td>\n",
       "      <td>4</td>\n",
       "      <td>1</td>\n",
       "      <td>4</td>\n",
       "      <td>6</td>\n",
       "      <td>2</td>\n",
       "      <td>2</td>\n",
       "      <td>0</td>\n",
       "      <td>4</td>\n",
       "      <td>5</td>\n",
       "      <td>0</td>\n",
       "      <td>5</td>\n",
       "      <td>4</td>\n",
       "      <td>0</td>\n",
       "      <td>0</td>\n",
       "      <td>0</td>\n",
       "      <td>5</td>\n",
       "      <td>0</td>\n",
       "      <td>4</td>\n",
       "      <td>0</td>\n",
       "      <td>2</td>\n",
       "      <td>3</td>\n",
       "      <td>5</td>\n",
       "      <td>0</td>\n",
       "      <td>2</td>\n",
       "      <td>7</td>\n",
       "      <td>7</td>\n",
       "      <td>1</td>\n",
       "      <td>2</td>\n",
       "      <td>6</td>\n",
       "      <td>3</td>\n",
       "      <td>2</td>\n",
       "      <td>0</td>\n",
       "      <td>5</td>\n",
       "      <td>2</td>\n",
       "      <td>...</td>\n",
       "      <td>0</td>\n",
       "      <td>0</td>\n",
       "      <td>0</td>\n",
       "      <td>0</td>\n",
       "      <td>0</td>\n",
       "      <td>0</td>\n",
       "      <td>0</td>\n",
       "      <td>0</td>\n",
       "      <td>0</td>\n",
       "      <td>0</td>\n",
       "      <td>0</td>\n",
       "      <td>2</td>\n",
       "      <td>0</td>\n",
       "      <td>0</td>\n",
       "      <td>0</td>\n",
       "      <td>0</td>\n",
       "      <td>0</td>\n",
       "      <td>2</td>\n",
       "      <td>0</td>\n",
       "      <td>0</td>\n",
       "      <td>0</td>\n",
       "      <td>0</td>\n",
       "      <td>0</td>\n",
       "      <td>0</td>\n",
       "      <td>0</td>\n",
       "      <td>0</td>\n",
       "      <td>0</td>\n",
       "      <td>0</td>\n",
       "      <td>0</td>\n",
       "      <td>0</td>\n",
       "      <td>0</td>\n",
       "      <td>0</td>\n",
       "      <td>1</td>\n",
       "      <td>0</td>\n",
       "      <td>0</td>\n",
       "      <td>0</td>\n",
       "      <td>0</td>\n",
       "      <td>0</td>\n",
       "      <td>0.0</td>\n",
       "      <td>train</td>\n",
       "    </tr>\n",
       "    <tr>\n",
       "      <th>2</th>\n",
       "      <td>37</td>\n",
       "      <td>1</td>\n",
       "      <td>2</td>\n",
       "      <td>2</td>\n",
       "      <td>8</td>\n",
       "      <td>0</td>\n",
       "      <td>4</td>\n",
       "      <td>2</td>\n",
       "      <td>4</td>\n",
       "      <td>3</td>\n",
       "      <td>2</td>\n",
       "      <td>4</td>\n",
       "      <td>4</td>\n",
       "      <td>4</td>\n",
       "      <td>2</td>\n",
       "      <td>0</td>\n",
       "      <td>5</td>\n",
       "      <td>4</td>\n",
       "      <td>0</td>\n",
       "      <td>0</td>\n",
       "      <td>0</td>\n",
       "      <td>7</td>\n",
       "      <td>0</td>\n",
       "      <td>2</td>\n",
       "      <td>0</td>\n",
       "      <td>5</td>\n",
       "      <td>0</td>\n",
       "      <td>4</td>\n",
       "      <td>0</td>\n",
       "      <td>7</td>\n",
       "      <td>2</td>\n",
       "      <td>7</td>\n",
       "      <td>0</td>\n",
       "      <td>2</td>\n",
       "      <td>9</td>\n",
       "      <td>0</td>\n",
       "      <td>4</td>\n",
       "      <td>5</td>\n",
       "      <td>0</td>\n",
       "      <td>0</td>\n",
       "      <td>...</td>\n",
       "      <td>0</td>\n",
       "      <td>0</td>\n",
       "      <td>0</td>\n",
       "      <td>0</td>\n",
       "      <td>0</td>\n",
       "      <td>0</td>\n",
       "      <td>0</td>\n",
       "      <td>0</td>\n",
       "      <td>0</td>\n",
       "      <td>0</td>\n",
       "      <td>0</td>\n",
       "      <td>2</td>\n",
       "      <td>0</td>\n",
       "      <td>0</td>\n",
       "      <td>0</td>\n",
       "      <td>0</td>\n",
       "      <td>0</td>\n",
       "      <td>1</td>\n",
       "      <td>0</td>\n",
       "      <td>0</td>\n",
       "      <td>1</td>\n",
       "      <td>0</td>\n",
       "      <td>0</td>\n",
       "      <td>0</td>\n",
       "      <td>0</td>\n",
       "      <td>0</td>\n",
       "      <td>0</td>\n",
       "      <td>0</td>\n",
       "      <td>0</td>\n",
       "      <td>0</td>\n",
       "      <td>0</td>\n",
       "      <td>0</td>\n",
       "      <td>1</td>\n",
       "      <td>0</td>\n",
       "      <td>0</td>\n",
       "      <td>0</td>\n",
       "      <td>0</td>\n",
       "      <td>0</td>\n",
       "      <td>0.0</td>\n",
       "      <td>train</td>\n",
       "    </tr>\n",
       "    <tr>\n",
       "      <th>3</th>\n",
       "      <td>9</td>\n",
       "      <td>1</td>\n",
       "      <td>3</td>\n",
       "      <td>3</td>\n",
       "      <td>3</td>\n",
       "      <td>2</td>\n",
       "      <td>3</td>\n",
       "      <td>2</td>\n",
       "      <td>4</td>\n",
       "      <td>5</td>\n",
       "      <td>2</td>\n",
       "      <td>2</td>\n",
       "      <td>2</td>\n",
       "      <td>3</td>\n",
       "      <td>4</td>\n",
       "      <td>3</td>\n",
       "      <td>4</td>\n",
       "      <td>2</td>\n",
       "      <td>4</td>\n",
       "      <td>0</td>\n",
       "      <td>0</td>\n",
       "      <td>3</td>\n",
       "      <td>1</td>\n",
       "      <td>2</td>\n",
       "      <td>3</td>\n",
       "      <td>2</td>\n",
       "      <td>1</td>\n",
       "      <td>4</td>\n",
       "      <td>0</td>\n",
       "      <td>5</td>\n",
       "      <td>4</td>\n",
       "      <td>9</td>\n",
       "      <td>0</td>\n",
       "      <td>0</td>\n",
       "      <td>7</td>\n",
       "      <td>2</td>\n",
       "      <td>1</td>\n",
       "      <td>5</td>\n",
       "      <td>3</td>\n",
       "      <td>0</td>\n",
       "      <td>...</td>\n",
       "      <td>0</td>\n",
       "      <td>0</td>\n",
       "      <td>0</td>\n",
       "      <td>0</td>\n",
       "      <td>0</td>\n",
       "      <td>0</td>\n",
       "      <td>0</td>\n",
       "      <td>0</td>\n",
       "      <td>0</td>\n",
       "      <td>0</td>\n",
       "      <td>0</td>\n",
       "      <td>2</td>\n",
       "      <td>0</td>\n",
       "      <td>0</td>\n",
       "      <td>0</td>\n",
       "      <td>0</td>\n",
       "      <td>0</td>\n",
       "      <td>0</td>\n",
       "      <td>0</td>\n",
       "      <td>0</td>\n",
       "      <td>1</td>\n",
       "      <td>0</td>\n",
       "      <td>0</td>\n",
       "      <td>0</td>\n",
       "      <td>0</td>\n",
       "      <td>0</td>\n",
       "      <td>0</td>\n",
       "      <td>0</td>\n",
       "      <td>0</td>\n",
       "      <td>0</td>\n",
       "      <td>0</td>\n",
       "      <td>0</td>\n",
       "      <td>1</td>\n",
       "      <td>0</td>\n",
       "      <td>0</td>\n",
       "      <td>0</td>\n",
       "      <td>0</td>\n",
       "      <td>0</td>\n",
       "      <td>0.0</td>\n",
       "      <td>train</td>\n",
       "    </tr>\n",
       "    <tr>\n",
       "      <th>4</th>\n",
       "      <td>40</td>\n",
       "      <td>1</td>\n",
       "      <td>4</td>\n",
       "      <td>2</td>\n",
       "      <td>10</td>\n",
       "      <td>1</td>\n",
       "      <td>4</td>\n",
       "      <td>1</td>\n",
       "      <td>4</td>\n",
       "      <td>7</td>\n",
       "      <td>1</td>\n",
       "      <td>2</td>\n",
       "      <td>2</td>\n",
       "      <td>4</td>\n",
       "      <td>4</td>\n",
       "      <td>5</td>\n",
       "      <td>4</td>\n",
       "      <td>0</td>\n",
       "      <td>0</td>\n",
       "      <td>5</td>\n",
       "      <td>4</td>\n",
       "      <td>0</td>\n",
       "      <td>0</td>\n",
       "      <td>0</td>\n",
       "      <td>9</td>\n",
       "      <td>0</td>\n",
       "      <td>0</td>\n",
       "      <td>0</td>\n",
       "      <td>0</td>\n",
       "      <td>4</td>\n",
       "      <td>5</td>\n",
       "      <td>6</td>\n",
       "      <td>2</td>\n",
       "      <td>1</td>\n",
       "      <td>5</td>\n",
       "      <td>4</td>\n",
       "      <td>0</td>\n",
       "      <td>0</td>\n",
       "      <td>9</td>\n",
       "      <td>0</td>\n",
       "      <td>...</td>\n",
       "      <td>0</td>\n",
       "      <td>0</td>\n",
       "      <td>0</td>\n",
       "      <td>0</td>\n",
       "      <td>0</td>\n",
       "      <td>0</td>\n",
       "      <td>0</td>\n",
       "      <td>0</td>\n",
       "      <td>0</td>\n",
       "      <td>0</td>\n",
       "      <td>0</td>\n",
       "      <td>6</td>\n",
       "      <td>0</td>\n",
       "      <td>0</td>\n",
       "      <td>0</td>\n",
       "      <td>0</td>\n",
       "      <td>0</td>\n",
       "      <td>0</td>\n",
       "      <td>0</td>\n",
       "      <td>0</td>\n",
       "      <td>0</td>\n",
       "      <td>0</td>\n",
       "      <td>0</td>\n",
       "      <td>0</td>\n",
       "      <td>0</td>\n",
       "      <td>0</td>\n",
       "      <td>0</td>\n",
       "      <td>0</td>\n",
       "      <td>0</td>\n",
       "      <td>0</td>\n",
       "      <td>0</td>\n",
       "      <td>0</td>\n",
       "      <td>1</td>\n",
       "      <td>0</td>\n",
       "      <td>0</td>\n",
       "      <td>0</td>\n",
       "      <td>0</td>\n",
       "      <td>0</td>\n",
       "      <td>0.0</td>\n",
       "      <td>train</td>\n",
       "    </tr>\n",
       "  </tbody>\n",
       "</table>\n",
       "<p>5 rows × 87 columns</p>\n",
       "</div>"
      ],
      "text/plain": [
       "   V1  V2  V3  V4  V5  V6  V7  V8  ...  V80  V81  V82  V83  V84  V85  V86   data\n",
       "0  33   1   3   2   8   0   5   1  ...    1    0    0    0    0    0  0.0  train\n",
       "1  37   1   2   2   8   1   4   1  ...    1    0    0    0    0    0  0.0  train\n",
       "2  37   1   2   2   8   0   4   2  ...    1    0    0    0    0    0  0.0  train\n",
       "3   9   1   3   3   3   2   3   2  ...    1    0    0    0    0    0  0.0  train\n",
       "4  40   1   4   2  10   1   4   1  ...    1    0    0    0    0    0  0.0  train\n",
       "\n",
       "[5 rows x 87 columns]"
      ]
     },
     "execution_count": 11,
     "metadata": {
      "tags": []
     },
     "output_type": "execute_result"
    }
   ],
   "source": [
    "bd_all.head()"
   ]
  },
  {
   "cell_type": "code",
   "execution_count": 12,
   "metadata": {
    "colab": {
     "base_uri": "https://localhost:8080/",
     "height": 73
    },
    "colab_type": "code",
    "executionInfo": {
     "elapsed": 1001,
     "status": "ok",
     "timestamp": 1578886492976,
     "user": {
      "displayName": "Hariom Jangid",
      "photoUrl": "",
      "userId": "17999286889382918401"
     },
     "user_tz": -330
    },
    "id": "LjLfVxPQ8p83",
    "outputId": "752bdc83-c67a-45d1-886b-acb3df5706a8"
   },
   "outputs": [
    {
     "data": {
      "text/plain": [
       "0.0    5474\n",
       "1.0     348\n",
       "Name: V86, dtype: int64"
      ]
     },
     "execution_count": 12,
     "metadata": {
      "tags": []
     },
     "output_type": "execute_result"
    }
   ],
   "source": [
    "#V86 is our dependent(target) variable\n",
    "bd_all['V86'].value_counts()"
   ]
  },
  {
   "cell_type": "code",
   "execution_count": 13,
   "metadata": {
    "colab": {
     "base_uri": "https://localhost:8080/",
     "height": 1000
    },
    "colab_type": "code",
    "executionInfo": {
     "elapsed": 1033,
     "status": "ok",
     "timestamp": 1578886497701,
     "user": {
      "displayName": "Hariom Jangid",
      "photoUrl": "",
      "userId": "17999286889382918401"
     },
     "user_tz": -330
    },
    "id": "bgdzAa-o8p9D",
    "outputId": "8897dbdf-c20f-4a15-8d5c-af5c92254cf9"
   },
   "outputs": [
    {
     "data": {
      "text/plain": [
       "[('V1', dtype('int64'), 40),\n",
       " ('V2', dtype('int64'), 9),\n",
       " ('V3', dtype('int64'), 6),\n",
       " ('V4', dtype('int64'), 6),\n",
       " ('V5', dtype('int64'), 10),\n",
       " ('V6', dtype('int64'), 10),\n",
       " ('V7', dtype('int64'), 10),\n",
       " ('V8', dtype('int64'), 6),\n",
       " ('V9', dtype('int64'), 10),\n",
       " ('V10', dtype('int64'), 10),\n",
       " ('V11', dtype('int64'), 8),\n",
       " ('V12', dtype('int64'), 10),\n",
       " ('V13', dtype('int64'), 10),\n",
       " ('V14', dtype('int64'), 10),\n",
       " ('V15', dtype('int64'), 10),\n",
       " ('V16', dtype('int64'), 10),\n",
       " ('V17', dtype('int64'), 10),\n",
       " ('V18', dtype('int64'), 10),\n",
       " ('V19', dtype('int64'), 10),\n",
       " ('V20', dtype('int64'), 6),\n",
       " ('V21', dtype('int64'), 10),\n",
       " ('V22', dtype('int64'), 10),\n",
       " ('V23', dtype('int64'), 10),\n",
       " ('V24', dtype('int64'), 10),\n",
       " ('V25', dtype('int64'), 10),\n",
       " ('V26', dtype('int64'), 10),\n",
       " ('V27', dtype('int64'), 10),\n",
       " ('V28', dtype('int64'), 10),\n",
       " ('V29', dtype('int64'), 10),\n",
       " ('V30', dtype('int64'), 10),\n",
       " ('V31', dtype('int64'), 10),\n",
       " ('V32', dtype('int64'), 10),\n",
       " ('V33', dtype('int64'), 9),\n",
       " ('V34', dtype('int64'), 10),\n",
       " ('V35', dtype('int64'), 10),\n",
       " ('V36', dtype('int64'), 10),\n",
       " ('V37', dtype('int64'), 10),\n",
       " ('V38', dtype('int64'), 10),\n",
       " ('V39', dtype('int64'), 10),\n",
       " ('V40', dtype('int64'), 10),\n",
       " ('V41', dtype('int64'), 9),\n",
       " ('V42', dtype('int64'), 10),\n",
       " ('V43', dtype('int64'), 8),\n",
       " ('V44', dtype('int64'), 4),\n",
       " ('V45', dtype('int64'), 7),\n",
       " ('V46', dtype('int64'), 5),\n",
       " ('V47', dtype('int64'), 7),\n",
       " ('V48', dtype('int64'), 4),\n",
       " ('V49', dtype('int64'), 6),\n",
       " ('V50', dtype('int64'), 5),\n",
       " ('V51', dtype('int64'), 6),\n",
       " ('V52', dtype('int64'), 6),\n",
       " ('V53', dtype('int64'), 6),\n",
       " ('V54', dtype('int64'), 6),\n",
       " ('V55', dtype('int64'), 10),\n",
       " ('V56', dtype('int64'), 7),\n",
       " ('V57', dtype('int64'), 3),\n",
       " ('V58', dtype('int64'), 5),\n",
       " ('V59', dtype('int64'), 9),\n",
       " ('V60', dtype('int64'), 4),\n",
       " ('V61', dtype('int64'), 7),\n",
       " ('V62', dtype('int64'), 2),\n",
       " ('V63', dtype('int64'), 7),\n",
       " ('V64', dtype('int64'), 5),\n",
       " ('V65', dtype('int64'), 3),\n",
       " ('V66', dtype('int64'), 3),\n",
       " ('V67', dtype('int64'), 2),\n",
       " ('V68', dtype('int64'), 9),\n",
       " ('V69', dtype('int64'), 6),\n",
       " ('V70', dtype('int64'), 5),\n",
       " ('V71', dtype('int64'), 5),\n",
       " ('V72', dtype('int64'), 4),\n",
       " ('V73', dtype('int64'), 7),\n",
       " ('V74', dtype('int64'), 6),\n",
       " ('V75', dtype('int64'), 4),\n",
       " ('V76', dtype('int64'), 7),\n",
       " ('V77', dtype('int64'), 2),\n",
       " ('V78', dtype('int64'), 2),\n",
       " ('V79', dtype('int64'), 3),\n",
       " ('V80', dtype('int64'), 8),\n",
       " ('V81', dtype('int64'), 2),\n",
       " ('V82', dtype('int64'), 3),\n",
       " ('V83', dtype('int64'), 5),\n",
       " ('V84', dtype('int64'), 3),\n",
       " ('V85', dtype('int64'), 3),\n",
       " ('V86', dtype('float64'), 2),\n",
       " ('data', dtype('O'), 2)]"
      ]
     },
     "execution_count": 13,
     "metadata": {
      "tags": []
     },
     "output_type": "execute_result"
    }
   ],
   "source": [
    "#we check for all the columns with their data type and unique values\n",
    "list(zip(bd_all.columns,bd_all.dtypes,bd_all.nunique()))"
   ]
  },
  {
   "cell_type": "code",
   "execution_count": 14,
   "metadata": {
    "colab": {
     "base_uri": "https://localhost:8080/",
     "height": 36
    },
    "colab_type": "code",
    "executionInfo": {
     "elapsed": 1037,
     "status": "ok",
     "timestamp": 1578886504203,
     "user": {
      "displayName": "Hariom Jangid",
      "photoUrl": "",
      "userId": "17999286889382918401"
     },
     "user_tz": -330
    },
    "id": "eowjKWdd8p9S",
    "outputId": "9a70ad70-df54-45b1-8e65-54356c7d68d1"
   },
   "outputs": [
    {
     "data": {
      "text/plain": [
       "40"
      ]
     },
     "execution_count": 14,
     "metadata": {
      "tags": []
     },
     "output_type": "execute_result"
    }
   ],
   "source": [
    "bd_all['V1'].nunique()"
   ]
  },
  {
   "cell_type": "code",
   "execution_count": 15,
   "metadata": {
    "colab": {
     "base_uri": "https://localhost:8080/",
     "height": 221
    },
    "colab_type": "code",
    "executionInfo": {
     "elapsed": 960,
     "status": "ok",
     "timestamp": 1578886505530,
     "user": {
      "displayName": "Hariom Jangid",
      "photoUrl": "",
      "userId": "17999286889382918401"
     },
     "user_tz": -330
    },
    "id": "cu0cfM7H8p9c",
    "outputId": "e3d167a5-0491-4028-9c0b-fe4630456636"
   },
   "outputs": [
    {
     "data": {
      "text/plain": [
       "V2\n",
       "1     0.06\n",
       "2     0.07\n",
       "3     0.00\n",
       "4     0.00\n",
       "5     0.00\n",
       "6     0.00\n",
       "7     0.00\n",
       "8     0.00\n",
       "10    0.00\n",
       "Name: V86, dtype: float64"
      ]
     },
     "execution_count": 15,
     "metadata": {
      "tags": []
     },
     "output_type": "execute_result"
    }
   ],
   "source": [
    "round(bd_all.groupby(\"V2\")['V86'].mean(),2)"
   ]
  },
  {
   "cell_type": "code",
   "execution_count": 0,
   "metadata": {
    "colab": {},
    "colab_type": "code",
    "id": "k24TBTeJ8p9p"
   },
   "outputs": [],
   "source": [
    "#In V2 column we only make dummy of 2 values\n",
    "bd_all['V2_1']=np.where(bd_all['V2']==1,1,0)\n",
    "bd_all['V2_2']=np.where(bd_all['V2']==2,1,0)\n",
    "bd_all.drop(['V2'],axis=1,inplace=True)"
   ]
  },
  {
   "cell_type": "code",
   "execution_count": 17,
   "metadata": {
    "colab": {
     "base_uri": "https://localhost:8080/",
     "height": 36
    },
    "colab_type": "code",
    "executionInfo": {
     "elapsed": 823,
     "status": "ok",
     "timestamp": 1578886508795,
     "user": {
      "displayName": "Hariom Jangid",
      "photoUrl": "",
      "userId": "17999286889382918401"
     },
     "user_tz": -330
    },
    "id": "4E3Os6EM8p9w",
    "outputId": "74cadee9-4b28-42f8-dd1a-ef7bef0d8aa0"
   },
   "outputs": [
    {
     "data": {
      "text/plain": [
       "['V1', 'V4', 'V5', 'V6', 'V10', 'V42', 'V44']"
      ]
     },
     "execution_count": 17,
     "metadata": {
      "tags": []
     },
     "output_type": "execute_result"
    }
   ],
   "source": [
    "#these are our categorical columns and we will make dummies of these variables\n",
    "[\"V1\",\"V4\",\"V5\",\"V6\",\"V10\",\"V42\",\"V44\"]"
   ]
  },
  {
   "cell_type": "code",
   "execution_count": 18,
   "metadata": {
    "colab": {
     "base_uri": "https://localhost:8080/",
     "height": 776
    },
    "colab_type": "code",
    "executionInfo": {
     "elapsed": 1061,
     "status": "ok",
     "timestamp": 1578886511779,
     "user": {
      "displayName": "Hariom Jangid",
      "photoUrl": "",
      "userId": "17999286889382918401"
     },
     "user_tz": -330
    },
    "id": "09Lssnde8p97",
    "outputId": "ac2a16c4-d88e-4803-bb72-0306951a8e82"
   },
   "outputs": [
    {
     "data": {
      "text/plain": [
       "33    1401\n",
       "38     569\n",
       "8      546\n",
       "39     542\n",
       "9      460\n",
       "3      433\n",
       "23     376\n",
       "36     373\n",
       "35     362\n",
       "41     355\n",
       "34     325\n",
       "24     324\n",
       "31     318\n",
       "13     302\n",
       "11     286\n",
       "10     271\n",
       "32     234\n",
       "37     233\n",
       "1      218\n",
       "6      209\n",
       "12     194\n",
       "30     190\n",
       "22     169\n",
       "2      148\n",
       "29     139\n",
       "40     137\n",
       "25     129\n",
       "4       90\n",
       "26      79\n",
       "27      77\n",
       "7       72\n",
       "5       70\n",
       "20      42\n",
       "28      41\n",
       "21      29\n",
       "18      27\n",
       "16      25\n",
       "17      13\n",
       "15       7\n",
       "19       7\n",
       "Name: V1, dtype: int64"
      ]
     },
     "execution_count": 18,
     "metadata": {
      "tags": []
     },
     "output_type": "execute_result"
    }
   ],
   "source": [
    "bd_all['V1'].value_counts()"
   ]
  },
  {
   "cell_type": "code",
   "execution_count": 19,
   "metadata": {
    "colab": {
     "base_uri": "https://localhost:8080/",
     "height": 762
    },
    "colab_type": "code",
    "executionInfo": {
     "elapsed": 1858,
     "status": "ok",
     "timestamp": 1578886514421,
     "user": {
      "displayName": "Hariom Jangid",
      "photoUrl": "",
      "userId": "17999286889382918401"
     },
     "user_tz": -330
    },
    "id": "r7VuyjBo8p-H",
    "outputId": "7763bb6a-9e1c-46f7-8a2d-cbd04f9a1282"
   },
   "outputs": [
    {
     "data": {
      "text/plain": [
       "<seaborn.axisgrid.FacetGrid at 0x7f51f652fda0>"
      ]
     },
     "execution_count": 19,
     "metadata": {
      "tags": []
     },
     "output_type": "execute_result"
    },
    {
     "data": {
      "image/png": "[encoded data removed]",
      "text/plain": [
       "<Figure size 771.875x720 with 1 Axes>"
      ]
     },
     "metadata": {
      "tags": []
     },
     "output_type": "display_data"
    }
   ],
   "source": [
    "#plt.figure(figsize=(30,9))\n",
    "sns.catplot(y=\"V1\", hue=\"V86\", kind=\"count\",height=10,\n",
    "            edgecolor=\".6\",\n",
    "            data=bd_all)"
   ]
  },
  {
   "cell_type": "code",
   "execution_count": 0,
   "metadata": {
    "colab": {},
    "colab_type": "code",
    "id": "S9lJdjzN8p-P"
   },
   "outputs": [],
   "source": []
  },
  {
   "cell_type": "markdown",
   "metadata": {
    "colab_type": "text",
    "id": "0T-kxd9K8p-X"
   },
   "source": [
    "# Column V4=Average age:\n",
    "\n",
    "1 20-30 years\n",
    "2 30-40 years\n",
    "3 40-50 years\n",
    "4 50-60 years\n",
    "5 60-70 years\n",
    "6 70-80 years"
   ]
  },
  {
   "cell_type": "code",
   "execution_count": 20,
   "metadata": {
    "colab": {
     "base_uri": "https://localhost:8080/",
     "height": 147
    },
    "colab_type": "code",
    "executionInfo": {
     "elapsed": 803,
     "status": "ok",
     "timestamp": 1578886523653,
     "user": {
      "displayName": "Hariom Jangid",
      "photoUrl": "",
      "userId": "17999286889382918401"
     },
     "user_tz": -330
    },
    "id": "1AdHiLln8p-a",
    "outputId": "2e29fade-5377-4633-9e47-6fe0e7592701"
   },
   "outputs": [
    {
     "data": {
      "text/plain": [
       "3    5154\n",
       "2    2409\n",
       "4    1777\n",
       "5     329\n",
       "1     104\n",
       "6      49\n",
       "Name: V4, dtype: int64"
      ]
     },
     "execution_count": 20,
     "metadata": {
      "tags": []
     },
     "output_type": "execute_result"
    }
   ],
   "source": [
    "bd_all['V4'].value_counts()"
   ]
  },
  {
   "cell_type": "code",
   "execution_count": 21,
   "metadata": {
    "colab": {
     "base_uri": "https://localhost:8080/",
     "height": 388
    },
    "colab_type": "code",
    "executionInfo": {
     "elapsed": 1255,
     "status": "ok",
     "timestamp": 1578886525649,
     "user": {
      "displayName": "Hariom Jangid",
      "photoUrl": "",
      "userId": "17999286889382918401"
     },
     "user_tz": -330
    },
    "id": "6yPc_aCY8p-i",
    "outputId": "35e8cd9f-405c-480b-a707-f4b326320042"
   },
   "outputs": [
    {
     "data": {
      "text/plain": [
       "<seaborn.axisgrid.FacetGrid at 0x7f5264a4be80>"
      ]
     },
     "execution_count": 21,
     "metadata": {
      "tags": []
     },
     "output_type": "execute_result"
    },
    {
     "data": {
      "image/png": "[encoded data removed]",
      "text/plain": [
       "<Figure size 411.875x360 with 1 Axes>"
      ]
     },
     "metadata": {
      "tags": []
     },
     "output_type": "display_data"
    }
   ],
   "source": [
    "# Lets Visualize Average age V4\n",
    "sns.catplot(x = \"V4\",data = bd_all, kind = \"count\",hue = \"V86\",height = 5)"
   ]
  },
  {
   "cell_type": "markdown",
   "metadata": {
    "colab_type": "text",
    "id": "QUH8ZtSb8p-r"
   },
   "source": [
    "# Column V5= Customer Main Type\n",
    "\n",
    "1 Successful hedonists\n",
    "2 Driven Growers\n",
    "3 Average Family\n",
    "4 Career Loners\n",
    "5 Living well\n",
    "6 Cruising Seniors\n",
    "7 Retired and Religeous\n",
    "8 Family with grown ups\n",
    "9 Conservative families\n",
    "10 Farmers"
   ]
  },
  {
   "cell_type": "code",
   "execution_count": 22,
   "metadata": {
    "colab": {
     "base_uri": "https://localhost:8080/",
     "height": 221
    },
    "colab_type": "code",
    "executionInfo": {
     "elapsed": 1185,
     "status": "ok",
     "timestamp": 1578886537343,
     "user": {
      "displayName": "Hariom Jangid",
      "photoUrl": "",
      "userId": "17999286889382918401"
     },
     "user_tz": -330
    },
    "id": "-PY4hRVP8p-v",
    "outputId": "d0b13ba9-1ae2-4a16-e05a-be83866d8522"
   },
   "outputs": [
    {
     "data": {
      "text/plain": [
       "8     2694\n",
       "3     1513\n",
       "9     1111\n",
       "1      959\n",
       "5      940\n",
       "7      881\n",
       "2      827\n",
       "10     492\n",
       "6      326\n",
       "4       79\n",
       "Name: V5, dtype: int64"
      ]
     },
     "execution_count": 22,
     "metadata": {
      "tags": []
     },
     "output_type": "execute_result"
    }
   ],
   "source": [
    "bd_all['V5'].value_counts()"
   ]
  },
  {
   "cell_type": "code",
   "execution_count": 23,
   "metadata": {
    "colab": {
     "base_uri": "https://localhost:8080/",
     "height": 239
    },
    "colab_type": "code",
    "executionInfo": {
     "elapsed": 933,
     "status": "ok",
     "timestamp": 1578886538706,
     "user": {
      "displayName": "Hariom Jangid",
      "photoUrl": "",
      "userId": "17999286889382918401"
     },
     "user_tz": -330
    },
    "id": "F93sPm1X8p-7",
    "outputId": "e45ec558-6323-40ad-fb1c-30366922b653"
   },
   "outputs": [
    {
     "data": {
      "text/plain": [
       "V5\n",
       "1     0.087\n",
       "2     0.131\n",
       "3     0.067\n",
       "4     0.000\n",
       "5     0.026\n",
       "6     0.020\n",
       "7     0.036\n",
       "8     0.057\n",
       "9     0.063\n",
       "10    0.018\n",
       "Name: V86, dtype: float64"
      ]
     },
     "execution_count": 23,
     "metadata": {
      "tags": []
     },
     "output_type": "execute_result"
    }
   ],
   "source": [
    "round(bd_all.groupby(\"V5\")['V86'].mean(),3)"
   ]
  },
  {
   "cell_type": "code",
   "execution_count": 24,
   "metadata": {
    "colab": {
     "base_uri": "https://localhost:8080/",
     "height": 748
    },
    "colab_type": "code",
    "executionInfo": {
     "elapsed": 1252,
     "status": "ok",
     "timestamp": 1578886540619,
     "user": {
      "displayName": "Hariom Jangid",
      "photoUrl": "",
      "userId": "17999286889382918401"
     },
     "user_tz": -330
    },
    "id": "DqVNGWs28p_H",
    "outputId": "dc1d7173-b4c7-49a9-b6f8-502b06bf06d0"
   },
   "outputs": [
    {
     "data": {
      "text/plain": [
       "<seaborn.axisgrid.FacetGrid at 0x7f5244707dd8>"
      ]
     },
     "execution_count": 24,
     "metadata": {
      "tags": []
     },
     "output_type": "execute_result"
    },
    {
     "data": {
      "image/png": "[encoded data removed]",
      "text/plain": [
       "<Figure size 771.875x720 with 1 Axes>"
      ]
     },
     "metadata": {
      "tags": []
     },
     "output_type": "display_data"
    }
   ],
   "source": [
    "#Lets Visualize V5\n",
    "sns.catplot(x=\"V5\",kind=\"count\",hue=\"V86\",height=10,data=bd_all)"
   ]
  },
  {
   "cell_type": "code",
   "execution_count": 25,
   "metadata": {
    "colab": {
     "base_uri": "https://localhost:8080/",
     "height": 36
    },
    "colab_type": "code",
    "executionInfo": {
     "elapsed": 712,
     "status": "ok",
     "timestamp": 1578886541927,
     "user": {
      "displayName": "Hariom Jangid",
      "photoUrl": "",
      "userId": "17999286889382918401"
     },
     "user_tz": -330
    },
    "id": "coUVWDQ08p_P",
    "outputId": "dbfcb6e7-3ed6-4e44-ed94-6bccc232aeef"
   },
   "outputs": [
    {
     "data": {
      "text/plain": [
       "('V6', 'V10', 'V15', 'V42', 'V44')"
      ]
     },
     "execution_count": 25,
     "metadata": {
      "tags": []
     },
     "output_type": "execute_result"
    }
   ],
   "source": [
    "\"V6\",\"V10\",\"V15\",\"V42\",\"V44\""
   ]
  },
  {
   "cell_type": "markdown",
   "metadata": {
    "colab_type": "text",
    "id": "MnuXernT8p_X"
   },
   "source": [
    "# Column V6: Roman Catholic\n",
    "\n",
    "0 0%\n",
    "1 1 - 10%\n",
    "2 11 - 23%\n",
    "3 24 - 36%\n",
    "4 37 - 49%\n",
    "5 50 - 62%\n",
    "6 63 - 75%\n",
    "7 76 - 88%\n",
    "8 89 - 99%\n",
    "9 100%"
   ]
  },
  {
   "cell_type": "code",
   "execution_count": 26,
   "metadata": {
    "colab": {
     "base_uri": "https://localhost:8080/",
     "height": 221
    },
    "colab_type": "code",
    "executionInfo": {
     "elapsed": 768,
     "status": "ok",
     "timestamp": 1578886551404,
     "user": {
      "displayName": "Hariom Jangid",
      "photoUrl": "",
      "userId": "17999286889382918401"
     },
     "user_tz": -330
    },
    "id": "UpFeC5wq8p_b",
    "outputId": "b6367233-6cab-4fff-ec50-49c31702ac6f"
   },
   "outputs": [
    {
     "data": {
      "text/plain": [
       "0    5420\n",
       "1    2744\n",
       "2    1213\n",
       "3     243\n",
       "4     123\n",
       "5      30\n",
       "6      25\n",
       "7      11\n",
       "9      10\n",
       "8       3\n",
       "Name: V6, dtype: int64"
      ]
     },
     "execution_count": 26,
     "metadata": {
      "tags": []
     },
     "output_type": "execute_result"
    }
   ],
   "source": [
    "bd_all['V6'].value_counts()"
   ]
  },
  {
   "cell_type": "code",
   "execution_count": 27,
   "metadata": {
    "colab": {
     "base_uri": "https://localhost:8080/",
     "height": 604
    },
    "colab_type": "code",
    "executionInfo": {
     "elapsed": 1473,
     "status": "ok",
     "timestamp": 1578886553684,
     "user": {
      "displayName": "Hariom Jangid",
      "photoUrl": "",
      "userId": "17999286889382918401"
     },
     "user_tz": -330
    },
    "id": "e2rLxFag8p_h",
    "outputId": "f3c96696-4458-4eed-f452-be6b9e7020cc"
   },
   "outputs": [
    {
     "data": {
      "text/plain": [
       "<seaborn.axisgrid.FacetGrid at 0x7f51f3538dd8>"
      ]
     },
     "execution_count": 27,
     "metadata": {
      "tags": []
     },
     "output_type": "execute_result"
    },
    {
     "data": {
      "image/png": "[encoded data removed]",
      "text/plain": [
       "<Figure size 627.875x576 with 1 Axes>"
      ]
     },
     "metadata": {
      "tags": []
     },
     "output_type": "display_data"
    }
   ],
   "source": [
    "#Lets Visualize column V6\n",
    "sns.catplot(x=\"V6\",hue=\"V86\",height=8,kind=\"count\",data=bd_all)"
   ]
  },
  {
   "cell_type": "code",
   "execution_count": 28,
   "metadata": {
    "colab": {
     "base_uri": "https://localhost:8080/",
     "height": 221
    },
    "colab_type": "code",
    "executionInfo": {
     "elapsed": 720,
     "status": "ok",
     "timestamp": 1578886555427,
     "user": {
      "displayName": "Hariom Jangid",
      "photoUrl": "",
      "userId": "17999286889382918401"
     },
     "user_tz": -330
    },
    "id": "NcLPYj498p_r",
    "outputId": "1e2ca84f-630d-4ad1-e597-e264dca8065a"
   },
   "outputs": [
    {
     "data": {
      "text/plain": [
       "7    2800\n",
       "6    2015\n",
       "5    1628\n",
       "9    1345\n",
       "8     603\n",
       "4     550\n",
       "3     402\n",
       "2     252\n",
       "1     119\n",
       "0     108\n",
       "Name: V10, dtype: int64"
      ]
     },
     "execution_count": 28,
     "metadata": {
      "tags": []
     },
     "output_type": "execute_result"
    }
   ],
   "source": [
    "#Column V10=Married\n",
    "bd_all['V10'].value_counts()"
   ]
  },
  {
   "cell_type": "code",
   "execution_count": 29,
   "metadata": {
    "colab": {
     "base_uri": "https://localhost:8080/",
     "height": 604
    },
    "colab_type": "code",
    "executionInfo": {
     "elapsed": 1184,
     "status": "ok",
     "timestamp": 1578886557458,
     "user": {
      "displayName": "Hariom Jangid",
      "photoUrl": "",
      "userId": "17999286889382918401"
     },
     "user_tz": -330
    },
    "id": "e8UPq1Zb8p_y",
    "outputId": "dac20487-e647-4072-91d0-9be47683120b"
   },
   "outputs": [
    {
     "data": {
      "text/plain": [
       "<seaborn.axisgrid.FacetGrid at 0x7f51f3a5f4a8>"
      ]
     },
     "execution_count": 29,
     "metadata": {
      "tags": []
     },
     "output_type": "execute_result"
    },
    {
     "data": {
      "image/png": "[encoded data removed]",
      "text/plain": [
       "<Figure size 627.875x576 with 1 Axes>"
      ]
     },
     "metadata": {
      "tags": []
     },
     "output_type": "display_data"
    }
   ],
   "source": [
    "#Let's Visualize column V10\n",
    "sns.catplot(x=\"V10\",hue=\"V86\",height=8,kind=\"count\",data=bd_all)"
   ]
  },
  {
   "cell_type": "code",
   "execution_count": 30,
   "metadata": {
    "colab": {
     "base_uri": "https://localhost:8080/",
     "height": 221
    },
    "colab_type": "code",
    "executionInfo": {
     "elapsed": 756,
     "status": "ok",
     "timestamp": 1578886558905,
     "user": {
      "displayName": "Hariom Jangid",
      "photoUrl": "",
      "userId": "17999286889382918401"
     },
     "user_tz": -330
    },
    "id": "9Lnbnx3g8p_6",
    "outputId": "0a9c664d-ac8b-4990-c279-e5a6112926c5"
   },
   "outputs": [
    {
     "data": {
      "text/plain": [
       "3    3232\n",
       "4    3063\n",
       "5    1268\n",
       "2    1110\n",
       "6     646\n",
       "7     228\n",
       "8     121\n",
       "1      78\n",
       "9      38\n",
       "0      38\n",
       "Name: V42, dtype: int64"
      ]
     },
     "execution_count": 30,
     "metadata": {
      "tags": []
     },
     "output_type": "execute_result"
    }
   ],
   "source": [
    "#Column V42=Average Income\n",
    "bd_all['V42'].value_counts()"
   ]
  },
  {
   "cell_type": "code",
   "execution_count": 31,
   "metadata": {
    "colab": {
     "base_uri": "https://localhost:8080/",
     "height": 604
    },
    "colab_type": "code",
    "executionInfo": {
     "elapsed": 1269,
     "status": "ok",
     "timestamp": 1578886560865,
     "user": {
      "displayName": "Hariom Jangid",
      "photoUrl": "",
      "userId": "17999286889382918401"
     },
     "user_tz": -330
    },
    "id": "He6kKdYD8qAA",
    "outputId": "9c79ffe1-9969-4f59-9c04-d35fd95d68a0"
   },
   "outputs": [
    {
     "data": {
      "text/plain": [
       "<seaborn.axisgrid.FacetGrid at 0x7f51f3acbe10>"
      ]
     },
     "execution_count": 31,
     "metadata": {
      "tags": []
     },
     "output_type": "execute_result"
    },
    {
     "data": {
      "image/png": "[encoded data removed]",
      "text/plain": [
       "<Figure size 627.875x576 with 1 Axes>"
      ]
     },
     "metadata": {
      "tags": []
     },
     "output_type": "display_data"
    }
   ],
   "source": [
    "#Let's Visualize column V42\n",
    "sns.catplot(x=\"V42\",hue=\"V86\",height=8,kind=\"count\",data=bd_all)"
   ]
  },
  {
   "cell_type": "code",
   "execution_count": 32,
   "metadata": {
    "colab": {
     "base_uri": "https://localhost:8080/",
     "height": 110
    },
    "colab_type": "code",
    "executionInfo": {
     "elapsed": 815,
     "status": "ok",
     "timestamp": 1578886562232,
     "user": {
      "displayName": "Hariom Jangid",
      "photoUrl": "",
      "userId": "17999286889382918401"
     },
     "user_tz": -330
    },
    "id": "GleMpI2g8qAJ",
    "outputId": "0b6f4585-3f74-4524-c6fc-894f466a636e"
   },
   "outputs": [
    {
     "data": {
      "text/plain": [
       "0    5903\n",
       "2    3562\n",
       "1     341\n",
       "3      16\n",
       "Name: V44, dtype: int64"
      ]
     },
     "execution_count": 32,
     "metadata": {
      "tags": []
     },
     "output_type": "execute_result"
    }
   ],
   "source": [
    "#Column V44=Contribution private third party insurance\n",
    "bd_all['V44'].value_counts()"
   ]
  },
  {
   "cell_type": "code",
   "execution_count": 33,
   "metadata": {
    "colab": {
     "base_uri": "https://localhost:8080/",
     "height": 604
    },
    "colab_type": "code",
    "executionInfo": {
     "elapsed": 6670,
     "status": "ok",
     "timestamp": 1578886569536,
     "user": {
      "displayName": "Hariom Jangid",
      "photoUrl": "",
      "userId": "17999286889382918401"
     },
     "user_tz": -330
    },
    "id": "i7KkV07p8qAP",
    "outputId": "ddda219c-ba85-49b7-c5e8-8f0960240dad"
   },
   "outputs": [
    {
     "data": {
      "text/plain": [
       "<seaborn.axisgrid.FacetGrid at 0x7f51f3ab32b0>"
      ]
     },
     "execution_count": 33,
     "metadata": {
      "tags": []
     },
     "output_type": "execute_result"
    },
    {
     "data": {
      "image/png": "[encoded data removed]",
      "text/plain": [
       "<Figure size 627.875x576 with 1 Axes>"
      ]
     },
     "metadata": {
      "tags": []
     },
     "output_type": "display_data"
    }
   ],
   "source": [
    "#Let's Visualize column V42\n",
    "sns.catplot(x=\"V44\",hue=\"V86\",height=8,kind=\"count\",data=bd_all)"
   ]
  },
  {
   "cell_type": "code",
   "execution_count": 34,
   "metadata": {
    "colab": {
     "base_uri": "https://localhost:8080/",
     "height": 36
    },
    "colab_type": "code",
    "executionInfo": {
     "elapsed": 994,
     "status": "ok",
     "timestamp": 1578886573583,
     "user": {
      "displayName": "Hariom Jangid",
      "photoUrl": "",
      "userId": "17999286889382918401"
     },
     "user_tz": -330
    },
    "id": "9lSY5aPa8qAW",
    "outputId": "d5a51b9c-4258-4c1b-8a6e-43680a5f709a"
   },
   "outputs": [
    {
     "data": {
      "text/plain": [
       "['V1', 'V4', 'V5', 'V6', 'V10', 'V42', 'V44']"
      ]
     },
     "execution_count": 34,
     "metadata": {
      "tags": []
     },
     "output_type": "execute_result"
    }
   ],
   "source": [
    "#these are our categorical columns and we will make dummies of these variables\n",
    "[\"V1\",\"V4\",\"V5\",\"V6\",\"V10\",\"V42\",\"V44\"]"
   ]
  },
  {
   "cell_type": "code",
   "execution_count": 35,
   "metadata": {
    "colab": {
     "base_uri": "https://localhost:8080/",
     "height": 147
    },
    "colab_type": "code",
    "executionInfo": {
     "elapsed": 1069,
     "status": "ok",
     "timestamp": 1578886575471,
     "user": {
      "displayName": "Hariom Jangid",
      "photoUrl": "",
      "userId": "17999286889382918401"
     },
     "user_tz": -330
    },
    "id": "CBFv6u4i8qAd",
    "outputId": "3a15dfe7-1c75-44c1-82a7-4ed823ce4384"
   },
   "outputs": [
    {
     "name": "stdout",
     "output_type": "stream",
     "text": [
      "V1\n",
      "V4\n",
      "V5\n",
      "V6\n",
      "V10\n",
      "V42\n",
      "V44\n"
     ]
    }
   ],
   "source": [
    "cat_cols=[\"V1\",\"V4\",\"V5\",\"V6\",\"V10\",\"V42\",\"V44\"]\n",
    "\n",
    "for col  in cat_cols:\n",
    "    freqs=bd_all[col].value_counts()\n",
    "    k=freqs.index[freqs>100][:-1]\n",
    "    for cat in k:\n",
    "        name=str(col)+\"_\"+str(cat)\n",
    "        bd_all[name]=(bd_all[col]==cat).astype(int)\n",
    "    del bd_all[col]\n",
    "    print(col)"
   ]
  },
  {
   "cell_type": "code",
   "execution_count": 36,
   "metadata": {
    "colab": {
     "base_uri": "https://localhost:8080/",
     "height": 255
    },
    "colab_type": "code",
    "executionInfo": {
     "elapsed": 981,
     "status": "ok",
     "timestamp": 1578886578557,
     "user": {
      "displayName": "Hariom Jangid",
      "photoUrl": "",
      "userId": "17999286889382918401"
     },
     "user_tz": -330
    },
    "id": "kwO-ViS_8qAj",
    "outputId": "5e3b6007-86e6-4942-e586-b530b8a2bfc0"
   },
   "outputs": [
    {
     "data": {
      "text/html": [
       "<div>\n",
       "<style scoped>\n",
       "    .dataframe tbody tr th:only-of-type {\n",
       "        vertical-align: middle;\n",
       "    }\n",
       "\n",
       "    .dataframe tbody tr th {\n",
       "        vertical-align: top;\n",
       "    }\n",
       "\n",
       "    .dataframe thead th {\n",
       "        text-align: right;\n",
       "    }\n",
       "</style>\n",
       "<table border=\"1\" class=\"dataframe\">\n",
       "  <thead>\n",
       "    <tr style=\"text-align: right;\">\n",
       "      <th></th>\n",
       "      <th>V3</th>\n",
       "      <th>V7</th>\n",
       "      <th>V8</th>\n",
       "      <th>V9</th>\n",
       "      <th>V11</th>\n",
       "      <th>V12</th>\n",
       "      <th>V13</th>\n",
       "      <th>V14</th>\n",
       "      <th>V15</th>\n",
       "      <th>V16</th>\n",
       "      <th>V17</th>\n",
       "      <th>V18</th>\n",
       "      <th>V19</th>\n",
       "      <th>V20</th>\n",
       "      <th>V21</th>\n",
       "      <th>V22</th>\n",
       "      <th>V23</th>\n",
       "      <th>V24</th>\n",
       "      <th>V25</th>\n",
       "      <th>V26</th>\n",
       "      <th>V27</th>\n",
       "      <th>V28</th>\n",
       "      <th>V29</th>\n",
       "      <th>V30</th>\n",
       "      <th>V31</th>\n",
       "      <th>V32</th>\n",
       "      <th>V33</th>\n",
       "      <th>V34</th>\n",
       "      <th>V35</th>\n",
       "      <th>V36</th>\n",
       "      <th>V37</th>\n",
       "      <th>V38</th>\n",
       "      <th>V39</th>\n",
       "      <th>V40</th>\n",
       "      <th>V41</th>\n",
       "      <th>V43</th>\n",
       "      <th>V45</th>\n",
       "      <th>V46</th>\n",
       "      <th>V47</th>\n",
       "      <th>V48</th>\n",
       "      <th>...</th>\n",
       "      <th>V1_6</th>\n",
       "      <th>V1_12</th>\n",
       "      <th>V1_30</th>\n",
       "      <th>V1_22</th>\n",
       "      <th>V1_2</th>\n",
       "      <th>V1_29</th>\n",
       "      <th>V1_40</th>\n",
       "      <th>V4_3</th>\n",
       "      <th>V4_2</th>\n",
       "      <th>V4_4</th>\n",
       "      <th>V4_5</th>\n",
       "      <th>V5_8</th>\n",
       "      <th>V5_3</th>\n",
       "      <th>V5_9</th>\n",
       "      <th>V5_1</th>\n",
       "      <th>V5_5</th>\n",
       "      <th>V5_7</th>\n",
       "      <th>V5_2</th>\n",
       "      <th>V5_10</th>\n",
       "      <th>V6_0</th>\n",
       "      <th>V6_1</th>\n",
       "      <th>V6_2</th>\n",
       "      <th>V6_3</th>\n",
       "      <th>V10_7</th>\n",
       "      <th>V10_6</th>\n",
       "      <th>V10_5</th>\n",
       "      <th>V10_9</th>\n",
       "      <th>V10_8</th>\n",
       "      <th>V10_4</th>\n",
       "      <th>V10_3</th>\n",
       "      <th>V10_2</th>\n",
       "      <th>V10_1</th>\n",
       "      <th>V42_3</th>\n",
       "      <th>V42_4</th>\n",
       "      <th>V42_5</th>\n",
       "      <th>V42_2</th>\n",
       "      <th>V42_6</th>\n",
       "      <th>V42_7</th>\n",
       "      <th>V44_0</th>\n",
       "      <th>V44_2</th>\n",
       "    </tr>\n",
       "  </thead>\n",
       "  <tbody>\n",
       "    <tr>\n",
       "      <th>0</th>\n",
       "      <td>3</td>\n",
       "      <td>5</td>\n",
       "      <td>1</td>\n",
       "      <td>3</td>\n",
       "      <td>0</td>\n",
       "      <td>2</td>\n",
       "      <td>1</td>\n",
       "      <td>2</td>\n",
       "      <td>6</td>\n",
       "      <td>1</td>\n",
       "      <td>2</td>\n",
       "      <td>7</td>\n",
       "      <td>1</td>\n",
       "      <td>0</td>\n",
       "      <td>1</td>\n",
       "      <td>2</td>\n",
       "      <td>5</td>\n",
       "      <td>2</td>\n",
       "      <td>1</td>\n",
       "      <td>1</td>\n",
       "      <td>2</td>\n",
       "      <td>6</td>\n",
       "      <td>1</td>\n",
       "      <td>1</td>\n",
       "      <td>8</td>\n",
       "      <td>8</td>\n",
       "      <td>0</td>\n",
       "      <td>1</td>\n",
       "      <td>8</td>\n",
       "      <td>1</td>\n",
       "      <td>0</td>\n",
       "      <td>4</td>\n",
       "      <td>5</td>\n",
       "      <td>0</td>\n",
       "      <td>0</td>\n",
       "      <td>3</td>\n",
       "      <td>0</td>\n",
       "      <td>0</td>\n",
       "      <td>6</td>\n",
       "      <td>0</td>\n",
       "      <td>...</td>\n",
       "      <td>0</td>\n",
       "      <td>0</td>\n",
       "      <td>0</td>\n",
       "      <td>0</td>\n",
       "      <td>0</td>\n",
       "      <td>0</td>\n",
       "      <td>0</td>\n",
       "      <td>0</td>\n",
       "      <td>1</td>\n",
       "      <td>0</td>\n",
       "      <td>0</td>\n",
       "      <td>1</td>\n",
       "      <td>0</td>\n",
       "      <td>0</td>\n",
       "      <td>0</td>\n",
       "      <td>0</td>\n",
       "      <td>0</td>\n",
       "      <td>0</td>\n",
       "      <td>0</td>\n",
       "      <td>1</td>\n",
       "      <td>0</td>\n",
       "      <td>0</td>\n",
       "      <td>0</td>\n",
       "      <td>1</td>\n",
       "      <td>0</td>\n",
       "      <td>0</td>\n",
       "      <td>0</td>\n",
       "      <td>0</td>\n",
       "      <td>0</td>\n",
       "      <td>0</td>\n",
       "      <td>0</td>\n",
       "      <td>0</td>\n",
       "      <td>0</td>\n",
       "      <td>1</td>\n",
       "      <td>0</td>\n",
       "      <td>0</td>\n",
       "      <td>0</td>\n",
       "      <td>0</td>\n",
       "      <td>1</td>\n",
       "      <td>0</td>\n",
       "    </tr>\n",
       "    <tr>\n",
       "      <th>1</th>\n",
       "      <td>2</td>\n",
       "      <td>4</td>\n",
       "      <td>1</td>\n",
       "      <td>4</td>\n",
       "      <td>2</td>\n",
       "      <td>2</td>\n",
       "      <td>0</td>\n",
       "      <td>4</td>\n",
       "      <td>5</td>\n",
       "      <td>0</td>\n",
       "      <td>5</td>\n",
       "      <td>4</td>\n",
       "      <td>0</td>\n",
       "      <td>0</td>\n",
       "      <td>0</td>\n",
       "      <td>5</td>\n",
       "      <td>0</td>\n",
       "      <td>4</td>\n",
       "      <td>0</td>\n",
       "      <td>2</td>\n",
       "      <td>3</td>\n",
       "      <td>5</td>\n",
       "      <td>0</td>\n",
       "      <td>2</td>\n",
       "      <td>7</td>\n",
       "      <td>7</td>\n",
       "      <td>1</td>\n",
       "      <td>2</td>\n",
       "      <td>6</td>\n",
       "      <td>3</td>\n",
       "      <td>2</td>\n",
       "      <td>0</td>\n",
       "      <td>5</td>\n",
       "      <td>2</td>\n",
       "      <td>0</td>\n",
       "      <td>4</td>\n",
       "      <td>0</td>\n",
       "      <td>0</td>\n",
       "      <td>0</td>\n",
       "      <td>0</td>\n",
       "      <td>...</td>\n",
       "      <td>0</td>\n",
       "      <td>0</td>\n",
       "      <td>0</td>\n",
       "      <td>0</td>\n",
       "      <td>0</td>\n",
       "      <td>0</td>\n",
       "      <td>0</td>\n",
       "      <td>0</td>\n",
       "      <td>1</td>\n",
       "      <td>0</td>\n",
       "      <td>0</td>\n",
       "      <td>1</td>\n",
       "      <td>0</td>\n",
       "      <td>0</td>\n",
       "      <td>0</td>\n",
       "      <td>0</td>\n",
       "      <td>0</td>\n",
       "      <td>0</td>\n",
       "      <td>0</td>\n",
       "      <td>0</td>\n",
       "      <td>1</td>\n",
       "      <td>0</td>\n",
       "      <td>0</td>\n",
       "      <td>0</td>\n",
       "      <td>1</td>\n",
       "      <td>0</td>\n",
       "      <td>0</td>\n",
       "      <td>0</td>\n",
       "      <td>0</td>\n",
       "      <td>0</td>\n",
       "      <td>0</td>\n",
       "      <td>0</td>\n",
       "      <td>0</td>\n",
       "      <td>0</td>\n",
       "      <td>1</td>\n",
       "      <td>0</td>\n",
       "      <td>0</td>\n",
       "      <td>0</td>\n",
       "      <td>0</td>\n",
       "      <td>1</td>\n",
       "    </tr>\n",
       "    <tr>\n",
       "      <th>2</th>\n",
       "      <td>2</td>\n",
       "      <td>4</td>\n",
       "      <td>2</td>\n",
       "      <td>4</td>\n",
       "      <td>2</td>\n",
       "      <td>4</td>\n",
       "      <td>4</td>\n",
       "      <td>4</td>\n",
       "      <td>2</td>\n",
       "      <td>0</td>\n",
       "      <td>5</td>\n",
       "      <td>4</td>\n",
       "      <td>0</td>\n",
       "      <td>0</td>\n",
       "      <td>0</td>\n",
       "      <td>7</td>\n",
       "      <td>0</td>\n",
       "      <td>2</td>\n",
       "      <td>0</td>\n",
       "      <td>5</td>\n",
       "      <td>0</td>\n",
       "      <td>4</td>\n",
       "      <td>0</td>\n",
       "      <td>7</td>\n",
       "      <td>2</td>\n",
       "      <td>7</td>\n",
       "      <td>0</td>\n",
       "      <td>2</td>\n",
       "      <td>9</td>\n",
       "      <td>0</td>\n",
       "      <td>4</td>\n",
       "      <td>5</td>\n",
       "      <td>0</td>\n",
       "      <td>0</td>\n",
       "      <td>0</td>\n",
       "      <td>4</td>\n",
       "      <td>0</td>\n",
       "      <td>0</td>\n",
       "      <td>6</td>\n",
       "      <td>0</td>\n",
       "      <td>...</td>\n",
       "      <td>0</td>\n",
       "      <td>0</td>\n",
       "      <td>0</td>\n",
       "      <td>0</td>\n",
       "      <td>0</td>\n",
       "      <td>0</td>\n",
       "      <td>0</td>\n",
       "      <td>0</td>\n",
       "      <td>1</td>\n",
       "      <td>0</td>\n",
       "      <td>0</td>\n",
       "      <td>1</td>\n",
       "      <td>0</td>\n",
       "      <td>0</td>\n",
       "      <td>0</td>\n",
       "      <td>0</td>\n",
       "      <td>0</td>\n",
       "      <td>0</td>\n",
       "      <td>0</td>\n",
       "      <td>1</td>\n",
       "      <td>0</td>\n",
       "      <td>0</td>\n",
       "      <td>0</td>\n",
       "      <td>0</td>\n",
       "      <td>0</td>\n",
       "      <td>0</td>\n",
       "      <td>0</td>\n",
       "      <td>0</td>\n",
       "      <td>0</td>\n",
       "      <td>1</td>\n",
       "      <td>0</td>\n",
       "      <td>0</td>\n",
       "      <td>1</td>\n",
       "      <td>0</td>\n",
       "      <td>0</td>\n",
       "      <td>0</td>\n",
       "      <td>0</td>\n",
       "      <td>0</td>\n",
       "      <td>0</td>\n",
       "      <td>1</td>\n",
       "    </tr>\n",
       "    <tr>\n",
       "      <th>3</th>\n",
       "      <td>3</td>\n",
       "      <td>3</td>\n",
       "      <td>2</td>\n",
       "      <td>4</td>\n",
       "      <td>2</td>\n",
       "      <td>2</td>\n",
       "      <td>2</td>\n",
       "      <td>3</td>\n",
       "      <td>4</td>\n",
       "      <td>3</td>\n",
       "      <td>4</td>\n",
       "      <td>2</td>\n",
       "      <td>4</td>\n",
       "      <td>0</td>\n",
       "      <td>0</td>\n",
       "      <td>3</td>\n",
       "      <td>1</td>\n",
       "      <td>2</td>\n",
       "      <td>3</td>\n",
       "      <td>2</td>\n",
       "      <td>1</td>\n",
       "      <td>4</td>\n",
       "      <td>0</td>\n",
       "      <td>5</td>\n",
       "      <td>4</td>\n",
       "      <td>9</td>\n",
       "      <td>0</td>\n",
       "      <td>0</td>\n",
       "      <td>7</td>\n",
       "      <td>2</td>\n",
       "      <td>1</td>\n",
       "      <td>5</td>\n",
       "      <td>3</td>\n",
       "      <td>0</td>\n",
       "      <td>0</td>\n",
       "      <td>4</td>\n",
       "      <td>0</td>\n",
       "      <td>0</td>\n",
       "      <td>6</td>\n",
       "      <td>0</td>\n",
       "      <td>...</td>\n",
       "      <td>0</td>\n",
       "      <td>0</td>\n",
       "      <td>0</td>\n",
       "      <td>0</td>\n",
       "      <td>0</td>\n",
       "      <td>0</td>\n",
       "      <td>0</td>\n",
       "      <td>1</td>\n",
       "      <td>0</td>\n",
       "      <td>0</td>\n",
       "      <td>0</td>\n",
       "      <td>0</td>\n",
       "      <td>1</td>\n",
       "      <td>0</td>\n",
       "      <td>0</td>\n",
       "      <td>0</td>\n",
       "      <td>0</td>\n",
       "      <td>0</td>\n",
       "      <td>0</td>\n",
       "      <td>0</td>\n",
       "      <td>0</td>\n",
       "      <td>1</td>\n",
       "      <td>0</td>\n",
       "      <td>0</td>\n",
       "      <td>0</td>\n",
       "      <td>1</td>\n",
       "      <td>0</td>\n",
       "      <td>0</td>\n",
       "      <td>0</td>\n",
       "      <td>0</td>\n",
       "      <td>0</td>\n",
       "      <td>0</td>\n",
       "      <td>0</td>\n",
       "      <td>1</td>\n",
       "      <td>0</td>\n",
       "      <td>0</td>\n",
       "      <td>0</td>\n",
       "      <td>0</td>\n",
       "      <td>1</td>\n",
       "      <td>0</td>\n",
       "    </tr>\n",
       "    <tr>\n",
       "      <th>4</th>\n",
       "      <td>4</td>\n",
       "      <td>4</td>\n",
       "      <td>1</td>\n",
       "      <td>4</td>\n",
       "      <td>1</td>\n",
       "      <td>2</td>\n",
       "      <td>2</td>\n",
       "      <td>4</td>\n",
       "      <td>4</td>\n",
       "      <td>5</td>\n",
       "      <td>4</td>\n",
       "      <td>0</td>\n",
       "      <td>0</td>\n",
       "      <td>5</td>\n",
       "      <td>4</td>\n",
       "      <td>0</td>\n",
       "      <td>0</td>\n",
       "      <td>0</td>\n",
       "      <td>9</td>\n",
       "      <td>0</td>\n",
       "      <td>0</td>\n",
       "      <td>0</td>\n",
       "      <td>0</td>\n",
       "      <td>4</td>\n",
       "      <td>5</td>\n",
       "      <td>6</td>\n",
       "      <td>2</td>\n",
       "      <td>1</td>\n",
       "      <td>5</td>\n",
       "      <td>4</td>\n",
       "      <td>0</td>\n",
       "      <td>0</td>\n",
       "      <td>9</td>\n",
       "      <td>0</td>\n",
       "      <td>0</td>\n",
       "      <td>3</td>\n",
       "      <td>0</td>\n",
       "      <td>0</td>\n",
       "      <td>0</td>\n",
       "      <td>0</td>\n",
       "      <td>...</td>\n",
       "      <td>0</td>\n",
       "      <td>0</td>\n",
       "      <td>0</td>\n",
       "      <td>0</td>\n",
       "      <td>0</td>\n",
       "      <td>0</td>\n",
       "      <td>1</td>\n",
       "      <td>0</td>\n",
       "      <td>1</td>\n",
       "      <td>0</td>\n",
       "      <td>0</td>\n",
       "      <td>0</td>\n",
       "      <td>0</td>\n",
       "      <td>0</td>\n",
       "      <td>0</td>\n",
       "      <td>0</td>\n",
       "      <td>0</td>\n",
       "      <td>0</td>\n",
       "      <td>1</td>\n",
       "      <td>0</td>\n",
       "      <td>1</td>\n",
       "      <td>0</td>\n",
       "      <td>0</td>\n",
       "      <td>1</td>\n",
       "      <td>0</td>\n",
       "      <td>0</td>\n",
       "      <td>0</td>\n",
       "      <td>0</td>\n",
       "      <td>0</td>\n",
       "      <td>0</td>\n",
       "      <td>0</td>\n",
       "      <td>0</td>\n",
       "      <td>0</td>\n",
       "      <td>0</td>\n",
       "      <td>0</td>\n",
       "      <td>0</td>\n",
       "      <td>1</td>\n",
       "      <td>0</td>\n",
       "      <td>1</td>\n",
       "      <td>0</td>\n",
       "    </tr>\n",
       "  </tbody>\n",
       "</table>\n",
       "<p>5 rows × 140 columns</p>\n",
       "</div>"
      ],
      "text/plain": [
       "   V3  V7  V8  V9  V11  V12  ...  V42_5  V42_2  V42_6  V42_7  V44_0  V44_2\n",
       "0   3   5   1   3    0    2  ...      0      0      0      0      1      0\n",
       "1   2   4   1   4    2    2  ...      1      0      0      0      0      1\n",
       "2   2   4   2   4    2    4  ...      0      0      0      0      0      1\n",
       "3   3   3   2   4    2    2  ...      0      0      0      0      1      0\n",
       "4   4   4   1   4    1    2  ...      0      0      1      0      1      0\n",
       "\n",
       "[5 rows x 140 columns]"
      ]
     },
     "execution_count": 36,
     "metadata": {
      "tags": []
     },
     "output_type": "execute_result"
    }
   ],
   "source": [
    "bd_all.head()"
   ]
  },
  {
   "cell_type": "code",
   "execution_count": 37,
   "metadata": {
    "colab": {
     "base_uri": "https://localhost:8080/",
     "height": 239
    },
    "colab_type": "code",
    "executionInfo": {
     "elapsed": 807,
     "status": "ok",
     "timestamp": 1578886580111,
     "user": {
      "displayName": "Hariom Jangid",
      "photoUrl": "",
      "userId": "17999286889382918401"
     },
     "user_tz": -330
    },
    "id": "25T0hWcf8qAp",
    "outputId": "0f4ecff0-17f3-4012-c1d0-9c7926121377"
   },
   "outputs": [
    {
     "data": {
      "text/plain": [
       "V3       0\n",
       "V7       0\n",
       "V8       0\n",
       "V9       0\n",
       "V11      0\n",
       "        ..\n",
       "V42_2    0\n",
       "V42_6    0\n",
       "V42_7    0\n",
       "V44_0    0\n",
       "V44_2    0\n",
       "Length: 140, dtype: int64"
      ]
     },
     "execution_count": 37,
     "metadata": {
      "tags": []
     },
     "output_type": "execute_result"
    }
   ],
   "source": [
    "#Check for Null values in our data\n",
    "bd_all.isnull().sum()"
   ]
  },
  {
   "cell_type": "code",
   "execution_count": 0,
   "metadata": {
    "colab": {},
    "colab_type": "code",
    "id": "SFtz8FNJ8qAw"
   },
   "outputs": [],
   "source": [
    "#Impute null values by mean,only in train data \n",
    "for col in bd_all.columns:\n",
    "    if (col not in ['V86','data'])& (bd_all[col].isnull().sum()>0):\n",
    "        bd_all.loc[bd_all[col].isnull(),col]=bd_all.loc[bd_all['data']=='train',col].mean()"
   ]
  },
  {
   "cell_type": "code",
   "execution_count": 0,
   "metadata": {
    "colab": {},
    "colab_type": "code",
    "id": "1qY8E9Hb8qA3"
   },
   "outputs": [],
   "source": []
  },
  {
   "cell_type": "code",
   "execution_count": 39,
   "metadata": {
    "colab": {
     "base_uri": "https://localhost:8080/",
     "height": 130
    },
    "colab_type": "code",
    "executionInfo": {
     "elapsed": 1004,
     "status": "ok",
     "timestamp": 1578886587456,
     "user": {
      "displayName": "Hariom Jangid",
      "photoUrl": "",
      "userId": "17999286889382918401"
     },
     "user_tz": -330
    },
    "id": "OpveXGtp8qA9",
    "outputId": "2b8cd6af-0f0f-4dc5-8363-5f916fcdbd85"
   },
   "outputs": [
    {
     "name": "stderr",
     "output_type": "stream",
     "text": [
      "/usr/local/lib/python3.6/dist-packages/pandas/core/frame.py:4117: SettingWithCopyWarning: \n",
      "A value is trying to be set on a copy of a slice from a DataFrame\n",
      "\n",
      "See the caveats in the documentation: http://pandas.pydata.org/pandas-docs/stable/user_guide/indexing.html#returning-a-view-versus-a-copy\n",
      "  errors=errors,\n"
     ]
    }
   ],
   "source": [
    "#Data preprocessing is done and now split our data into training and testing \n",
    "bd_train=bd_all[bd_all['data']==\"train\"]\n",
    "del bd_train['data']\n",
    "bd_test=bd_all[bd_all['data']==\"test\"]\n",
    "bd_test.drop(['V86','data'],axis=1,inplace=True)"
   ]
  },
  {
   "cell_type": "markdown",
   "metadata": {
    "colab_type": "text",
    "id": "FmuD_aM58qBD"
   },
   "source": []
  },
  {
   "cell_type": "code",
   "execution_count": 0,
   "metadata": {
    "colab": {},
    "colab_type": "code",
    "id": "vrg3Ofhd8qBE"
   },
   "outputs": [],
   "source": [
    "from sklearn.model_selection import train_test_split"
   ]
  },
  {
   "cell_type": "code",
   "execution_count": 0,
   "metadata": {
    "colab": {},
    "colab_type": "code",
    "id": "RD10S16y8qBJ"
   },
   "outputs": [],
   "source": [
    "from sklearn.linear_model import LogisticRegression"
   ]
  },
  {
   "cell_type": "code",
   "execution_count": 0,
   "metadata": {
    "colab": {},
    "colab_type": "code",
    "id": "C_LEtDSw8qBQ"
   },
   "outputs": [],
   "source": [
    "from sklearn.model_selection import GridSearchCV"
   ]
  },
  {
   "cell_type": "code",
   "execution_count": 0,
   "metadata": {
    "colab": {},
    "colab_type": "code",
    "id": "pGIOFA908qBU"
   },
   "outputs": [],
   "source": [
    "bd_train1,bd_train2=train_test_split(bd_train,test_size=0.2,\n",
    "                                     random_state=2,\n",
    "                                     stratify = bd_train[\"V86\"])"
   ]
  },
  {
   "cell_type": "code",
   "execution_count": 0,
   "metadata": {
    "colab": {},
    "colab_type": "code",
    "id": "UzOtCePW8qBX"
   },
   "outputs": [],
   "source": [
    "#bd_train1=80% data is used for training\n",
    "#bd_train2=20% data is used for testing and check our model performance on train data"
   ]
  },
  {
   "cell_type": "code",
   "execution_count": 0,
   "metadata": {
    "colab": {},
    "colab_type": "code",
    "id": "JEe25Ft78qBb"
   },
   "outputs": [],
   "source": [
    "#80% training data\n",
    "x_train=bd_train1.drop(['V86'],1)\n",
    "y_train=bd_train1['V86']\n",
    "#20% testing data\n",
    "x_test=bd_train2.drop(['V86'],1)\n",
    "y_test=bd_train2['V86']"
   ]
  },
  {
   "cell_type": "markdown",
   "metadata": {
    "colab_type": "text",
    "id": "e-4vVzZj8qBh"
   },
   "source": [
    "# Logistics Regression"
   ]
  },
  {
   "cell_type": "code",
   "execution_count": 0,
   "metadata": {
    "colab": {},
    "colab_type": "code",
    "id": "gkLVvCkf8qBr"
   },
   "outputs": [],
   "source": [
    "#parameters for logistics regression \n",
    "params={'class_weight':['balanced',None],\n",
    "        'penalty':['l1','l2']}"
   ]
  },
  {
   "cell_type": "code",
   "execution_count": 0,
   "metadata": {
    "colab": {},
    "colab_type": "code",
    "id": "racjFxcz8qBw"
   },
   "outputs": [],
   "source": [
    "model=LogisticRegression(fit_intercept=True)"
   ]
  },
  {
   "cell_type": "code",
   "execution_count": 0,
   "metadata": {
    "colab": {},
    "colab_type": "code",
    "id": "X9_K0VBE8qB2"
   },
   "outputs": [],
   "source": [
    "grid_search=GridSearchCV(model,param_grid=params,cv=10,scoring=\"roc_auc\")"
   ]
  },
  {
   "cell_type": "code",
   "execution_count": 49,
   "metadata": {
    "colab": {
     "base_uri": "https://localhost:8080/",
     "height": 1000
    },
    "colab_type": "code",
    "executionInfo": {
     "elapsed": 5023,
     "status": "ok",
     "timestamp": 1578886619955,
     "user": {
      "displayName": "Hariom Jangid",
      "photoUrl": "",
      "userId": "17999286889382918401"
     },
     "user_tz": -330
    },
    "id": "KA3hyvYD8qB6",
    "outputId": "cc73b17c-0d65-4ef3-8b4b-7160187f40e5"
   },
   "outputs": [
    {
     "name": "stderr",
     "output_type": "stream",
     "text": [
      "/usr/local/lib/python3.6/dist-packages/sklearn/model_selection/_validation.py:536: FitFailedWarning: Estimator fit failed. The score on this train-test partition for these parameters will be set to nan. Details: \n",
      "ValueError: Solver lbfgs supports only 'l2' or 'none' penalties, got l1 penalty.\n",
      "\n",
      "  FitFailedWarning)\n",
      "/usr/local/lib/python3.6/dist-packages/sklearn/linear_model/_logistic.py:940: ConvergenceWarning: lbfgs failed to converge (status=1):\n",
      "STOP: TOTAL NO. of ITERATIONS REACHED LIMIT.\n",
      "\n",
      "Increase the number of iterations (max_iter) or scale the data as shown in:\n",
      "    https://scikit-learn.org/stable/modules/preprocessing.html\n",
      "Please also refer to the documentation for alternative solver options:\n",
      "    https://scikit-learn.org/stable/modules/linear_model.html#logistic-regression\n",
      "  extra_warning_msg=_LOGISTIC_SOLVER_CONVERGENCE_MSG)\n",
      "/usr/local/lib/python3.6/dist-packages/sklearn/linear_model/_logistic.py:940: ConvergenceWarning: lbfgs failed to converge (status=1):\n",
      "STOP: TOTAL NO. of ITERATIONS REACHED LIMIT.\n",
      "\n",
      "Increase the number of iterations (max_iter) or scale the data as shown in:\n",
      "    https://scikit-learn.org/stable/modules/preprocessing.html\n",
      "Please also refer to the documentation for alternative solver options:\n",
      "    https://scikit-learn.org/stable/modules/linear_model.html#logistic-regression\n",
      "  extra_warning_msg=_LOGISTIC_SOLVER_CONVERGENCE_MSG)\n",
      "/usr/local/lib/python3.6/dist-packages/sklearn/linear_model/_logistic.py:940: ConvergenceWarning: lbfgs failed to converge (status=1):\n",
      "STOP: TOTAL NO. of ITERATIONS REACHED LIMIT.\n",
      "\n",
      "Increase the number of iterations (max_iter) or scale the data as shown in:\n",
      "    https://scikit-learn.org/stable/modules/preprocessing.html\n",
      "Please also refer to the documentation for alternative solver options:\n",
      "    https://scikit-learn.org/stable/modules/linear_model.html#logistic-regression\n",
      "  extra_warning_msg=_LOGISTIC_SOLVER_CONVERGENCE_MSG)\n",
      "/usr/local/lib/python3.6/dist-packages/sklearn/linear_model/_logistic.py:940: ConvergenceWarning: lbfgs failed to converge (status=1):\n",
      "STOP: TOTAL NO. of ITERATIONS REACHED LIMIT.\n",
      "\n",
      "Increase the number of iterations (max_iter) or scale the data as shown in:\n",
      "    https://scikit-learn.org/stable/modules/preprocessing.html\n",
      "Please also refer to the documentation for alternative solver options:\n",
      "    https://scikit-learn.org/stable/modules/linear_model.html#logistic-regression\n",
      "  extra_warning_msg=_LOGISTIC_SOLVER_CONVERGENCE_MSG)\n",
      "/usr/local/lib/python3.6/dist-packages/sklearn/linear_model/_logistic.py:940: ConvergenceWarning: lbfgs failed to converge (status=1):\n",
      "STOP: TOTAL NO. of ITERATIONS REACHED LIMIT.\n",
      "\n",
      "Increase the number of iterations (max_iter) or scale the data as shown in:\n",
      "    https://scikit-learn.org/stable/modules/preprocessing.html\n",
      "Please also refer to the documentation for alternative solver options:\n",
      "    https://scikit-learn.org/stable/modules/linear_model.html#logistic-regression\n",
      "  extra_warning_msg=_LOGISTIC_SOLVER_CONVERGENCE_MSG)\n",
      "/usr/local/lib/python3.6/dist-packages/sklearn/linear_model/_logistic.py:940: ConvergenceWarning: lbfgs failed to converge (status=1):\n",
      "STOP: TOTAL NO. of ITERATIONS REACHED LIMIT.\n",
      "\n",
      "Increase the number of iterations (max_iter) or scale the data as shown in:\n",
      "    https://scikit-learn.org/stable/modules/preprocessing.html\n",
      "Please also refer to the documentation for alternative solver options:\n",
      "    https://scikit-learn.org/stable/modules/linear_model.html#logistic-regression\n",
      "  extra_warning_msg=_LOGISTIC_SOLVER_CONVERGENCE_MSG)\n",
      "/usr/local/lib/python3.6/dist-packages/sklearn/linear_model/_logistic.py:940: ConvergenceWarning: lbfgs failed to converge (status=1):\n",
      "STOP: TOTAL NO. of ITERATIONS REACHED LIMIT.\n",
      "\n",
      "Increase the number of iterations (max_iter) or scale the data as shown in:\n",
      "    https://scikit-learn.org/stable/modules/preprocessing.html\n",
      "Please also refer to the documentation for alternative solver options:\n",
      "    https://scikit-learn.org/stable/modules/linear_model.html#logistic-regression\n",
      "  extra_warning_msg=_LOGISTIC_SOLVER_CONVERGENCE_MSG)\n",
      "/usr/local/lib/python3.6/dist-packages/sklearn/linear_model/_logistic.py:940: ConvergenceWarning: lbfgs failed to converge (status=1):\n",
      "STOP: TOTAL NO. of ITERATIONS REACHED LIMIT.\n",
      "\n",
      "Increase the number of iterations (max_iter) or scale the data as shown in:\n",
      "    https://scikit-learn.org/stable/modules/preprocessing.html\n",
      "Please also refer to the documentation for alternative solver options:\n",
      "    https://scikit-learn.org/stable/modules/linear_model.html#logistic-regression\n",
      "  extra_warning_msg=_LOGISTIC_SOLVER_CONVERGENCE_MSG)\n",
      "/usr/local/lib/python3.6/dist-packages/sklearn/linear_model/_logistic.py:940: ConvergenceWarning: lbfgs failed to converge (status=1):\n",
      "STOP: TOTAL NO. of ITERATIONS REACHED LIMIT.\n",
      "\n",
      "Increase the number of iterations (max_iter) or scale the data as shown in:\n",
      "    https://scikit-learn.org/stable/modules/preprocessing.html\n",
      "Please also refer to the documentation for alternative solver options:\n",
      "    https://scikit-learn.org/stable/modules/linear_model.html#logistic-regression\n",
      "  extra_warning_msg=_LOGISTIC_SOLVER_CONVERGENCE_MSG)\n",
      "/usr/local/lib/python3.6/dist-packages/sklearn/linear_model/_logistic.py:940: ConvergenceWarning: lbfgs failed to converge (status=1):\n",
      "STOP: TOTAL NO. of ITERATIONS REACHED LIMIT.\n",
      "\n",
      "Increase the number of iterations (max_iter) or scale the data as shown in:\n",
      "    https://scikit-learn.org/stable/modules/preprocessing.html\n",
      "Please also refer to the documentation for alternative solver options:\n",
      "    https://scikit-learn.org/stable/modules/linear_model.html#logistic-regression\n",
      "  extra_warning_msg=_LOGISTIC_SOLVER_CONVERGENCE_MSG)\n",
      "/usr/local/lib/python3.6/dist-packages/sklearn/model_selection/_validation.py:536: FitFailedWarning: Estimator fit failed. The score on this train-test partition for these parameters will be set to nan. Details: \n",
      "ValueError: Solver lbfgs supports only 'l2' or 'none' penalties, got l1 penalty.\n",
      "\n",
      "  FitFailedWarning)\n",
      "/usr/local/lib/python3.6/dist-packages/sklearn/linear_model/_logistic.py:940: ConvergenceWarning: lbfgs failed to converge (status=1):\n",
      "STOP: TOTAL NO. of ITERATIONS REACHED LIMIT.\n",
      "\n",
      "Increase the number of iterations (max_iter) or scale the data as shown in:\n",
      "    https://scikit-learn.org/stable/modules/preprocessing.html\n",
      "Please also refer to the documentation for alternative solver options:\n",
      "    https://scikit-learn.org/stable/modules/linear_model.html#logistic-regression\n",
      "  extra_warning_msg=_LOGISTIC_SOLVER_CONVERGENCE_MSG)\n",
      "/usr/local/lib/python3.6/dist-packages/sklearn/linear_model/_logistic.py:940: ConvergenceWarning: lbfgs failed to converge (status=1):\n",
      "STOP: TOTAL NO. of ITERATIONS REACHED LIMIT.\n",
      "\n",
      "Increase the number of iterations (max_iter) or scale the data as shown in:\n",
      "    https://scikit-learn.org/stable/modules/preprocessing.html\n",
      "Please also refer to the documentation for alternative solver options:\n",
      "    https://scikit-learn.org/stable/modules/linear_model.html#logistic-regression\n",
      "  extra_warning_msg=_LOGISTIC_SOLVER_CONVERGENCE_MSG)\n",
      "/usr/local/lib/python3.6/dist-packages/sklearn/linear_model/_logistic.py:940: ConvergenceWarning: lbfgs failed to converge (status=1):\n",
      "STOP: TOTAL NO. of ITERATIONS REACHED LIMIT.\n",
      "\n",
      "Increase the number of iterations (max_iter) or scale the data as shown in:\n",
      "    https://scikit-learn.org/stable/modules/preprocessing.html\n",
      "Please also refer to the documentation for alternative solver options:\n",
      "    https://scikit-learn.org/stable/modules/linear_model.html#logistic-regression\n",
      "  extra_warning_msg=_LOGISTIC_SOLVER_CONVERGENCE_MSG)\n",
      "/usr/local/lib/python3.6/dist-packages/sklearn/linear_model/_logistic.py:940: ConvergenceWarning: lbfgs failed to converge (status=1):\n",
      "STOP: TOTAL NO. of ITERATIONS REACHED LIMIT.\n",
      "\n",
      "Increase the number of iterations (max_iter) or scale the data as shown in:\n",
      "    https://scikit-learn.org/stable/modules/preprocessing.html\n",
      "Please also refer to the documentation for alternative solver options:\n",
      "    https://scikit-learn.org/stable/modules/linear_model.html#logistic-regression\n",
      "  extra_warning_msg=_LOGISTIC_SOLVER_CONVERGENCE_MSG)\n",
      "/usr/local/lib/python3.6/dist-packages/sklearn/linear_model/_logistic.py:940: ConvergenceWarning: lbfgs failed to converge (status=1):\n",
      "STOP: TOTAL NO. of ITERATIONS REACHED LIMIT.\n",
      "\n",
      "Increase the number of iterations (max_iter) or scale the data as shown in:\n",
      "    https://scikit-learn.org/stable/modules/preprocessing.html\n",
      "Please also refer to the documentation for alternative solver options:\n",
      "    https://scikit-learn.org/stable/modules/linear_model.html#logistic-regression\n",
      "  extra_warning_msg=_LOGISTIC_SOLVER_CONVERGENCE_MSG)\n",
      "/usr/local/lib/python3.6/dist-packages/sklearn/linear_model/_logistic.py:940: ConvergenceWarning: lbfgs failed to converge (status=1):\n",
      "STOP: TOTAL NO. of ITERATIONS REACHED LIMIT.\n",
      "\n",
      "Increase the number of iterations (max_iter) or scale the data as shown in:\n",
      "    https://scikit-learn.org/stable/modules/preprocessing.html\n",
      "Please also refer to the documentation for alternative solver options:\n",
      "    https://scikit-learn.org/stable/modules/linear_model.html#logistic-regression\n",
      "  extra_warning_msg=_LOGISTIC_SOLVER_CONVERGENCE_MSG)\n",
      "/usr/local/lib/python3.6/dist-packages/sklearn/linear_model/_logistic.py:940: ConvergenceWarning: lbfgs failed to converge (status=1):\n",
      "STOP: TOTAL NO. of ITERATIONS REACHED LIMIT.\n",
      "\n",
      "Increase the number of iterations (max_iter) or scale the data as shown in:\n",
      "    https://scikit-learn.org/stable/modules/preprocessing.html\n",
      "Please also refer to the documentation for alternative solver options:\n",
      "    https://scikit-learn.org/stable/modules/linear_model.html#logistic-regression\n",
      "  extra_warning_msg=_LOGISTIC_SOLVER_CONVERGENCE_MSG)\n",
      "/usr/local/lib/python3.6/dist-packages/sklearn/linear_model/_logistic.py:940: ConvergenceWarning: lbfgs failed to converge (status=1):\n",
      "STOP: TOTAL NO. of ITERATIONS REACHED LIMIT.\n",
      "\n",
      "Increase the number of iterations (max_iter) or scale the data as shown in:\n",
      "    https://scikit-learn.org/stable/modules/preprocessing.html\n",
      "Please also refer to the documentation for alternative solver options:\n",
      "    https://scikit-learn.org/stable/modules/linear_model.html#logistic-regression\n",
      "  extra_warning_msg=_LOGISTIC_SOLVER_CONVERGENCE_MSG)\n",
      "/usr/local/lib/python3.6/dist-packages/sklearn/linear_model/_logistic.py:940: ConvergenceWarning: lbfgs failed to converge (status=1):\n",
      "STOP: TOTAL NO. of ITERATIONS REACHED LIMIT.\n",
      "\n",
      "Increase the number of iterations (max_iter) or scale the data as shown in:\n",
      "    https://scikit-learn.org/stable/modules/preprocessing.html\n",
      "Please also refer to the documentation for alternative solver options:\n",
      "    https://scikit-learn.org/stable/modules/linear_model.html#logistic-regression\n",
      "  extra_warning_msg=_LOGISTIC_SOLVER_CONVERGENCE_MSG)\n",
      "/usr/local/lib/python3.6/dist-packages/sklearn/linear_model/_logistic.py:940: ConvergenceWarning: lbfgs failed to converge (status=1):\n",
      "STOP: TOTAL NO. of ITERATIONS REACHED LIMIT.\n",
      "\n",
      "Increase the number of iterations (max_iter) or scale the data as shown in:\n",
      "    https://scikit-learn.org/stable/modules/preprocessing.html\n",
      "Please also refer to the documentation for alternative solver options:\n",
      "    https://scikit-learn.org/stable/modules/linear_model.html#logistic-regression\n",
      "  extra_warning_msg=_LOGISTIC_SOLVER_CONVERGENCE_MSG)\n",
      "/usr/local/lib/python3.6/dist-packages/sklearn/linear_model/_logistic.py:940: ConvergenceWarning: lbfgs failed to converge (status=1):\n",
      "STOP: TOTAL NO. of ITERATIONS REACHED LIMIT.\n",
      "\n",
      "Increase the number of iterations (max_iter) or scale the data as shown in:\n",
      "    https://scikit-learn.org/stable/modules/preprocessing.html\n",
      "Please also refer to the documentation for alternative solver options:\n",
      "    https://scikit-learn.org/stable/modules/linear_model.html#logistic-regression\n",
      "  extra_warning_msg=_LOGISTIC_SOLVER_CONVERGENCE_MSG)\n"
     ]
    },
    {
     "data": {
      "text/plain": [
       "GridSearchCV(cv=10, error_score=nan,\n",
       "             estimator=LogisticRegression(C=1.0, class_weight=None, dual=False,\n",
       "                                          fit_intercept=True,\n",
       "                                          intercept_scaling=1, l1_ratio=None,\n",
       "                                          max_iter=100, multi_class='auto',\n",
       "                                          n_jobs=None, penalty='l2',\n",
       "                                          random_state=None, solver='lbfgs',\n",
       "                                          tol=0.0001, verbose=0,\n",
       "                                          warm_start=False),\n",
       "             iid='deprecated', n_jobs=None,\n",
       "             param_grid={'class_weight': ['balanced', None],\n",
       "                         'penalty': ['l1', 'l2']},\n",
       "             pre_dispatch='2*n_jobs', refit=True, return_train_score=False,\n",
       "             scoring='roc_auc', verbose=0)"
      ]
     },
     "execution_count": 49,
     "metadata": {
      "tags": []
     },
     "output_type": "execute_result"
    }
   ],
   "source": [
    "grid_search.fit(x_train,y_train)"
   ]
  },
  {
   "cell_type": "code",
   "execution_count": 50,
   "metadata": {
    "colab": {
     "base_uri": "https://localhost:8080/",
     "height": 110
    },
    "colab_type": "code",
    "executionInfo": {
     "elapsed": 995,
     "status": "ok",
     "timestamp": 1578886622339,
     "user": {
      "displayName": "Hariom Jangid",
      "photoUrl": "",
      "userId": "17999286889382918401"
     },
     "user_tz": -330
    },
    "id": "1tS-ZqNv8qCA",
    "outputId": "22031a0c-253a-44d6-c976-13a39d13e20e"
   },
   "outputs": [
    {
     "data": {
      "text/plain": [
       "LogisticRegression(C=1.0, class_weight=None, dual=False, fit_intercept=True,\n",
       "                   intercept_scaling=1, l1_ratio=None, max_iter=100,\n",
       "                   multi_class='auto', n_jobs=None, penalty='l2',\n",
       "                   random_state=None, solver='lbfgs', tol=0.0001, verbose=0,\n",
       "                   warm_start=False)"
      ]
     },
     "execution_count": 50,
     "metadata": {
      "tags": []
     },
     "output_type": "execute_result"
    }
   ],
   "source": [
    "grid_search.best_estimator_"
   ]
  },
  {
   "cell_type": "code",
   "execution_count": 0,
   "metadata": {
    "colab": {},
    "colab_type": "code",
    "id": "MRROnyEO8qCF"
   },
   "outputs": [],
   "source": [
    "logr=grid_search.best_estimator_"
   ]
  },
  {
   "cell_type": "code",
   "execution_count": 52,
   "metadata": {
    "colab": {
     "base_uri": "https://localhost:8080/",
     "height": 278
    },
    "colab_type": "code",
    "executionInfo": {
     "elapsed": 1069,
     "status": "ok",
     "timestamp": 1578886625850,
     "user": {
      "displayName": "Hariom Jangid",
      "photoUrl": "",
      "userId": "17999286889382918401"
     },
     "user_tz": -330
    },
    "id": "jilqfcIn8qCK",
    "outputId": "6db88a92-08fe-412b-a231-db84ccb26aae"
   },
   "outputs": [
    {
     "name": "stderr",
     "output_type": "stream",
     "text": [
      "/usr/local/lib/python3.6/dist-packages/sklearn/linear_model/_logistic.py:940: ConvergenceWarning: lbfgs failed to converge (status=1):\n",
      "STOP: TOTAL NO. of ITERATIONS REACHED LIMIT.\n",
      "\n",
      "Increase the number of iterations (max_iter) or scale the data as shown in:\n",
      "    https://scikit-learn.org/stable/modules/preprocessing.html\n",
      "Please also refer to the documentation for alternative solver options:\n",
      "    https://scikit-learn.org/stable/modules/linear_model.html#logistic-regression\n",
      "  extra_warning_msg=_LOGISTIC_SOLVER_CONVERGENCE_MSG)\n"
     ]
    },
    {
     "data": {
      "text/plain": [
       "LogisticRegression(C=1.0, class_weight=None, dual=False, fit_intercept=True,\n",
       "                   intercept_scaling=1, l1_ratio=None, max_iter=100,\n",
       "                   multi_class='auto', n_jobs=None, penalty='l2',\n",
       "                   random_state=None, solver='lbfgs', tol=0.0001, verbose=0,\n",
       "                   warm_start=False)"
      ]
     },
     "execution_count": 52,
     "metadata": {
      "tags": []
     },
     "output_type": "execute_result"
    }
   ],
   "source": [
    "#fit on training data \n",
    "logr.fit(x_train,y_train)"
   ]
  },
  {
   "cell_type": "code",
   "execution_count": 53,
   "metadata": {
    "colab": {
     "base_uri": "https://localhost:8080/",
     "height": 535
    },
    "colab_type": "code",
    "executionInfo": {
     "elapsed": 1259,
     "status": "ok",
     "timestamp": 1578886628374,
     "user": {
      "displayName": "Hariom Jangid",
      "photoUrl": "",
      "userId": "17999286889382918401"
     },
     "user_tz": -330
    },
    "id": "OvBnrP5g8qCO",
    "outputId": "fe6af72c-e015-491e-91a4-9f40afba447b"
   },
   "outputs": [
    {
     "data": {
      "text/plain": [
       "[('V3', array([-0.06416538, -0.03407156,  0.0082387 , -0.06568202, -0.06270163,\n",
       "         -0.01088988, -0.13692767, -0.1427762 , -0.08629165, -0.02358631,\n",
       "         -0.1431751 , -0.25020866, -0.00173113,  0.05487682, -0.07718497,\n",
       "          0.09981985,  0.01882539,  0.02016082,  0.10357179,  0.0305153 ,\n",
       "          0.02751051,  0.15260737, -0.01017824, -0.27530904, -0.27790478,\n",
       "          0.099242  ,  0.12369775,  0.03682066, -0.20254575, -0.25281423,\n",
       "          0.03553392,  0.07059271,  0.02551739,  0.14915402, -0.25642716,\n",
       "          0.07003666, -0.06519063, -0.23626733,  0.2546974 , -0.01485011,\n",
       "         -0.12511888, -0.24044573,  0.32056773,  0.16670134, -0.50968464,\n",
       "         -0.14221301, -0.2703396 , -0.05679051,  0.19608161,  0.27954858,\n",
       "          0.19715831,  0.02222549,  0.39208571, -0.08512309, -0.03176499,\n",
       "          0.0373237 , -0.0083364 ,  0.14118334, -0.04199228, -0.01272143,\n",
       "         -0.09375209,  0.37376649, -0.05591454,  0.06962721, -0.40143951,\n",
       "         -0.2709947 ,  0.04434961,  0.49185796, -0.00487817,  0.00835722,\n",
       "         -0.18537032, -0.36986196,  0.06539819,  0.84344002,  0.14577167,\n",
       "          0.19858595,  0.12535912,  0.22763786,  0.17658188, -0.11338064,\n",
       "          0.51014551,  0.37768216, -0.19473715,  0.19545389,  0.54701404,\n",
       "         -0.63495427,  0.40580305, -0.66290116,  0.08202728, -0.0626653 ,\n",
       "          0.21786905, -0.33662816,  0.09924297, -0.21025807, -0.73654738,\n",
       "          0.37544438,  0.77448742, -0.01180224,  0.17058694,  0.66088857,\n",
       "          0.29770654, -0.13286285,  0.31603983, -0.13920755, -0.3140294 ,\n",
       "         -0.09664897, -0.36067851,  0.15078715,  0.41621763,  0.34134337,\n",
       "          0.00877998,  0.31540836, -0.10425499, -0.1946884 ,  0.19731521,\n",
       "          0.19356599, -0.23200212,  0.35522683,  0.53490236,  0.19860017,\n",
       "         -0.31010165, -0.00246276,  0.05984158,  0.06738302,  0.10819084,\n",
       "          0.06160982, -0.05323259,  0.06502303,  0.04765176, -0.12812415,\n",
       "         -0.18576733,  0.31363435,  0.18674316,  0.20008041, -0.27498081,\n",
       "          0.03566826, -0.12011781,  0.2724304 ]))]"
      ]
     },
     "execution_count": 53,
     "metadata": {
      "tags": []
     },
     "output_type": "execute_result"
    }
   ],
   "source": [
    "list(zip(x_train.columns,logr.coef_))"
   ]
  },
  {
   "cell_type": "code",
   "execution_count": 0,
   "metadata": {
    "colab": {},
    "colab_type": "code",
    "id": "hTKP-wQm8qCU"
   },
   "outputs": [],
   "source": [
    "#prediction on 20% splitted test data....y_predicted\n",
    "train_prediction=logr.predict_proba(x_test)[:,1]\n",
    "#Real \n",
    "real_value=y_test"
   ]
  },
  {
   "cell_type": "code",
   "execution_count": 55,
   "metadata": {
    "colab": {
     "base_uri": "https://localhost:8080/",
     "height": 54
    },
    "colab_type": "code",
    "executionInfo": {
     "elapsed": 950,
     "status": "ok",
     "timestamp": 1578886634284,
     "user": {
      "displayName": "Hariom Jangid",
      "photoUrl": "",
      "userId": "17999286889382918401"
     },
     "user_tz": -330
    },
    "id": "F2jyqIFx8qCZ",
    "outputId": "6f196a22-a51e-411b-ac0f-80143992b18f"
   },
   "outputs": [
    {
     "data": {
      "text/plain": [
       "array([0.05698232, 0.1660042 , 0.0308065 , ..., 0.015779  , 0.12120285,\n",
       "       0.03572557])"
      ]
     },
     "execution_count": 55,
     "metadata": {
      "tags": []
     },
     "output_type": "execute_result"
    }
   ],
   "source": [
    "train_prediction"
   ]
  },
  {
   "cell_type": "code",
   "execution_count": 0,
   "metadata": {
    "colab": {},
    "colab_type": "code",
    "id": "lFhbo2er8qCd"
   },
   "outputs": [],
   "source": [
    "cutoffs=np.linspace(0.01,0.99,99)"
   ]
  },
  {
   "cell_type": "code",
   "execution_count": 57,
   "metadata": {
    "colab": {
     "base_uri": "https://localhost:8080/",
     "height": 1000
    },
    "colab_type": "code",
    "executionInfo": {
     "elapsed": 3283,
     "status": "ok",
     "timestamp": 1578886640022,
     "user": {
      "displayName": "Hariom Jangid",
      "photoUrl": "",
      "userId": "17999286889382918401"
     },
     "user_tz": -330
    },
    "id": "pU61XeRU8qCh",
    "outputId": "46690bfc-d678-4b6f-c200-8942beb85343"
   },
   "outputs": [
    {
     "name": "stdout",
     "output_type": "stream",
     "text": [
      "FB  0.2753036437246964\n",
      "FB  0.301556420233463\n",
      "FB  0.3167420814479639\n",
      "FB  0.30902348578491967\n",
      "FB  0.3347280334728034\n",
      "FB  0.32428355957767724\n",
      "FB  0.31825795644891125\n",
      "FB  0.285204991087344\n",
      "FB  0.27566539923954375\n",
      "FB  0.2755905511811024\n",
      "FB  0.26260504201680673\n",
      "FB  0.25386313465783666\n",
      "FB  0.2408256880733945\n",
      "FB  0.23809523809523805\n",
      "FB  0.24691358024691357\n",
      "FB  0.2162849872773537\n",
      "FB  0.20997375328083992\n",
      "FB  0.20380434782608692\n",
      "FB  0.1800554016620499\n",
      "FB  0.15759312320916907\n",
      "FB  0.15988372093023254\n",
      "FB  0.1483679525222552\n",
      "FB  0.13595166163141995\n",
      "FB  0.1371951219512195\n",
      "FB  0.1393188854489164\n",
      "FB  0.14018691588785048\n",
      "FB  0.12618296529968454\n",
      "FB  0.11254019292604502\n",
      "FB  0.09740259740259741\n",
      "FB  0.09740259740259741\n",
      "FB  0.08250825082508251\n",
      "FB  0.06666666666666667\n",
      "FB  0.03355704697986577\n",
      "FB  0.01689189189189189\n",
      "FB  0.01689189189189189\n",
      "FB  0.017123287671232876\n",
      "FB  0.01730103806228374\n",
      "FB  nan\n",
      "FB  nan\n",
      "FB  nan\n",
      "FB  nan\n",
      "FB  nan\n",
      "FB  nan\n",
      "FB  nan\n",
      "FB  nan\n",
      "FB  nan\n",
      "FB  nan\n",
      "FB  nan\n",
      "FB  nan\n",
      "FB  nan\n",
      "FB  nan\n",
      "FB  nan\n",
      "FB  nan\n",
      "FB  nan\n",
      "FB  nan\n",
      "FB  nan\n",
      "FB  nan\n",
      "FB  nan\n",
      "FB  nan\n",
      "FB  nan\n",
      "FB  nan\n",
      "FB  nan\n",
      "FB  nan\n",
      "FB  nan\n",
      "FB  nan\n",
      "FB  nan\n",
      "FB  nan\n",
      "FB  nan\n",
      "FB  nan\n",
      "FB  nan\n",
      "FB  nan\n",
      "FB  nan\n",
      "FB  nan\n",
      "FB  nan\n",
      "FB  nan\n",
      "FB  nan\n",
      "FB  nan\n",
      "FB  nan\n",
      "FB  nan\n",
      "FB  nan\n",
      "FB  nan\n",
      "FB  nan\n",
      "FB  nan\n",
      "FB  nan\n",
      "FB  nan\n",
      "FB  nan\n",
      "FB  nan\n",
      "FB  nan\n",
      "FB  nan\n",
      "FB  nan\n",
      "FB  nan\n",
      "FB  nan\n",
      "FB  nan\n",
      "FB  nan\n",
      "FB  nan\n",
      "FB  nan\n",
      "FB  nan\n",
      "FB  nan\n",
      "FB  nan\n"
     ]
    },
    {
     "name": "stderr",
     "output_type": "stream",
     "text": [
      "/usr/local/lib/python3.6/dist-packages/ipykernel_launcher.py:19: RuntimeWarning: invalid value encountered in double_scalars\n",
      "/usr/local/lib/python3.6/dist-packages/ipykernel_launcher.py:17: RuntimeWarning: invalid value encountered in long_scalars\n"
     ]
    }
   ],
   "source": [
    "KS_all=[]\n",
    "for cutof in cutoffs:\n",
    "        predicted=(train_prediction>cutof).astype(int)\n",
    "        \n",
    "        TP=((predicted==1) & (real_value==1)).sum()\n",
    "        TN=((predicted==0) & (real_value==0)).sum()\n",
    "        FP=((predicted==1) & (real_value==0)).sum()\n",
    "        FN=((predicted==0) & (real_value==1)).sum()\n",
    "    \n",
    "        P=TP+FN\n",
    "        N=TN+FP\n",
    "        #KS cutoff\n",
    "        KS=(TP/P)-(FP/N)\n",
    "        #Recall\n",
    "        RK=(TP/(TP+FN))\n",
    "        #precision\n",
    "        PR=(TP/(TP+FP))\n",
    "        #F-beta score (beta=2)\n",
    "        FB=(1+2**2)*PR*RK/((2**2)*PR+RK)\n",
    "        print(\"FB \",FB)\n",
    "    \n",
    "        KS_all.append(KS)\n"
   ]
  },
  {
   "cell_type": "code",
   "execution_count": 58,
   "metadata": {
    "colab": {
     "base_uri": "https://localhost:8080/",
     "height": 36
    },
    "colab_type": "code",
    "executionInfo": {
     "elapsed": 1193,
     "status": "ok",
     "timestamp": 1578886643018,
     "user": {
      "displayName": "Hariom Jangid",
      "photoUrl": "",
      "userId": "17999286889382918401"
     },
     "user_tz": -330
    },
    "id": "7VLI9lAI8qCo",
    "outputId": "204c0e4b-5f16-42e1-c8de-c3c0ed624303"
   },
   "outputs": [
    {
     "data": {
      "text/plain": [
       "0.05"
      ]
     },
     "execution_count": 58,
     "metadata": {
      "tags": []
     },
     "output_type": "execute_result"
    }
   ],
   "source": [
    "mycutoff=cutoffs[KS_all==max(KS_all)][0]\n",
    "mycutoff"
   ]
  },
  {
   "cell_type": "code",
   "execution_count": 59,
   "metadata": {
    "colab": {
     "base_uri": "https://localhost:8080/",
     "height": 36
    },
    "colab_type": "code",
    "executionInfo": {
     "elapsed": 977,
     "status": "ok",
     "timestamp": 1578886646151,
     "user": {
      "displayName": "Hariom Jangid",
      "photoUrl": "",
      "userId": "17999286889382918401"
     },
     "user_tz": -330
    },
    "id": "2q6xemLV8qCu",
    "outputId": "23766a65-3a78-4918-bf03-da69937614a9"
   },
   "outputs": [
    {
     "data": {
      "text/plain": [
       "array([1, 1, 0, ..., 0, 1, 0])"
      ]
     },
     "execution_count": 59,
     "metadata": {
      "tags": []
     },
     "output_type": "execute_result"
    }
   ],
   "source": [
    "lm_hardclasses = (train_prediction>mycutoff).astype(int)\n",
    "lm_hardclasses"
   ]
  },
  {
   "cell_type": "code",
   "execution_count": 0,
   "metadata": {
    "colab": {},
    "colab_type": "code",
    "id": "09yyAgVb8qCx"
   },
   "outputs": [],
   "source": []
  },
  {
   "cell_type": "code",
   "execution_count": 0,
   "metadata": {
    "colab": {},
    "colab_type": "code",
    "id": "itJe-oZZ8qC1"
   },
   "outputs": [],
   "source": []
  },
  {
   "cell_type": "markdown",
   "metadata": {
    "colab_type": "text",
    "id": "2yejwCwU8qC6"
   },
   "source": [
    "# Let's build confusion matrix"
   ]
  },
  {
   "cell_type": "code",
   "execution_count": 0,
   "metadata": {
    "colab": {},
    "colab_type": "code",
    "id": "aLhlC0-z8qC6"
   },
   "outputs": [],
   "source": [
    "from sklearn.metrics import confusion_matrix"
   ]
  },
  {
   "cell_type": "code",
   "execution_count": 61,
   "metadata": {
    "colab": {
     "base_uri": "https://localhost:8080/",
     "height": 54
    },
    "colab_type": "code",
    "executionInfo": {
     "elapsed": 694,
     "status": "ok",
     "timestamp": 1578886662860,
     "user": {
      "displayName": "Hariom Jangid",
      "photoUrl": "",
      "userId": "17999286889382918401"
     },
     "user_tz": -330
    },
    "id": "LcnD5Yeq8qDD",
    "outputId": "0411f96d-6688-49ba-98c7-12128a52eaf1"
   },
   "outputs": [
    {
     "data": {
      "text/plain": [
       "array([[706, 389],\n",
       "       [ 22,  48]])"
      ]
     },
     "execution_count": 61,
     "metadata": {
      "tags": []
     },
     "output_type": "execute_result"
    }
   ],
   "source": [
    "confusion_matrix(real_value,lm_hardclasses)"
   ]
  },
  {
   "cell_type": "code",
   "execution_count": 62,
   "metadata": {
    "colab": {
     "base_uri": "https://localhost:8080/",
     "height": 143
    },
    "colab_type": "code",
    "executionInfo": {
     "elapsed": 1111,
     "status": "ok",
     "timestamp": 1578886665542,
     "user": {
      "displayName": "Hariom Jangid",
      "photoUrl": "",
      "userId": "17999286889382918401"
     },
     "user_tz": -330
    },
    "id": "Cx_Jymnj8qDI",
    "outputId": "2b04da87-4bfe-4880-a8c6-411c1cb199aa"
   },
   "outputs": [
    {
     "data": {
      "text/html": [
       "<div>\n",
       "<style scoped>\n",
       "    .dataframe tbody tr th:only-of-type {\n",
       "        vertical-align: middle;\n",
       "    }\n",
       "\n",
       "    .dataframe tbody tr th {\n",
       "        vertical-align: top;\n",
       "    }\n",
       "\n",
       "    .dataframe thead th {\n",
       "        text-align: right;\n",
       "    }\n",
       "</style>\n",
       "<table border=\"1\" class=\"dataframe\">\n",
       "  <thead>\n",
       "    <tr style=\"text-align: right;\">\n",
       "      <th>col_0</th>\n",
       "      <th>0</th>\n",
       "      <th>1</th>\n",
       "    </tr>\n",
       "    <tr>\n",
       "      <th>V86</th>\n",
       "      <th></th>\n",
       "      <th></th>\n",
       "    </tr>\n",
       "  </thead>\n",
       "  <tbody>\n",
       "    <tr>\n",
       "      <th>0.0</th>\n",
       "      <td>706</td>\n",
       "      <td>389</td>\n",
       "    </tr>\n",
       "    <tr>\n",
       "      <th>1.0</th>\n",
       "      <td>22</td>\n",
       "      <td>48</td>\n",
       "    </tr>\n",
       "  </tbody>\n",
       "</table>\n",
       "</div>"
      ],
      "text/plain": [
       "col_0    0    1\n",
       "V86            \n",
       "0.0    706  389\n",
       "1.0     22   48"
      ]
     },
     "execution_count": 62,
     "metadata": {
      "tags": []
     },
     "output_type": "execute_result"
    }
   ],
   "source": [
    "#Another way of building confusion matrix\n",
    "pd.crosstab(real_value,lm_hardclasses)"
   ]
  },
  {
   "cell_type": "code",
   "execution_count": 63,
   "metadata": {
    "colab": {
     "base_uri": "https://localhost:8080/",
     "height": 36
    },
    "colab_type": "code",
    "executionInfo": {
     "elapsed": 1040,
     "status": "ok",
     "timestamp": 1578886668338,
     "user": {
      "displayName": "Hariom Jangid",
      "photoUrl": "",
      "userId": "17999286889382918401"
     },
     "user_tz": -330
    },
    "id": "wnMK9eu_8qDM",
    "outputId": "3370be39-ddfc-45cb-a400-31ca41e1b87e"
   },
   "outputs": [
    {
     "data": {
      "text/plain": [
       "0.7114220482713632"
      ]
     },
     "execution_count": 63,
     "metadata": {
      "tags": []
     },
     "output_type": "execute_result"
    }
   ],
   "source": [
    "#Accuracy on train data\n",
    "from sklearn.metrics import roc_auc_score\n",
    "roc_auc_score(y_test,train_prediction)"
   ]
  },
  {
   "cell_type": "code",
   "execution_count": 0,
   "metadata": {
    "colab": {},
    "colab_type": "code",
    "id": "l-yGIFaK8qDQ"
   },
   "outputs": [],
   "source": [
    "#We got 72% accuracy on train data,This is too low so now we will move to another algorithms"
   ]
  },
  {
   "cell_type": "code",
   "execution_count": 0,
   "metadata": {
    "colab": {},
    "colab_type": "code",
    "id": "6bOjjhXs8qDS"
   },
   "outputs": [],
   "source": [
    "#Now we build our model on whole data\n",
    "#we split our whole training data into predictors and target\n",
    "X_TRAIN=bd_train.drop(['V86'],axis=1)\n",
    "Y_TRAIN=bd_train['V86']"
   ]
  },
  {
   "cell_type": "code",
   "execution_count": 66,
   "metadata": {
    "colab": {
     "base_uri": "https://localhost:8080/",
     "height": 278
    },
    "colab_type": "code",
    "executionInfo": {
     "elapsed": 1019,
     "status": "ok",
     "timestamp": 1578886680012,
     "user": {
      "displayName": "Hariom Jangid",
      "photoUrl": "",
      "userId": "17999286889382918401"
     },
     "user_tz": -330
    },
    "id": "wnA3WWcp8qDW",
    "outputId": "8ef42e36-a6d0-451b-eef9-d70aa8346655"
   },
   "outputs": [
    {
     "name": "stderr",
     "output_type": "stream",
     "text": [
      "/usr/local/lib/python3.6/dist-packages/sklearn/linear_model/_logistic.py:940: ConvergenceWarning: lbfgs failed to converge (status=1):\n",
      "STOP: TOTAL NO. of ITERATIONS REACHED LIMIT.\n",
      "\n",
      "Increase the number of iterations (max_iter) or scale the data as shown in:\n",
      "    https://scikit-learn.org/stable/modules/preprocessing.html\n",
      "Please also refer to the documentation for alternative solver options:\n",
      "    https://scikit-learn.org/stable/modules/linear_model.html#logistic-regression\n",
      "  extra_warning_msg=_LOGISTIC_SOLVER_CONVERGENCE_MSG)\n"
     ]
    },
    {
     "data": {
      "text/plain": [
       "LogisticRegression(C=1.0, class_weight=None, dual=False, fit_intercept=True,\n",
       "                   intercept_scaling=1, l1_ratio=None, max_iter=100,\n",
       "                   multi_class='auto', n_jobs=None, penalty='l2',\n",
       "                   random_state=None, solver='lbfgs', tol=0.0001, verbose=0,\n",
       "                   warm_start=False)"
      ]
     },
     "execution_count": 66,
     "metadata": {
      "tags": []
     },
     "output_type": "execute_result"
    }
   ],
   "source": [
    "#fit on whole train data\n",
    "logr.fit(X_TRAIN,Y_TRAIN)"
   ]
  },
  {
   "cell_type": "code",
   "execution_count": 0,
   "metadata": {
    "colab": {},
    "colab_type": "code",
    "id": "Nu2OsgLl8qDZ"
   },
   "outputs": [],
   "source": [
    "#Prediction on whole test data\n",
    "test_prediction=logr.predict_proba(bd_test)[:,1]"
   ]
  },
  {
   "cell_type": "code",
   "execution_count": 68,
   "metadata": {
    "colab": {
     "base_uri": "https://localhost:8080/",
     "height": 54
    },
    "colab_type": "code",
    "executionInfo": {
     "elapsed": 700,
     "status": "ok",
     "timestamp": 1578886684142,
     "user": {
      "displayName": "Hariom Jangid",
      "photoUrl": "",
      "userId": "17999286889382918401"
     },
     "user_tz": -330
    },
    "id": "dmMKEU7x8qDc",
    "outputId": "82dbeabc-540e-4bd4-f039-97684ad28d5a"
   },
   "outputs": [
    {
     "data": {
      "text/plain": [
       "array([0.01384861, 0.27801531, 0.07522126, ..., 0.1782738 , 0.08879775,\n",
       "       0.09083468])"
      ]
     },
     "execution_count": 68,
     "metadata": {
      "tags": []
     },
     "output_type": "execute_result"
    }
   ],
   "source": [
    "test_prediction"
   ]
  },
  {
   "cell_type": "code",
   "execution_count": 0,
   "metadata": {
    "colab": {},
    "colab_type": "code",
    "id": "qErFP5128qDg"
   },
   "outputs": [],
   "source": [
    "test_classes=(test_prediction>mycutoff).astype(int)"
   ]
  },
  {
   "cell_type": "code",
   "execution_count": 0,
   "metadata": {
    "colab": {},
    "colab_type": "code",
    "id": "zIeJZPCk8qDk"
   },
   "outputs": [],
   "source": [
    "pd.DataFrame(test_prediction).to_csv(\"MYLOGISTICSREG.csv\",index=False)"
   ]
  },
  {
   "cell_type": "code",
   "execution_count": 0,
   "metadata": {
    "colab": {},
    "colab_type": "code",
    "id": "RQhez5kA8qDp"
   },
   "outputs": [],
   "source": [
    "from sklearn.metrics import fbeta_score"
   ]
  },
  {
   "cell_type": "code",
   "execution_count": 71,
   "metadata": {
    "colab": {
     "base_uri": "https://localhost:8080/",
     "height": 36
    },
    "colab_type": "code",
    "executionInfo": {
     "elapsed": 897,
     "status": "ok",
     "timestamp": 1578886697539,
     "user": {
      "displayName": "Hariom Jangid",
      "photoUrl": "",
      "userId": "17999286889382918401"
     },
     "user_tz": -330
    },
    "id": "iI39P0yX8qDu",
    "outputId": "b1651b6b-edd0-4cf5-fa5a-1e6eb12ad7d5"
   },
   "outputs": [
    {
     "data": {
      "text/plain": [
       "0.3347280334728034"
      ]
     },
     "execution_count": 71,
     "metadata": {
      "tags": []
     },
     "output_type": "execute_result"
    }
   ],
   "source": [
    "#Fbeta Score\n",
    "fbeta_score(y_test,lm_hardclasses,beta=2)"
   ]
  },
  {
   "cell_type": "code",
   "execution_count": 0,
   "metadata": {
    "colab": {},
    "colab_type": "code",
    "id": "jZiKef-u8qDz"
   },
   "outputs": [],
   "source": []
  },
  {
   "cell_type": "markdown",
   "metadata": {
    "colab_type": "text",
    "id": "698s-YS68qD4"
   },
   "source": [
    "# Random Forest"
   ]
  },
  {
   "cell_type": "code",
   "execution_count": 0,
   "metadata": {
    "colab": {},
    "colab_type": "code",
    "id": "4CcqAVWZ8qD5"
   },
   "outputs": [],
   "source": [
    "from sklearn.ensemble import RandomForestClassifier\n",
    "from sklearn.model_selection import RandomizedSearchCV"
   ]
  },
  {
   "cell_type": "code",
   "execution_count": 0,
   "metadata": {
    "colab": {},
    "colab_type": "code",
    "id": "kDz4Wz2a8qD8"
   },
   "outputs": [],
   "source": [
    "#Random Forest classifier\n",
    "RFModel=RandomForestClassifier()\n"
   ]
  },
  {
   "cell_type": "code",
   "execution_count": 0,
   "metadata": {
    "colab": {},
    "colab_type": "code",
    "id": "NGID3Zb-8qD-"
   },
   "outputs": [],
   "source": [
    "#parameters for random forest \n",
    "param_dist = {\"n_estimators\":[100,200,300,500,700,1000],\n",
    "              \"max_features\": [5,10,20,25,30,35],\n",
    "              \"bootstrap\": [True, False],\n",
    "              'class_weight':[None,'balanced'], \n",
    "               'criterion':['entropy','gini'],\n",
    "               'max_depth':[None,5,10,15,20,30,50,70],\n",
    "                'min_samples_leaf':[1,2,5,10,15,20], \n",
    "                'min_samples_split':[2,5,10,15,20]\n",
    "                }\n",
    "\n"
   ]
  },
  {
   "cell_type": "code",
   "execution_count": 75,
   "metadata": {
    "colab": {
     "base_uri": "https://localhost:8080/",
     "height": 535
    },
    "colab_type": "code",
    "executionInfo": {
     "elapsed": 507611,
     "status": "ok",
     "timestamp": 1578887218319,
     "user": {
      "displayName": "Hariom Jangid",
      "photoUrl": "",
      "userId": "17999286889382918401"
     },
     "user_tz": -330
    },
    "id": "qhHYwxVJ8qEA",
    "outputId": "60b3ffbc-eea8-4d5e-ef5c-ce72d0e74ccd"
   },
   "outputs": [
    {
     "data": {
      "text/plain": [
       "RandomizedSearchCV(cv=10, error_score=nan,\n",
       "                   estimator=RandomForestClassifier(bootstrap=True,\n",
       "                                                    ccp_alpha=0.0,\n",
       "                                                    class_weight=None,\n",
       "                                                    criterion='gini',\n",
       "                                                    max_depth=None,\n",
       "                                                    max_features='auto',\n",
       "                                                    max_leaf_nodes=None,\n",
       "                                                    max_samples=None,\n",
       "                                                    min_impurity_decrease=0.0,\n",
       "                                                    min_impurity_split=None,\n",
       "                                                    min_samples_leaf=1,\n",
       "                                                    min_samples_split=2,\n",
       "                                                    min_weight_fraction_leaf=0.0,\n",
       "                                                    n_estimators=100,\n",
       "                                                    n_job...\n",
       "                                        'class_weight': [None, 'balanced'],\n",
       "                                        'criterion': ['entropy', 'gini'],\n",
       "                                        'max_depth': [None, 5, 10, 15, 20, 30,\n",
       "                                                      50, 70],\n",
       "                                        'max_features': [5, 10, 20, 25, 30, 35],\n",
       "                                        'min_samples_leaf': [1, 2, 5, 10, 15,\n",
       "                                                             20],\n",
       "                                        'min_samples_split': [2, 5, 10, 15, 20],\n",
       "                                        'n_estimators': [100, 200, 300, 500,\n",
       "                                                         700, 1000]},\n",
       "                   pre_dispatch='2*n_jobs', random_state=None, refit=True,\n",
       "                   return_train_score=False, scoring='roc_auc', verbose=0)"
      ]
     },
     "execution_count": 75,
     "metadata": {
      "tags": []
     },
     "output_type": "execute_result"
    }
   ],
   "source": [
    "n_iter_search=10\n",
    "random_search=RandomizedSearchCV(RFModel,param_dist,n_iter=n_iter_search,scoring='roc_auc',cv=10)\n",
    "random_search.fit(x_train,y_train)"
   ]
  },
  {
   "cell_type": "code",
   "execution_count": 0,
   "metadata": {
    "colab": {},
    "colab_type": "code",
    "id": "XwGdKU_h8qEE"
   },
   "outputs": [],
   "source": [
    "rf_model=random_search.best_estimator_"
   ]
  },
  {
   "cell_type": "code",
   "execution_count": 77,
   "metadata": {
    "colab": {
     "base_uri": "https://localhost:8080/",
     "height": 165
    },
    "colab_type": "code",
    "executionInfo": {
     "elapsed": 4207,
     "status": "ok",
     "timestamp": 1578887392500,
     "user": {
      "displayName": "Hariom Jangid",
      "photoUrl": "",
      "userId": "17999286889382918401"
     },
     "user_tz": -330
    },
    "id": "Zrh9vovF8qEL",
    "outputId": "7275b554-b49e-4889-d602-2f0917b113ad"
   },
   "outputs": [
    {
     "data": {
      "text/plain": [
       "RandomForestClassifier(bootstrap=False, ccp_alpha=0.0, class_weight=None,\n",
       "                       criterion='entropy', max_depth=5, max_features=35,\n",
       "                       max_leaf_nodes=None, max_samples=None,\n",
       "                       min_impurity_decrease=0.0, min_impurity_split=None,\n",
       "                       min_samples_leaf=10, min_samples_split=2,\n",
       "                       min_weight_fraction_leaf=0.0, n_estimators=300,\n",
       "                       n_jobs=None, oob_score=False, random_state=None,\n",
       "                       verbose=0, warm_start=False)"
      ]
     },
     "execution_count": 77,
     "metadata": {
      "tags": []
     },
     "output_type": "execute_result"
    }
   ],
   "source": [
    "#Fit 80% splitted train data using random search best estimator\n",
    "rf_model.fit(x_train,y_train)"
   ]
  },
  {
   "cell_type": "code",
   "execution_count": 0,
   "metadata": {
    "colab": {},
    "colab_type": "code",
    "id": "Vjot0McH8qEP"
   },
   "outputs": [],
   "source": [
    "rf_train_predicted = rf_model.predict_proba(x_test)[:,1]\n",
    "real=y_test"
   ]
  },
  {
   "cell_type": "code",
   "execution_count": 0,
   "metadata": {
    "colab": {},
    "colab_type": "code",
    "id": "77sAmSBf8qEU"
   },
   "outputs": [],
   "source": [
    "cutoffs=np.linspace(0.01,0.99,99)"
   ]
  },
  {
   "cell_type": "code",
   "execution_count": 0,
   "metadata": {
    "colab": {},
    "colab_type": "code",
    "id": "eyI6_Utd8qEX"
   },
   "outputs": [],
   "source": [
    "KS_all = []\n",
    "for cutoff in cutoffs:\n",
    "    predicted = (rf_train_predicted>cutoff).astype(int)\n",
    "    \n",
    "    TP = ((predicted==1) & (real==1)).sum()\n",
    "    TN = ((predicted==0) & (real==0)).sum()\n",
    "    FP = ((predicted==1) & (real==0)).sum()\n",
    "    FN = ((predicted==0) & (real==1)).sum()\n",
    "    \n",
    "    P = TP + FN\n",
    "    N = TN + FP\n",
    "    \n",
    "    KS = (TP/P)-(FP/N)\n",
    "    KS_all.append(KS)"
   ]
  },
  {
   "cell_type": "code",
   "execution_count": 81,
   "metadata": {
    "colab": {
     "base_uri": "https://localhost:8080/",
     "height": 36
    },
    "colab_type": "code",
    "executionInfo": {
     "elapsed": 740,
     "status": "ok",
     "timestamp": 1578887399129,
     "user": {
      "displayName": "Hariom Jangid",
      "photoUrl": "",
      "userId": "17999286889382918401"
     },
     "user_tz": -330
    },
    "id": "hQaYtRV38qEc",
    "outputId": "490ff03c-d231-4f3a-87d8-02b23ceae7fe"
   },
   "outputs": [
    {
     "data": {
      "text/plain": [
       "0.06999999999999999"
      ]
     },
     "execution_count": 81,
     "metadata": {
      "tags": []
     },
     "output_type": "execute_result"
    }
   ],
   "source": [
    "mycutoff = cutoffs[KS_all == max(KS_all)][0]\n",
    "mycutoff"
   ]
  },
  {
   "cell_type": "code",
   "execution_count": 0,
   "metadata": {
    "colab": {},
    "colab_type": "code",
    "id": "L01CdSSl8qEf"
   },
   "outputs": [],
   "source": [
    "rf_hardclasses = (rf_train_predicted > mycutoff).astype(int)"
   ]
  },
  {
   "cell_type": "code",
   "execution_count": 0,
   "metadata": {
    "colab": {},
    "colab_type": "code",
    "id": "MgYMnPxl8qEl"
   },
   "outputs": [],
   "source": [
    "df = pd.DataFrame(list(zip(real,rf_hardclasses)),columns=[\"Real\",\"Predicted\"])\n"
   ]
  },
  {
   "cell_type": "code",
   "execution_count": 84,
   "metadata": {
    "colab": {
     "base_uri": "https://localhost:8080/",
     "height": 143
    },
    "colab_type": "code",
    "executionInfo": {
     "elapsed": 925,
     "status": "ok",
     "timestamp": 1578887411661,
     "user": {
      "displayName": "Hariom Jangid",
      "photoUrl": "",
      "userId": "17999286889382918401"
     },
     "user_tz": -330
    },
    "id": "rwd-Q8jV8qEp",
    "outputId": "d7d2c729-cd02-49fc-ee0c-176af2e2a248"
   },
   "outputs": [
    {
     "data": {
      "text/html": [
       "<div>\n",
       "<style scoped>\n",
       "    .dataframe tbody tr th:only-of-type {\n",
       "        vertical-align: middle;\n",
       "    }\n",
       "\n",
       "    .dataframe tbody tr th {\n",
       "        vertical-align: top;\n",
       "    }\n",
       "\n",
       "    .dataframe thead th {\n",
       "        text-align: right;\n",
       "    }\n",
       "</style>\n",
       "<table border=\"1\" class=\"dataframe\">\n",
       "  <thead>\n",
       "    <tr style=\"text-align: right;\">\n",
       "      <th>Predicted</th>\n",
       "      <th>0</th>\n",
       "      <th>1</th>\n",
       "    </tr>\n",
       "    <tr>\n",
       "      <th>Real</th>\n",
       "      <th></th>\n",
       "      <th></th>\n",
       "    </tr>\n",
       "  </thead>\n",
       "  <tbody>\n",
       "    <tr>\n",
       "      <th>0.0</th>\n",
       "      <td>802</td>\n",
       "      <td>293</td>\n",
       "    </tr>\n",
       "    <tr>\n",
       "      <th>1.0</th>\n",
       "      <td>25</td>\n",
       "      <td>45</td>\n",
       "    </tr>\n",
       "  </tbody>\n",
       "</table>\n",
       "</div>"
      ],
      "text/plain": [
       "Predicted    0    1\n",
       "Real               \n",
       "0.0        802  293\n",
       "1.0         25   45"
      ]
     },
     "execution_count": 84,
     "metadata": {
      "tags": []
     },
     "output_type": "execute_result"
    }
   ],
   "source": [
    "#Lets build confusion matrix\n",
    "pd.crosstab(df[\"Real\"], df[\"Predicted\"])"
   ]
  },
  {
   "cell_type": "code",
   "execution_count": 146,
   "metadata": {
    "colab": {
     "base_uri": "https://localhost:8080/",
     "height": 54
    },
    "colab_type": "code",
    "executionInfo": {
     "elapsed": 1132,
     "status": "ok",
     "timestamp": 1578890258813,
     "user": {
      "displayName": "Hariom Jangid",
      "photoUrl": "",
      "userId": "17999286889382918401"
     },
     "user_tz": -330
    },
    "id": "kWDUyS6bMOH_",
    "outputId": "f8b2f217-12c8-4ef0-cf0f-8c457435b36b"
   },
   "outputs": [
    {
     "data": {
      "text/plain": [
       "array([[802, 293],\n",
       "       [ 25,  45]])"
      ]
     },
     "execution_count": 146,
     "metadata": {
      "tags": []
     },
     "output_type": "execute_result"
    }
   ],
   "source": [
    "confusion_matrix(y_test,rf_hardclasses)"
   ]
  },
  {
   "cell_type": "code",
   "execution_count": 85,
   "metadata": {
    "colab": {
     "base_uri": "https://localhost:8080/",
     "height": 36
    },
    "colab_type": "code",
    "executionInfo": {
     "elapsed": 917,
     "status": "ok",
     "timestamp": 1578887413843,
     "user": {
      "displayName": "Hariom Jangid",
      "photoUrl": "",
      "userId": "17999286889382918401"
     },
     "user_tz": -330
    },
    "id": "f3OhfhoA8qEt",
    "outputId": "d9c3a94a-db37-4436-a72f-e1298586dcbd"
   },
   "outputs": [
    {
     "data": {
      "text/plain": [
       "0.6876386170906719"
      ]
     },
     "execution_count": 85,
     "metadata": {
      "tags": []
     },
     "output_type": "execute_result"
    }
   ],
   "source": [
    "#Accuracy\n",
    "roc_auc_score(real,rf_hardclasses)"
   ]
  },
  {
   "cell_type": "code",
   "execution_count": 107,
   "metadata": {
    "colab": {
     "base_uri": "https://localhost:8080/",
     "height": 36
    },
    "colab_type": "code",
    "executionInfo": {
     "elapsed": 985,
     "status": "ok",
     "timestamp": 1578888338653,
     "user": {
      "displayName": "Hariom Jangid",
      "photoUrl": "",
      "userId": "17999286889382918401"
     },
     "user_tz": -330
    },
    "id": "kOlhQFdd8qEw",
    "outputId": "e813e6d2-a165-4bbb-9d79-fdb4189d0383"
   },
   "outputs": [
    {
     "data": {
      "text/plain": [
       "0.3640776699029127"
      ]
     },
     "execution_count": 107,
     "metadata": {
      "tags": []
     },
     "output_type": "execute_result"
    }
   ],
   "source": [
    "#F-beta score\n",
    "fbeta_score(y_test,rf_hardclasses,beta=2)"
   ]
  },
  {
   "cell_type": "code",
   "execution_count": 87,
   "metadata": {
    "colab": {
     "base_uri": "https://localhost:8080/",
     "height": 165
    },
    "colab_type": "code",
    "executionInfo": {
     "elapsed": 4585,
     "status": "ok",
     "timestamp": 1578887423298,
     "user": {
      "displayName": "Hariom Jangid",
      "photoUrl": "",
      "userId": "17999286889382918401"
     },
     "user_tz": -330
    },
    "id": "lcdVzxAp8qEz",
    "outputId": "ab990ba9-a8f7-4577-cbc6-fa574ed99a70"
   },
   "outputs": [
    {
     "data": {
      "text/plain": [
       "RandomForestClassifier(bootstrap=False, ccp_alpha=0.0, class_weight=None,\n",
       "                       criterion='entropy', max_depth=5, max_features=35,\n",
       "                       max_leaf_nodes=None, max_samples=None,\n",
       "                       min_impurity_decrease=0.0, min_impurity_split=None,\n",
       "                       min_samples_leaf=10, min_samples_split=2,\n",
       "                       min_weight_fraction_leaf=0.0, n_estimators=300,\n",
       "                       n_jobs=None, oob_score=False, random_state=None,\n",
       "                       verbose=0, warm_start=False)"
      ]
     },
     "execution_count": 87,
     "metadata": {
      "tags": []
     },
     "output_type": "execute_result"
    }
   ],
   "source": [
    "#Fit on whole training data\n",
    "rf_model.fit(X_TRAIN,Y_TRAIN)"
   ]
  },
  {
   "cell_type": "code",
   "execution_count": 0,
   "metadata": {
    "colab": {},
    "colab_type": "code",
    "id": "UC2T16qe8qE1"
   },
   "outputs": [],
   "source": [
    "test_score=rf_model.predict_proba(bd_test)[:,1]\n",
    "test_classes=(test_score>mycutoff).astype(int)\n",
    "pd.DataFrame(test_classes).to_csv(\"RANDOMFORESTSolution.csv\",index=False)"
   ]
  },
  {
   "cell_type": "markdown",
   "metadata": {
    "colab_type": "text",
    "id": "RtEoQjXD8qE6"
   },
   "source": [
    "# Gradient Boosting Machines\n"
   ]
  },
  {
   "cell_type": "code",
   "execution_count": 0,
   "metadata": {
    "colab": {},
    "colab_type": "code",
    "id": "toPKb5E28qE6"
   },
   "outputs": [],
   "source": [
    "from sklearn.ensemble import GradientBoostingClassifier\n",
    "from sklearn.model_selection import RandomizedSearchCV"
   ]
  },
  {
   "cell_type": "code",
   "execution_count": 0,
   "metadata": {
    "colab": {},
    "colab_type": "code",
    "id": "ITogoTWj8qFQ"
   },
   "outputs": [],
   "source": [
    "model=GradientBoostingClassifier()"
   ]
  },
  {
   "cell_type": "code",
   "execution_count": 0,
   "metadata": {
    "colab": {},
    "colab_type": "code",
    "id": "p_pAftna8qFW"
   },
   "outputs": [],
   "source": [
    "gbm_params={'n_estimators':[100,200,500],\n",
    "            'learning_rate':[0.01,0.05,0.1,0.4,0.8,1],\n",
    "              'max_depth':[1,2,3,4,5,6],\n",
    "               'subsample':[0.5,0.8,1],\n",
    "               'max_features':[5,10,15,20,25]}"
   ]
  },
  {
   "cell_type": "code",
   "execution_count": 0,
   "metadata": {
    "colab": {},
    "colab_type": "code",
    "id": "BpoUUHn78qFY"
   },
   "outputs": [],
   "source": [
    "random_search=RandomizedSearchCV(model,param_distributions=gbm_params,cv=10,n_iter=10,n_jobs=-1,\n",
    "                                scoring='roc_auc',verbose=False)"
   ]
  },
  {
   "cell_type": "code",
   "execution_count": 93,
   "metadata": {
    "colab": {
     "base_uri": "https://localhost:8080/",
     "height": 535
    },
    "colab_type": "code",
    "executionInfo": {
     "elapsed": 50555,
     "status": "ok",
     "timestamp": 1578887520121,
     "user": {
      "displayName": "Hariom Jangid",
      "photoUrl": "",
      "userId": "17999286889382918401"
     },
     "user_tz": -330
    },
    "id": "2hx3eNLG8qFb",
    "outputId": "16aa2d90-c8ef-4e5e-f3d7-deee12f9f099"
   },
   "outputs": [
    {
     "data": {
      "text/plain": [
       "RandomizedSearchCV(cv=10, error_score=nan,\n",
       "                   estimator=GradientBoostingClassifier(ccp_alpha=0.0,\n",
       "                                                        criterion='friedman_mse',\n",
       "                                                        init=None,\n",
       "                                                        learning_rate=0.1,\n",
       "                                                        loss='deviance',\n",
       "                                                        max_depth=3,\n",
       "                                                        max_features=None,\n",
       "                                                        max_leaf_nodes=None,\n",
       "                                                        min_impurity_decrease=0.0,\n",
       "                                                        min_impurity_split=None,\n",
       "                                                        min_samples_leaf=1,\n",
       "                                                        min_samples_split=2,\n",
       "                                                        min_weight_fraction_leaf=0.0,\n",
       "                                                        n_estimators=100,\n",
       "                                                        n_it...\n",
       "                                                        validation_fraction=0.1,\n",
       "                                                        verbose=0,\n",
       "                                                        warm_start=False),\n",
       "                   iid='deprecated', n_iter=10, n_jobs=-1,\n",
       "                   param_distributions={'learning_rate': [0.01, 0.05, 0.1, 0.4,\n",
       "                                                          0.8, 1],\n",
       "                                        'max_depth': [1, 2, 3, 4, 5, 6],\n",
       "                                        'max_features': [5, 10, 15, 20, 25],\n",
       "                                        'n_estimators': [100, 200, 500],\n",
       "                                        'subsample': [0.5, 0.8, 1]},\n",
       "                   pre_dispatch='2*n_jobs', random_state=None, refit=True,\n",
       "                   return_train_score=False, scoring='roc_auc', verbose=False)"
      ]
     },
     "execution_count": 93,
     "metadata": {
      "tags": []
     },
     "output_type": "execute_result"
    }
   ],
   "source": [
    "random_search.fit(x_train,y_train)"
   ]
  },
  {
   "cell_type": "code",
   "execution_count": 0,
   "metadata": {
    "colab": {},
    "colab_type": "code",
    "id": "n6bwmpDE8qFf"
   },
   "outputs": [],
   "source": [
    "def report(results, n_top=3):\n",
    "    for i in range(1, n_top + 1):\n",
    "        candidates = np.flatnonzero(results['rank_test_score'] == i)\n",
    "        for candidate in candidates:\n",
    "            print(\"Model with rank: {0}\".format(i))\n",
    "            print(\"Mean validation score: {0:.3f} (std: {1:.5f})\".format(\n",
    "                  results['mean_test_score'][candidate],\n",
    "                  results['std_test_score'][candidate]))\n",
    "            print(\"Parameters: {0}\".format(results['params'][candidate]))\n",
    "            print(\"\")"
   ]
  },
  {
   "cell_type": "code",
   "execution_count": 95,
   "metadata": {
    "colab": {
     "base_uri": "https://localhost:8080/",
     "height": 407
    },
    "colab_type": "code",
    "executionInfo": {
     "elapsed": 872,
     "status": "ok",
     "timestamp": 1578887931560,
     "user": {
      "displayName": "Hariom Jangid",
      "photoUrl": "",
      "userId": "17999286889382918401"
     },
     "user_tz": -330
    },
    "id": "BDYpnrco8qFh",
    "outputId": "84ccf9a2-df86-4cc7-8bad-7eaffce1fbac"
   },
   "outputs": [
    {
     "name": "stdout",
     "output_type": "stream",
     "text": [
      "Model with rank: 1\n",
      "Mean validation score: 0.773 (std: 0.04274)\n",
      "Parameters: {'subsample': 0.5, 'n_estimators': 200, 'max_features': 15, 'max_depth': 3, 'learning_rate': 0.05}\n",
      "\n",
      "Model with rank: 2\n",
      "Mean validation score: 0.771 (std: 0.04757)\n",
      "Parameters: {'subsample': 1, 'n_estimators': 100, 'max_features': 25, 'max_depth': 1, 'learning_rate': 0.05}\n",
      "\n",
      "Model with rank: 3\n",
      "Mean validation score: 0.769 (std: 0.03917)\n",
      "Parameters: {'subsample': 1, 'n_estimators': 200, 'max_features': 15, 'max_depth': 3, 'learning_rate': 0.05}\n",
      "\n",
      "Model with rank: 4\n",
      "Mean validation score: 0.767 (std: 0.04732)\n",
      "Parameters: {'subsample': 0.5, 'n_estimators': 200, 'max_features': 15, 'max_depth': 6, 'learning_rate': 0.01}\n",
      "\n",
      "Model with rank: 5\n",
      "Mean validation score: 0.757 (std: 0.03952)\n",
      "Parameters: {'subsample': 0.8, 'n_estimators': 200, 'max_features': 10, 'max_depth': 1, 'learning_rate': 0.4}\n",
      "\n"
     ]
    }
   ],
   "source": [
    "report(random_search.cv_results_,5)"
   ]
  },
  {
   "cell_type": "code",
   "execution_count": 98,
   "metadata": {
    "colab": {
     "base_uri": "https://localhost:8080/",
     "height": 202
    },
    "colab_type": "code",
    "executionInfo": {
     "elapsed": 1066,
     "status": "ok",
     "timestamp": 1578888004333,
     "user": {
      "displayName": "Hariom Jangid",
      "photoUrl": "",
      "userId": "17999286889382918401"
     },
     "user_tz": -330
    },
    "id": "JzIQsyp98qFk",
    "outputId": "feb083a1-d521-4bce-c30b-f2bce8376010"
   },
   "outputs": [
    {
     "data": {
      "text/plain": [
       "GradientBoostingClassifier(ccp_alpha=0.0, criterion='friedman_mse', init=None,\n",
       "                           learning_rate=0.05, loss='deviance', max_depth=3,\n",
       "                           max_features=15, max_leaf_nodes=None,\n",
       "                           min_impurity_decrease=0.0, min_impurity_split=None,\n",
       "                           min_samples_leaf=1, min_samples_split=2,\n",
       "                           min_weight_fraction_leaf=0.0, n_estimators=200,\n",
       "                           n_iter_no_change=None, presort='deprecated',\n",
       "                           random_state=None, subsample=0.5, tol=0.0001,\n",
       "                           validation_fraction=0.1, verbose=0,\n",
       "                           warm_start=False)"
      ]
     },
     "execution_count": 98,
     "metadata": {
      "tags": []
     },
     "output_type": "execute_result"
    }
   ],
   "source": [
    "gbm=random_search.best_estimator_\n",
    "gbm\n"
   ]
  },
  {
   "cell_type": "code",
   "execution_count": 99,
   "metadata": {
    "colab": {
     "base_uri": "https://localhost:8080/",
     "height": 202
    },
    "colab_type": "code",
    "executionInfo": {
     "elapsed": 1727,
     "status": "ok",
     "timestamp": 1578888009024,
     "user": {
      "displayName": "Hariom Jangid",
      "photoUrl": "",
      "userId": "17999286889382918401"
     },
     "user_tz": -330
    },
    "id": "e98pgb81DkZv",
    "outputId": "6ffee1f8-abf1-4843-b2b4-77f025d5d4ac"
   },
   "outputs": [
    {
     "data": {
      "text/plain": [
       "GradientBoostingClassifier(ccp_alpha=0.0, criterion='friedman_mse', init=None,\n",
       "                           learning_rate=0.05, loss='deviance', max_depth=3,\n",
       "                           max_features=15, max_leaf_nodes=None,\n",
       "                           min_impurity_decrease=0.0, min_impurity_split=None,\n",
       "                           min_samples_leaf=1, min_samples_split=2,\n",
       "                           min_weight_fraction_leaf=0.0, n_estimators=200,\n",
       "                           n_iter_no_change=None, presort='deprecated',\n",
       "                           random_state=None, subsample=0.5, tol=0.0001,\n",
       "                           validation_fraction=0.1, verbose=0,\n",
       "                           warm_start=False)"
      ]
     },
     "execution_count": 99,
     "metadata": {
      "tags": []
     },
     "output_type": "execute_result"
    }
   ],
   "source": [
    "gbm.fit(x_train,y_train)"
   ]
  },
  {
   "cell_type": "code",
   "execution_count": 0,
   "metadata": {
    "colab": {},
    "colab_type": "code",
    "id": "ZZA5dSie8qFn"
   },
   "outputs": [],
   "source": [
    "gbm_train_predicted = gbm.predict_proba(x_test)[:,1]\n",
    "real=y_test"
   ]
  },
  {
   "cell_type": "code",
   "execution_count": 0,
   "metadata": {
    "colab": {},
    "colab_type": "code",
    "id": "MKtF6-YGD33u"
   },
   "outputs": [],
   "source": [
    "cutoffs=np.linspace(0.01,0.99,99)"
   ]
  },
  {
   "cell_type": "code",
   "execution_count": 0,
   "metadata": {
    "colab": {},
    "colab_type": "code",
    "id": "Rn_IIFMWD4B4"
   },
   "outputs": [],
   "source": [
    "KS_all = []\n",
    "for cutoff in cutoffs:\n",
    "    predicted = (rf_train_predicted>cutoff).astype(int)\n",
    "    \n",
    "    TP = ((predicted==1) & (real==1)).sum()\n",
    "    TN = ((predicted==0) & (real==0)).sum()\n",
    "    FP = ((predicted==1) & (real==0)).sum()\n",
    "    FN = ((predicted==0) & (real==1)).sum()\n",
    "    \n",
    "    P = TP + FN\n",
    "    N = TN + FP\n",
    "    \n",
    "    KS = (TP/P)-(FP/N)\n",
    "    KS_all.append(KS)"
   ]
  },
  {
   "cell_type": "code",
   "execution_count": 111,
   "metadata": {
    "colab": {
     "base_uri": "https://localhost:8080/",
     "height": 36
    },
    "colab_type": "code",
    "executionInfo": {
     "elapsed": 1123,
     "status": "ok",
     "timestamp": 1578888499566,
     "user": {
      "displayName": "Hariom Jangid",
      "photoUrl": "",
      "userId": "17999286889382918401"
     },
     "user_tz": -330
    },
    "id": "isFG72wWEIKr",
    "outputId": "276d15ca-6877-496d-d8a8-6d9866cf3d14"
   },
   "outputs": [
    {
     "data": {
      "text/plain": [
       "0.06999999999999999"
      ]
     },
     "execution_count": 111,
     "metadata": {
      "tags": []
     },
     "output_type": "execute_result"
    }
   ],
   "source": [
    "mycutoff = cutoffs[KS_all == max(KS_all)][0]\n",
    "mycutoff"
   ]
  },
  {
   "cell_type": "code",
   "execution_count": 112,
   "metadata": {
    "colab": {
     "base_uri": "https://localhost:8080/",
     "height": 36
    },
    "colab_type": "code",
    "executionInfo": {
     "elapsed": 1216,
     "status": "ok",
     "timestamp": 1578888503362,
     "user": {
      "displayName": "Hariom Jangid",
      "photoUrl": "",
      "userId": "17999286889382918401"
     },
     "user_tz": -330
    },
    "id": "s0bc6mjCEhHn",
    "outputId": "0a92ca0a-0bf3-467c-ef8d-28c7e79f7055"
   },
   "outputs": [
    {
     "data": {
      "text/plain": [
       "array([0, 1, 0, ..., 0, 1, 0])"
      ]
     },
     "execution_count": 112,
     "metadata": {
      "tags": []
     },
     "output_type": "execute_result"
    }
   ],
   "source": [
    "gbm_hardclasses = (gbm_train_predicted > mycutoff).astype(int)\n",
    "gbm_hardclasses"
   ]
  },
  {
   "cell_type": "code",
   "execution_count": 116,
   "metadata": {
    "colab": {
     "base_uri": "https://localhost:8080/",
     "height": 36
    },
    "colab_type": "code",
    "executionInfo": {
     "elapsed": 1026,
     "status": "ok",
     "timestamp": 1578888707624,
     "user": {
      "displayName": "Hariom Jangid",
      "photoUrl": "",
      "userId": "17999286889382918401"
     },
     "user_tz": -330
    },
    "id": "w0xlzVko8qFq",
    "outputId": "470b5439-f947-48e7-fc5b-82eedacf06d9"
   },
   "outputs": [
    {
     "data": {
      "text/plain": [
       "0.741611219830398"
      ]
     },
     "execution_count": 116,
     "metadata": {
      "tags": []
     },
     "output_type": "execute_result"
    }
   ],
   "source": [
    "roc_auc_score(y_test,gbm_train_predicted)"
   ]
  },
  {
   "cell_type": "code",
   "execution_count": 117,
   "metadata": {
    "colab": {
     "base_uri": "https://localhost:8080/",
     "height": 143
    },
    "colab_type": "code",
    "executionInfo": {
     "elapsed": 834,
     "status": "ok",
     "timestamp": 1578888718793,
     "user": {
      "displayName": "Hariom Jangid",
      "photoUrl": "",
      "userId": "17999286889382918401"
     },
     "user_tz": -330
    },
    "id": "YcLAaJnyEui-",
    "outputId": "6ee347af-3c2b-491f-9d2a-2e5655c5a2a2"
   },
   "outputs": [
    {
     "data": {
      "text/html": [
       "<div>\n",
       "<style scoped>\n",
       "    .dataframe tbody tr th:only-of-type {\n",
       "        vertical-align: middle;\n",
       "    }\n",
       "\n",
       "    .dataframe tbody tr th {\n",
       "        vertical-align: top;\n",
       "    }\n",
       "\n",
       "    .dataframe thead th {\n",
       "        text-align: right;\n",
       "    }\n",
       "</style>\n",
       "<table border=\"1\" class=\"dataframe\">\n",
       "  <thead>\n",
       "    <tr style=\"text-align: right;\">\n",
       "      <th>Predicted</th>\n",
       "      <th>0</th>\n",
       "      <th>1</th>\n",
       "    </tr>\n",
       "    <tr>\n",
       "      <th>Real</th>\n",
       "      <th></th>\n",
       "      <th></th>\n",
       "    </tr>\n",
       "  </thead>\n",
       "  <tbody>\n",
       "    <tr>\n",
       "      <th>0.0</th>\n",
       "      <td>802</td>\n",
       "      <td>293</td>\n",
       "    </tr>\n",
       "    <tr>\n",
       "      <th>1.0</th>\n",
       "      <td>25</td>\n",
       "      <td>45</td>\n",
       "    </tr>\n",
       "  </tbody>\n",
       "</table>\n",
       "</div>"
      ],
      "text/plain": [
       "Predicted    0    1\n",
       "Real               \n",
       "0.0        802  293\n",
       "1.0         25   45"
      ]
     },
     "execution_count": 117,
     "metadata": {
      "tags": []
     },
     "output_type": "execute_result"
    }
   ],
   "source": [
    "#Lets build confusion matrix\n",
    "pd.crosstab(df[\"Real\"], df[\"Predicted\"])"
   ]
  },
  {
   "cell_type": "code",
   "execution_count": 118,
   "metadata": {
    "colab": {
     "base_uri": "https://localhost:8080/",
     "height": 36
    },
    "colab_type": "code",
    "executionInfo": {
     "elapsed": 956,
     "status": "ok",
     "timestamp": 1578888731535,
     "user": {
      "displayName": "Hariom Jangid",
      "photoUrl": "",
      "userId": "17999286889382918401"
     },
     "user_tz": -330
    },
    "id": "718Y2on4Eutf",
    "outputId": "b67f30f5-e28d-4d18-bec0-f11746dea9d6"
   },
   "outputs": [
    {
     "data": {
      "text/plain": [
       "0.33333333333333337"
      ]
     },
     "execution_count": 118,
     "metadata": {
      "tags": []
     },
     "output_type": "execute_result"
    }
   ],
   "source": [
    "fbeta_score(y_test,gbm_hardclasses,beta=2)#f-beta score for beta=2"
   ]
  },
  {
   "cell_type": "code",
   "execution_count": 119,
   "metadata": {
    "colab": {
     "base_uri": "https://localhost:8080/",
     "height": 202
    },
    "colab_type": "code",
    "executionInfo": {
     "elapsed": 1455,
     "status": "ok",
     "timestamp": 1578888829230,
     "user": {
      "displayName": "Hariom Jangid",
      "photoUrl": "",
      "userId": "17999286889382918401"
     },
     "user_tz": -330
    },
    "id": "VAm7TuptGlk8",
    "outputId": "d928c5a3-7848-412b-dfdd-e7b459f369b2"
   },
   "outputs": [
    {
     "data": {
      "text/plain": [
       "GradientBoostingClassifier(ccp_alpha=0.0, criterion='friedman_mse', init=None,\n",
       "                           learning_rate=0.05, loss='deviance', max_depth=3,\n",
       "                           max_features=15, max_leaf_nodes=None,\n",
       "                           min_impurity_decrease=0.0, min_impurity_split=None,\n",
       "                           min_samples_leaf=1, min_samples_split=2,\n",
       "                           min_weight_fraction_leaf=0.0, n_estimators=200,\n",
       "                           n_iter_no_change=None, presort='deprecated',\n",
       "                           random_state=None, subsample=0.5, tol=0.0001,\n",
       "                           validation_fraction=0.1, verbose=0,\n",
       "                           warm_start=False)"
      ]
     },
     "execution_count": 119,
     "metadata": {
      "tags": []
     },
     "output_type": "execute_result"
    }
   ],
   "source": [
    "#Fit on whole training data\n",
    "gbm.fit(X_TRAIN,Y_TRAIN)"
   ]
  },
  {
   "cell_type": "code",
   "execution_count": 0,
   "metadata": {
    "colab": {},
    "colab_type": "code",
    "id": "Fzn4bqVqGOKf"
   },
   "outputs": [],
   "source": [
    "test_score=gbm.predict_proba(bd_test)[:,1]\n",
    "test_classes=(test_score>mycutoff).astype(int)\n",
    "pd.DataFrame(test_classes).to_csv(\"GBMSolution.csv\",index=False)"
   ]
  },
  {
   "cell_type": "code",
   "execution_count": 0,
   "metadata": {
    "colab": {},
    "colab_type": "code",
    "id": "dr8dW4hNGOcS"
   },
   "outputs": [],
   "source": []
  },
  {
   "cell_type": "markdown",
   "metadata": {
    "colab_type": "text",
    "id": "NfpNQRbN8qFt"
   },
   "source": [
    "# XGBOOST"
   ]
  },
  {
   "cell_type": "code",
   "execution_count": 0,
   "metadata": {
    "colab": {},
    "colab_type": "code",
    "id": "uULB68kd8qFv"
   },
   "outputs": [],
   "source": [
    "from xgboost.sklearn import XGBClassifier"
   ]
  },
  {
   "cell_type": "code",
   "execution_count": 0,
   "metadata": {
    "colab": {},
    "colab_type": "code",
    "id": "Moa2OgRT8qFz"
   },
   "outputs": [],
   "source": [
    "xgb_params = {  \n",
    "                \"learning_rate\":[0.01,0.05,0.1,0.3,0.5],\n",
    "                \"gamma\":[i/10.0 for i in range(0,5)],#change in ginni index\n",
    "                \"max_depth\": [2,3,4,5,6,7,8],\n",
    "                \"min_child_weight\":[1,2,5,10],#no of samples falling in each node\n",
    "                \"max_delta_step\":[0,1,2,5,10],#control the upcoming updates\n",
    "                \"subsample\":[i/10.0 for i in range(5,10)],#percentages of data points in each tree\n",
    "                \"colsample_bytree\":[i/10.0 for i in range(5,10)],#how many columns in one tree goes\n",
    "                \"colsample_bylevel\":[i/10.0 for i in range(5,10)],#\n",
    "                \"reg_lambda\":[1e-5, 1e-2, 0.1, 1, 100], #control penarization factor\n",
    "                \"reg_alpha\":[1e-5, 1e-2, 0.1, 1, 100],\n",
    "                \"scale_pos_weight\":[1,2,3,4,5,6,7,8,9],\n",
    "                \"n_estimators\":[100,500,700,1000]\n",
    "             }"
   ]
  },
  {
   "cell_type": "code",
   "execution_count": 123,
   "metadata": {
    "colab": {
     "base_uri": "https://localhost:8080/",
     "height": 36
    },
    "colab_type": "code",
    "executionInfo": {
     "elapsed": 919,
     "status": "ok",
     "timestamp": 1578888872883,
     "user": {
      "displayName": "Hariom Jangid",
      "photoUrl": "",
      "userId": "17999286889382918401"
     },
     "user_tz": -330
    },
    "id": "TbWr-JmP8qF2",
    "outputId": "a401d120-89c3-49a1-b12c-bf7d82a91550"
   },
   "outputs": [
    {
     "data": {
      "text/plain": [
       "393750000"
      ]
     },
     "execution_count": 123,
     "metadata": {
      "tags": []
     },
     "output_type": "execute_result"
    }
   ],
   "source": [
    "5*5*7*4*5*5*5*5*5*5*9*4"
   ]
  },
  {
   "cell_type": "code",
   "execution_count": 0,
   "metadata": {
    "colab": {},
    "colab_type": "code",
    "id": "o4owwQBe8qF6"
   },
   "outputs": [],
   "source": [
    "xgb=XGBClassifier(objective='binary:logistic')\n"
   ]
  },
  {
   "cell_type": "code",
   "execution_count": 0,
   "metadata": {
    "colab": {},
    "colab_type": "code",
    "id": "ac1Hv-eC8qF9"
   },
   "outputs": [],
   "source": [
    "n_iter=10\n",
    "\n",
    "random_search=RandomizedSearchCV(xgb,n_jobs=-1,cv=5,n_iter=n_iter,scoring='roc_auc',\n",
    "                                 param_distributions=xgb_params)"
   ]
  },
  {
   "cell_type": "code",
   "execution_count": 136,
   "metadata": {
    "colab": {
     "base_uri": "https://localhost:8080/",
     "height": 461
    },
    "colab_type": "code",
    "executionInfo": {
     "elapsed": 183381,
     "status": "ok",
     "timestamp": 1578889810846,
     "user": {
      "displayName": "Hariom Jangid",
      "photoUrl": "",
      "userId": "17999286889382918401"
     },
     "user_tz": -330
    },
    "id": "VxnmiBw28qF_",
    "outputId": "bf60c94a-1549-4eb3-a1fe-262b7b88a4d6"
   },
   "outputs": [
    {
     "data": {
      "text/plain": [
       "RandomizedSearchCV(cv=5, error_score=nan,\n",
       "                   estimator=XGBClassifier(base_score=0.5, booster='gbtree',\n",
       "                                           colsample_bylevel=1,\n",
       "                                           colsample_bynode=1,\n",
       "                                           colsample_bytree=1, gamma=0,\n",
       "                                           learning_rate=0.1, max_delta_step=0,\n",
       "                                           max_depth=3, min_child_weight=1,\n",
       "                                           missing=None, n_estimators=100,\n",
       "                                           n_jobs=1, nthread=None,\n",
       "                                           objective='binary:logistic',\n",
       "                                           random_state=0, reg_alpha=0,\n",
       "                                           reg_lambda=1, sc...\n",
       "                                        'max_delta_step': [0, 1, 2, 5, 10],\n",
       "                                        'max_depth': [2, 3, 4, 5, 6, 7, 8],\n",
       "                                        'min_child_weight': [1, 2, 5, 10],\n",
       "                                        'n_estimators': [100, 500, 700, 1000],\n",
       "                                        'reg_alpha': [1e-05, 0.01, 0.1, 1, 100],\n",
       "                                        'reg_lambda': [1e-05, 0.01, 0.1, 1,\n",
       "                                                       100],\n",
       "                                        'scale_pos_weight': [1, 2, 3, 4, 5, 6,\n",
       "                                                             7, 8, 9],\n",
       "                                        'subsample': [0.5, 0.6, 0.7, 0.8, 0.9]},\n",
       "                   pre_dispatch='2*n_jobs', random_state=None, refit=True,\n",
       "                   return_train_score=False, scoring='roc_auc', verbose=0)"
      ]
     },
     "execution_count": 136,
     "metadata": {
      "tags": []
     },
     "output_type": "execute_result"
    }
   ],
   "source": [
    "random_search.fit(x_train,y_train)"
   ]
  },
  {
   "cell_type": "code",
   "execution_count": 137,
   "metadata": {
    "colab": {
     "base_uri": "https://localhost:8080/",
     "height": 407
    },
    "colab_type": "code",
    "executionInfo": {
     "elapsed": 980,
     "status": "ok",
     "timestamp": 1578889927327,
     "user": {
      "displayName": "Hariom Jangid",
      "photoUrl": "",
      "userId": "17999286889382918401"
     },
     "user_tz": -330
    },
    "id": "AIMOI05xIdRR",
    "outputId": "631f2015-2f1c-4f9a-8f4c-87e388031cb0"
   },
   "outputs": [
    {
     "name": "stdout",
     "output_type": "stream",
     "text": [
      "Model with rank: 1\n",
      "Mean validation score: 0.770 (std: 0.02645)\n",
      "Parameters: {'subsample': 0.7, 'scale_pos_weight': 8, 'reg_lambda': 100, 'reg_alpha': 100, 'n_estimators': 500, 'min_child_weight': 1, 'max_depth': 6, 'max_delta_step': 1, 'learning_rate': 0.3, 'gamma': 0.1, 'colsample_bytree': 0.6, 'colsample_bylevel': 0.8}\n",
      "\n",
      "Model with rank: 2\n",
      "Mean validation score: 0.766 (std: 0.02889)\n",
      "Parameters: {'subsample': 0.9, 'scale_pos_weight': 6, 'reg_lambda': 1e-05, 'reg_alpha': 100, 'n_estimators': 1000, 'min_child_weight': 5, 'max_depth': 6, 'max_delta_step': 5, 'learning_rate': 0.05, 'gamma': 0.1, 'colsample_bytree': 0.5, 'colsample_bylevel': 0.8}\n",
      "\n",
      "Model with rank: 3\n",
      "Mean validation score: 0.765 (std: 0.03423)\n",
      "Parameters: {'subsample': 0.6, 'scale_pos_weight': 1, 'reg_lambda': 100, 'reg_alpha': 0.1, 'n_estimators': 500, 'min_child_weight': 1, 'max_depth': 3, 'max_delta_step': 1, 'learning_rate': 0.01, 'gamma': 0.2, 'colsample_bytree': 0.5, 'colsample_bylevel': 0.8}\n",
      "\n",
      "Model with rank: 4\n",
      "Mean validation score: 0.731 (std: 0.02960)\n",
      "Parameters: {'subsample': 0.9, 'scale_pos_weight': 1, 'reg_lambda': 0.01, 'reg_alpha': 100, 'n_estimators': 500, 'min_child_weight': 10, 'max_depth': 6, 'max_delta_step': 0, 'learning_rate': 0.1, 'gamma': 0.3, 'colsample_bytree': 0.7, 'colsample_bylevel': 0.7}\n",
      "\n",
      "Model with rank: 5\n",
      "Mean validation score: 0.704 (std: 0.02939)\n",
      "Parameters: {'subsample': 0.9, 'scale_pos_weight': 2, 'reg_lambda': 1e-05, 'reg_alpha': 1e-05, 'n_estimators': 1000, 'min_child_weight': 2, 'max_depth': 7, 'max_delta_step': 1, 'learning_rate': 0.1, 'gamma': 0.4, 'colsample_bytree': 0.6, 'colsample_bylevel': 0.8}\n",
      "\n"
     ]
    }
   ],
   "source": [
    "report(random_search.cv_results_,5)"
   ]
  },
  {
   "cell_type": "code",
   "execution_count": 138,
   "metadata": {
    "colab": {
     "base_uri": "https://localhost:8080/",
     "height": 147
    },
    "colab_type": "code",
    "executionInfo": {
     "elapsed": 1011,
     "status": "ok",
     "timestamp": 1578889931283,
     "user": {
      "displayName": "Hariom Jangid",
      "photoUrl": "",
      "userId": "17999286889382918401"
     },
     "user_tz": -330
    },
    "id": "8OfsWfUK8qGD",
    "outputId": "c241d704-56f3-4178-cd8f-379a7999c946"
   },
   "outputs": [
    {
     "data": {
      "text/plain": [
       "XGBClassifier(base_score=0.5, booster='gbtree', colsample_bylevel=0.8,\n",
       "              colsample_bynode=1, colsample_bytree=0.6, gamma=0.1,\n",
       "              learning_rate=0.3, max_delta_step=1, max_depth=6,\n",
       "              min_child_weight=1, missing=None, n_estimators=500, n_jobs=1,\n",
       "              nthread=None, objective='binary:logistic', random_state=0,\n",
       "              reg_alpha=100, reg_lambda=100, scale_pos_weight=8, seed=None,\n",
       "              silent=None, subsample=0.7, verbosity=1)"
      ]
     },
     "execution_count": 138,
     "metadata": {
      "tags": []
     },
     "output_type": "execute_result"
    }
   ],
   "source": [
    "xgb_best=random_search.best_estimator_\n",
    "xgb_best"
   ]
  },
  {
   "cell_type": "code",
   "execution_count": 139,
   "metadata": {
    "colab": {
     "base_uri": "https://localhost:8080/",
     "height": 147
    },
    "colab_type": "code",
    "executionInfo": {
     "elapsed": 5017,
     "status": "ok",
     "timestamp": 1578889943939,
     "user": {
      "displayName": "Hariom Jangid",
      "photoUrl": "",
      "userId": "17999286889382918401"
     },
     "user_tz": -330
    },
    "id": "hmaEbgxc8qGF",
    "outputId": "0839ad32-270b-48f0-a5fd-0337a7256b0e"
   },
   "outputs": [
    {
     "data": {
      "text/plain": [
       "XGBClassifier(base_score=0.5, booster='gbtree', colsample_bylevel=0.8,\n",
       "              colsample_bynode=1, colsample_bytree=0.6, gamma=0.1,\n",
       "              learning_rate=0.3, max_delta_step=1, max_depth=6,\n",
       "              min_child_weight=1, missing=None, n_estimators=500, n_jobs=1,\n",
       "              nthread=None, objective='binary:logistic', random_state=0,\n",
       "              reg_alpha=100, reg_lambda=100, scale_pos_weight=8, seed=None,\n",
       "              silent=None, subsample=0.7, verbosity=1)"
      ]
     },
     "execution_count": 139,
     "metadata": {
      "tags": []
     },
     "output_type": "execute_result"
    }
   ],
   "source": [
    "xgb_best.fit(x_train,y_train)"
   ]
  },
  {
   "cell_type": "code",
   "execution_count": 141,
   "metadata": {
    "colab": {
     "base_uri": "https://localhost:8080/",
     "height": 54
    },
    "colab_type": "code",
    "executionInfo": {
     "elapsed": 981,
     "status": "ok",
     "timestamp": 1578890007022,
     "user": {
      "displayName": "Hariom Jangid",
      "photoUrl": "",
      "userId": "17999286889382918401"
     },
     "user_tz": -330
    },
    "id": "YNRzaoIP8qGH",
    "outputId": "5d7d841e-467d-4a8e-f95f-03d90545e235"
   },
   "outputs": [
    {
     "data": {
      "text/plain": [
       "array([0.31908792, 0.55503273, 0.15913653, ..., 0.23048818, 0.5411056 ,\n",
       "       0.22108056], dtype=float32)"
      ]
     },
     "execution_count": 141,
     "metadata": {
      "tags": []
     },
     "output_type": "execute_result"
    }
   ],
   "source": [
    "xgb_train_prediction=xgb_best.predict_proba(x_test)[:,1]\n",
    "xgb_train_prediction"
   ]
  },
  {
   "cell_type": "code",
   "execution_count": 143,
   "metadata": {
    "colab": {
     "base_uri": "https://localhost:8080/",
     "height": 36
    },
    "colab_type": "code",
    "executionInfo": {
     "elapsed": 999,
     "status": "ok",
     "timestamp": 1578890071381,
     "user": {
      "displayName": "Hariom Jangid",
      "photoUrl": "",
      "userId": "17999286889382918401"
     },
     "user_tz": -330
    },
    "id": "sdjwA9uF8qGJ",
    "outputId": "6ed0a7f4-1527-4500-86a7-4a121be77ff6"
   },
   "outputs": [
    {
     "data": {
      "text/plain": [
       "0.7493998695368559"
      ]
     },
     "execution_count": 143,
     "metadata": {
      "tags": []
     },
     "output_type": "execute_result"
    }
   ],
   "source": [
    "roc_auc_score(y_test,xgb_train_prediction)"
   ]
  },
  {
   "cell_type": "code",
   "execution_count": 0,
   "metadata": {
    "colab": {},
    "colab_type": "code",
    "id": "C5c9Qo3Q8qGK"
   },
   "outputs": [],
   "source": []
  },
  {
   "cell_type": "markdown",
   "metadata": {
    "colab_type": "text",
    "id": "ygqNuiJs8qGN"
   },
   "source": [
    "# KNN"
   ]
  },
  {
   "cell_type": "code",
   "execution_count": 0,
   "metadata": {
    "colab": {},
    "colab_type": "code",
    "id": "BOR3UaeO8qGP"
   },
   "outputs": [],
   "source": [
    "from sklearn.neighbors import KNeighborsClassifier\n"
   ]
  },
  {
   "cell_type": "code",
   "execution_count": 148,
   "metadata": {
    "colab": {
     "base_uri": "https://localhost:8080/",
     "height": 73
    },
    "colab_type": "code",
    "executionInfo": {
     "elapsed": 1056,
     "status": "ok",
     "timestamp": 1578890486399,
     "user": {
      "displayName": "Hariom Jangid",
      "photoUrl": "",
      "userId": "17999286889382918401"
     },
     "user_tz": -330
    },
    "id": "rH_4j-Al8qGS",
    "outputId": "32273596-4b5b-4e29-8471-b1a3db150820"
   },
   "outputs": [
    {
     "data": {
      "text/plain": [
       "KNeighborsClassifier(algorithm='auto', leaf_size=30, metric='minkowski',\n",
       "                     metric_params=None, n_jobs=None, n_neighbors=5, p=2,\n",
       "                     weights='distance')"
      ]
     },
     "execution_count": 148,
     "metadata": {
      "tags": []
     },
     "output_type": "execute_result"
    }
   ],
   "source": [
    "knn=KNeighborsClassifier(n_neighbors=5,weights='distance')\n",
    "knn.fit(x_train,y_train)"
   ]
  },
  {
   "cell_type": "code",
   "execution_count": 0,
   "metadata": {
    "colab": {},
    "colab_type": "code",
    "id": "ofAYgNYi8qGX"
   },
   "outputs": [],
   "source": [
    "knn_train_prediction=knn.predict(x_test)"
   ]
  },
  {
   "cell_type": "code",
   "execution_count": 154,
   "metadata": {
    "colab": {
     "base_uri": "https://localhost:8080/",
     "height": 36
    },
    "colab_type": "code",
    "executionInfo": {
     "elapsed": 987,
     "status": "ok",
     "timestamp": 1578890635113,
     "user": {
      "displayName": "Hariom Jangid",
      "photoUrl": "",
      "userId": "17999286889382918401"
     },
     "user_tz": -330
    },
    "id": "0mHtdhpXNaM3",
    "outputId": "05a3a303-f4c1-4915-9a79-7f9c47fe3a0a"
   },
   "outputs": [
    {
     "data": {
      "text/plain": [
       "array([0., 0., 0., ..., 0., 0., 0.])"
      ]
     },
     "execution_count": 154,
     "metadata": {
      "tags": []
     },
     "output_type": "execute_result"
    }
   ],
   "source": [
    "knn_train_prediction"
   ]
  },
  {
   "cell_type": "code",
   "execution_count": 0,
   "metadata": {
    "colab": {},
    "colab_type": "code",
    "id": "jWxc3xRsNb8G"
   },
   "outputs": [],
   "source": [
    "from sklearn.metrics import accuracy_score"
   ]
  },
  {
   "cell_type": "code",
   "execution_count": 156,
   "metadata": {
    "colab": {
     "base_uri": "https://localhost:8080/",
     "height": 36
    },
    "colab_type": "code",
    "executionInfo": {
     "elapsed": 1127,
     "status": "ok",
     "timestamp": 1578890645963,
     "user": {
      "displayName": "Hariom Jangid",
      "photoUrl": "",
      "userId": "17999286889382918401"
     },
     "user_tz": -330
    },
    "id": "r2XyE4EVNoVR",
    "outputId": "a8e6222e-453f-4bdb-81d3-f1dbe2aa9fe6"
   },
   "outputs": [
    {
     "data": {
      "text/plain": [
       "0.9296137339055794"
      ]
     },
     "execution_count": 156,
     "metadata": {
      "tags": []
     },
     "output_type": "execute_result"
    }
   ],
   "source": [
    "accuracy_score(y_test,knn_train_prediction)"
   ]
  },
  {
   "cell_type": "code",
   "execution_count": 157,
   "metadata": {
    "colab": {
     "base_uri": "https://localhost:8080/",
     "height": 36
    },
    "colab_type": "code",
    "executionInfo": {
     "elapsed": 960,
     "status": "ok",
     "timestamp": 1578890664976,
     "user": {
      "displayName": "Hariom Jangid",
      "photoUrl": "",
      "userId": "17999286889382918401"
     },
     "user_tz": -330
    },
    "id": "AVcNR0ytNsrJ",
    "outputId": "9a09a6f9-fcf3-4f84-9f38-44e67e4cf3e0"
   },
   "outputs": [
    {
     "data": {
      "text/plain": [
       "0.5078930202217873"
      ]
     },
     "execution_count": 157,
     "metadata": {
      "tags": []
     },
     "output_type": "execute_result"
    }
   ],
   "source": [
    "roc_auc_score(y_test,knn_train_prediction)"
   ]
  },
  {
   "cell_type": "code",
   "execution_count": 0,
   "metadata": {
    "colab": {},
    "colab_type": "code",
    "id": "TQNiFgkPN5cV"
   },
   "outputs": [],
   "source": []
  },
  {
   "cell_type": "markdown",
   "metadata": {
    "colab_type": "text",
    "id": "6CXAgGLaOchb"
   },
   "source": [
    "# Naive Bayes"
   ]
  },
  {
   "cell_type": "code",
   "execution_count": 0,
   "metadata": {
    "colab": {},
    "colab_type": "code",
    "id": "vJwGm_jtOkbQ"
   },
   "outputs": [],
   "source": [
    "from sklearn.naive_bayes import BernoulliNB"
   ]
  },
  {
   "cell_type": "code",
   "execution_count": 0,
   "metadata": {
    "colab": {},
    "colab_type": "code",
    "id": "wafN2OZlOrhX"
   },
   "outputs": [],
   "source": [
    "gnb=BernoulliNB()"
   ]
  },
  {
   "cell_type": "code",
   "execution_count": 165,
   "metadata": {
    "colab": {
     "base_uri": "https://localhost:8080/",
     "height": 36
    },
    "colab_type": "code",
    "executionInfo": {
     "elapsed": 910,
     "status": "ok",
     "timestamp": 1578891019890,
     "user": {
      "displayName": "Hariom Jangid",
      "photoUrl": "",
      "userId": "17999286889382918401"
     },
     "user_tz": -330
    },
    "id": "BC7VAfcdOuZN",
    "outputId": "d7532a20-b38b-4897-f471-28a7de839271"
   },
   "outputs": [
    {
     "data": {
      "text/plain": [
       "BernoulliNB(alpha=1.0, binarize=0.0, class_prior=None, fit_prior=True)"
      ]
     },
     "execution_count": 165,
     "metadata": {
      "tags": []
     },
     "output_type": "execute_result"
    }
   ],
   "source": [
    "gnb.fit(x_train,y_train)"
   ]
  },
  {
   "cell_type": "code",
   "execution_count": 0,
   "metadata": {
    "colab": {},
    "colab_type": "code",
    "id": "ApYJ5gi-OyS-"
   },
   "outputs": [],
   "source": [
    "gnb_predict=gnb.predict(x_test)"
   ]
  },
  {
   "cell_type": "code",
   "execution_count": 167,
   "metadata": {
    "colab": {
     "base_uri": "https://localhost:8080/",
     "height": 36
    },
    "colab_type": "code",
    "executionInfo": {
     "elapsed": 699,
     "status": "ok",
     "timestamp": 1578891023436,
     "user": {
      "displayName": "Hariom Jangid",
      "photoUrl": "",
      "userId": "17999286889382918401"
     },
     "user_tz": -330
    },
    "id": "tH8sGzpGO7nf",
    "outputId": "f65b5efa-d757-4974-83d5-76aa7aaf9296"
   },
   "outputs": [
    {
     "data": {
      "text/plain": [
       "0.8515021459227468"
      ]
     },
     "execution_count": 167,
     "metadata": {
      "tags": []
     },
     "output_type": "execute_result"
    }
   ],
   "source": [
    "accuracy_score(y_test,gnb_predict)"
   ]
  },
  {
   "cell_type": "code",
   "execution_count": 168,
   "metadata": {
    "colab": {
     "base_uri": "https://localhost:8080/",
     "height": 36
    },
    "colab_type": "code",
    "executionInfo": {
     "elapsed": 1318,
     "status": "ok",
     "timestamp": 1578891042506,
     "user": {
      "displayName": "Hariom Jangid",
      "photoUrl": "",
      "userId": "17999286889382918401"
     },
     "user_tz": -330
    },
    "id": "Q0yeouB2PBqt",
    "outputId": "fb525995-2434-4bc4-f509-ea0cea311809"
   },
   "outputs": [
    {
     "data": {
      "text/plain": [
       "0.6201239399869537"
      ]
     },
     "execution_count": 168,
     "metadata": {
      "tags": []
     },
     "output_type": "execute_result"
    }
   ],
   "source": [
    "roc_auc_score(y_test,gnb_predict)"
   ]
  },
  {
   "cell_type": "code",
   "execution_count": 0,
   "metadata": {
    "colab": {},
    "colab_type": "code",
    "id": "dtQCpeLNPVgq"
   },
   "outputs": [],
   "source": []
  }
 ],
 "metadata": {
  "colab": {
   "collapsed_sections": [],
   "name": "Carvan_Insurance_prediction.ipynb",
   "provenance": []
  },
  "kernelspec": {
   "display_name": "Python 3",
   "language": "python",
   "name": "python3"
  },
  "language_info": {
   "codemirror_mode": {
    "name": "ipython",
    "version": 3
   },
   "file_extension": ".py",
   "mimetype": "text/x-python",
   "name": "python",
   "nbconvert_exporter": "python",
   "pygments_lexer": "ipython3",
   "version": "3.7.3"
  }
 },
 "nbformat": 4,
 "nbformat_minor": 1
}
